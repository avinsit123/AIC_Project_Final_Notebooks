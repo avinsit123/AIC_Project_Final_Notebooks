{
 "cells": [
  {
   "cell_type": "code",
   "execution_count": null,
   "id": "a7fe5699",
   "metadata": {},
   "outputs": [],
   "source": [
    "import openfl.native as fx\n",
    "from openfl.federated import FederatedModel, FederatedDataSet"
   ]
  },
  {
   "cell_type": "code",
   "execution_count": null,
   "id": "7a0a7782",
   "metadata": {},
   "outputs": [],
   "source": [
    "from importlib import reload\n",
    "import sys\n",
    "\n",
    "%load_ext autoreload\n",
    "%autoreload 2"
   ]
  },
  {
   "cell_type": "code",
   "execution_count": null,
   "id": "1a75e8b6",
   "metadata": {},
   "outputs": [],
   "source": [
    "import DataSplitterMethods\n",
    "data_splitter = DataSplitterMethods.SplitFunctionGenerator(\"Equal-Equal-Split\")"
   ]
  },
  {
   "cell_type": "markdown",
   "id": "5c31e0a0",
   "metadata": {},
   "source": [
    "## Load Dataset and Transfer \n",
    "### Define Torch Dataloader"
   ]
  },
  {
   "cell_type": "code",
   "execution_count": null,
   "id": "cc7b3314",
   "metadata": {},
   "outputs": [],
   "source": [
    "import torch\n",
    "import torchvision\n",
    "from torchvision import transforms\n",
    "transform = transforms.Compose([\n",
    "    transforms.Resize((224, 224)),\n",
    "    transforms.ToTensor(),\n",
    "    transforms.Normalize(mean=[0.485, 0.456, 0.406],\n",
    "                         std=[0.229, 0.224, 0.225])\n",
    "])\n",
    "\n",
    "## Replace here with path of your folder. \n",
    "dataset = torchvision.datasets.ImageFolder(root='/home/avinash123/Desktop/Spring 2023/CS6675/FinalProject/archive/gaussian_filtered_images/gaussian_filtered_images', transform=transform)\n",
    "dataloader = torch.utils.data.DataLoader(dataset, batch_size=32, shuffle=True, num_workers=4)"
   ]
  },
  {
   "cell_type": "markdown",
   "id": "eb997f59",
   "metadata": {},
   "source": [
    "### Display data into train and valid sets"
   ]
  },
  {
   "cell_type": "code",
   "execution_count": null,
   "id": "1f60f03c",
   "metadata": {},
   "outputs": [],
   "source": [
    "import matplotlib.pyplot as plt\n",
    "import numpy as np\n",
    "\n",
    "def index_to_class_name(index, dataset):\n",
    "    return dataset.classes[index]\n",
    "\n",
    "len_images = 10\n",
    "images, labels = next(iter(dataloader))\n",
    "sample_indices = np.random.choice(len(images), len_images, replace=False)\n",
    "sample_images = images[sample_indices]\n",
    "sample_labels = labels[sample_indices]\n",
    "\n",
    "for i, image in enumerate(sample_images):\n",
    "    class_name = index_to_class_name(sample_labels[i], dataset)\n",
    "    plt.subplot(2, 5, i+1)\n",
    "    plt.imshow(image.permute(1, 2, 0))\n",
    "    plt.title(class_name)\n",
    "    plt.axis('off')\n",
    "\n",
    "plt.show() "
   ]
  },
  {
   "cell_type": "code",
   "execution_count": null,
   "id": "cc77982a",
   "metadata": {},
   "outputs": [],
   "source": [
    "import matplotlib.pyplot as plt\n",
    "import numpy as np"
   ]
  },
  {
   "cell_type": "markdown",
   "id": "500c450a",
   "metadata": {},
   "source": [
    "### Distribute data into train and valid data sets\n"
   ]
  },
  {
   "cell_type": "code",
   "execution_count": null,
   "id": "881248ee",
   "metadata": {},
   "outputs": [],
   "source": [
    "data_loader = torch.utils.data.DataLoader(dataset, batch_size=len(dataset), shuffle=False)\n",
    "data, labels = next(iter(data_loader))\n",
    "print(\"The data shape is {}\".format(data.shape))"
   ]
  },
  {
   "cell_type": "code",
   "execution_count": null,
   "id": "6171297e",
   "metadata": {},
   "outputs": [],
   "source": [
    "import torch.nn.functional as F\n",
    "def split_and_return_train_valid(data, labels, split = 0.2):\n",
    "  test_indices = np.random.rand(data.shape[0]) < split\n",
    "  train_indices = ~test_indices\n",
    "  train_data, test_data = data[train_indices], data[test_indices]\n",
    "  train_labels, test_labels = labels[train_indices], labels[test_indices]\n",
    "  train_labels, test_labels = F.one_hot(train_labels), F.one_hot(test_labels)\n",
    "  return train_data, train_labels, test_data, test_labels\n",
    "\n",
    "train_data, train_labels, test_data, test_labels = split_and_return_train_valid(data, labels) \n",
    "print(\"Train Data Length is {}\".format(len(train_data)))\n",
    "print(\"Test Data Length is {}\".format(len(test_data)))"
   ]
  },
  {
   "cell_type": "code",
   "execution_count": null,
   "id": "bec99d3f",
   "metadata": {},
   "outputs": [],
   "source": [
    "from openfl.federated import FederatedModel,FederatedDataSet\n",
    "\n",
    "from openfl.utilities.data_splitters import DirichletNumPyDataSplitter\n",
    "from openfl.utilities.data_splitters import EqualNumPyDataSplitter\n",
    "from openfl.utilities.data_splitters import LogNormalNumPyDataSplitter\n",
    "from openfl.utilities.data_splitters import RandomNumPyDataSplitter\n",
    "\n",
    "batch_size = 16\n",
    "num_classes = 5\n",
    "fl_data = FederatedDataSet(train_data, train_labels, test_data, test_labels, \n",
    "                           batch_size = batch_size , num_classes = num_classes, \n",
    "                           train_splitter=data_splitter)"
   ]
  },
  {
   "cell_type": "markdown",
   "id": "10e47433",
   "metadata": {},
   "source": [
    "###  Define Model - Pretrained Model\n",
    "We can use a pretrained model like Inception or VGG Net to perform classification. These have already been pretrained on large-scale image data and we need to train only some final linear layers."
   ]
  },
  {
   "cell_type": "code",
   "execution_count": null,
   "id": "13b7b14d",
   "metadata": {},
   "outputs": [],
   "source": [
    "\n",
    "import torch\n",
    "import torch.nn as nn\n",
    "import torchvision.models as models\n",
    "import torch.optim as optim\n",
    "\n",
    "class InceptionV1(nn.Module):\n",
    "    def __init__(self, num_classes=5):\n",
    "        super(InceptionV1, self).__init__()\n",
    "        self.num_classes = num_classes\n",
    "        self.inception = models.googlenet(pretrained=True)\n",
    "        \n",
    "        for param in self.inception.parameters():\n",
    "            param.requires_grad = False\n",
    "            \n",
    "        self.inception.fc = nn.Linear(self.inception.fc.in_features, num_classes)\n",
    "\n",
    "    def forward(self, x):\n",
    "        x = self.inception(x)\n",
    "        return F.log_softmax(x, dim=1)\n",
    "    \n",
    "optimizer = lambda x: optim.Adam(x, lr=1e-4)\n",
    "\n",
    "def cross_entropy(output, target):\n",
    "    \"\"\"Binary cross-entropy metric\n",
    "    \"\"\"\n",
    "    return F.binary_cross_entropy_with_logits(input=output,target=target.float())\n"
   ]
  },
  {
   "cell_type": "code",
   "execution_count": null,
   "id": "fb7e568e",
   "metadata": {},
   "outputs": [],
   "source": [
    "def count_parameters(model):\n",
    "    return sum(p.numel() for p in model.parameters() if p.requires_grad)\n",
    "\n",
    "count_parameters(InceptionV1())\n",
    "\n",
    "## Earlier Parameters: 51386181"
   ]
  },
  {
   "cell_type": "code",
   "execution_count": null,
   "id": "05e26799",
   "metadata": {},
   "outputs": [],
   "source": [
    "net = InceptionV1()\n",
    "net(data[3:8]).shape"
   ]
  },
  {
   "cell_type": "code",
   "execution_count": null,
   "id": "e7df7bab",
   "metadata": {},
   "outputs": [],
   "source": [
    "fl_model = FederatedModel(build_model=InceptionV1, optimizer=optimizer, loss_fn=cross_entropy, data_loader=fl_data)"
   ]
  },
  {
   "cell_type": "markdown",
   "id": "c4c23043",
   "metadata": {},
   "source": [
    "### Define OpenFlow Plan"
   ]
  },
  {
   "cell_type": "code",
   "execution_count": null,
   "id": "d1612c67",
   "metadata": {},
   "outputs": [],
   "source": [
    "NUM_COLLABORATORS = 5\n",
    "collaborator_list = [str(i) for i in range(NUM_COLLABORATORS)]\n",
    "experiment_collaborators = {col_name:col_model for col_name, col_model \\\n",
    "                                 in zip(collaborator_list, fl_model.setup(len(collaborator_list)))}"
   ]
  },
  {
   "cell_type": "code",
   "execution_count": null,
   "id": "54115223",
   "metadata": {},
   "outputs": [],
   "source": [
    "fx.init('torch_cnn_mnist', col_names=collaborator_list)"
   ]
  },
  {
   "cell_type": "code",
   "execution_count": null,
   "id": "ece4a0c7",
   "metadata": {},
   "outputs": [],
   "source": [
    "final_fl_model = fx.run_experiment(experiment_collaborators, override_config={\"aggregator.settings.rounds_to_train\": 5})"
   ]
  },
  {
   "cell_type": "markdown",
   "id": "275a734d",
   "metadata": {},
   "source": [
    "We get a model with validation score = 67% ( for 2 clients)\n",
    "We get a model with validation score = 55% ( 3 epochs, 5 clients)\n"
   ]
  },
  {
   "cell_type": "code",
   "execution_count": null,
   "id": "2664d2b6",
   "metadata": {},
   "outputs": [],
   "source": [
    "fl_model.runner.model"
   ]
  },
  {
   "cell_type": "code",
   "execution_count": null,
   "id": "2c857d8d",
   "metadata": {},
   "outputs": [],
   "source": []
  }
 ],
 "metadata": {
  "kernelspec": {
   "display_name": "Python 3 (ipykernel)",
   "language": "python",
   "name": "python3"
  },
  "language_info": {
   "codemirror_mode": {
    "name": "ipython",
    "version": 3
   },
   "file_extension": ".py",
   "mimetype": "text/x-python",
   "name": "python",
   "nbconvert_exporter": "python",
   "pygments_lexer": "ipython3",
   "version": "3.9.12"
  }
 },
 "nbformat": 4,
 "nbformat_minor": 5
}
