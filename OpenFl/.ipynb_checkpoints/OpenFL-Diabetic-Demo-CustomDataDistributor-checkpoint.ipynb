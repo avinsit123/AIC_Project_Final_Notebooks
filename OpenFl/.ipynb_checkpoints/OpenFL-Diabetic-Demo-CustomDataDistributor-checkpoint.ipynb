{
 "cells": [
  {
   "cell_type": "code",
   "execution_count": 1,
   "id": "a7fe5699",
   "metadata": {},
   "outputs": [
    {
     "name": "stderr",
     "output_type": "stream",
     "text": [
      "2023-04-10 18:53:48.526845: I tensorflow/core/platform/cpu_feature_guard.cc:193] This TensorFlow binary is optimized with oneAPI Deep Neural Network Library (oneDNN) to use the following CPU instructions in performance-critical operations:  AVX2 AVX512F AVX512_VNNI FMA\n",
      "To enable them in other operations, rebuild TensorFlow with the appropriate compiler flags.\n",
      "2023-04-10 18:53:48.655277: I tensorflow/core/util/util.cc:169] oneDNN custom operations are on. You may see slightly different numerical results due to floating-point round-off errors from different computation orders. To turn them off, set the environment variable `TF_ENABLE_ONEDNN_OPTS=0`.\n",
      "2023-04-10 18:53:48.678558: E tensorflow/stream_executor/cuda/cuda_blas.cc:2981] Unable to register cuBLAS factory: Attempting to register factory for plugin cuBLAS when one has already been registered\n",
      "2023-04-10 18:53:49.071651: W tensorflow/stream_executor/platform/default/dso_loader.cc:64] Could not load dynamic library 'libnvinfer.so.7'; dlerror: libnvinfer.so.7: cannot open shared object file: No such file or directory\n",
      "2023-04-10 18:53:49.071691: W tensorflow/stream_executor/platform/default/dso_loader.cc:64] Could not load dynamic library 'libnvinfer_plugin.so.7'; dlerror: libnvinfer_plugin.so.7: cannot open shared object file: No such file or directory\n",
      "2023-04-10 18:53:49.071695: W tensorflow/compiler/tf2tensorrt/utils/py_utils.cc:38] TF-TRT Warning: Cannot dlopen some TensorRT libraries. If you would like to use Nvidia GPU with TensorRT, please make sure the missing libraries mentioned above are installed properly.\n"
     ]
    }
   ],
   "source": [
    "import openfl.native as fx\n",
    "from openfl.federated import FederatedModel, FederatedDataSet"
   ]
  },
  {
   "cell_type": "markdown",
   "id": "5c31e0a0",
   "metadata": {},
   "source": [
    "## Load Dataset and Transfer \n",
    "### Define Torch Dataloader"
   ]
  },
  {
   "cell_type": "code",
   "execution_count": 2,
   "id": "cc7b3314",
   "metadata": {},
   "outputs": [],
   "source": [
    "import torch\n",
    "import torchvision\n",
    "from torchvision import transforms\n",
    "transform = transforms.Compose([\n",
    "    transforms.Resize((224, 224)),\n",
    "    transforms.ToTensor(),\n",
    "    transforms.Normalize(mean=[0.485, 0.456, 0.406],\n",
    "                         std=[0.229, 0.224, 0.225])\n",
    "])\n",
    "\n",
    "## Replace here with path of your folder. \n",
    "dataset = torchvision.datasets.ImageFolder(root='/home/avinash123/Desktop/Spring 2023/CS6675/FinalProject/archive/gaussian_filtered_images/gaussian_filtered_images', transform=transform)\n",
    "# dataloader = torch.utils.data.DataLoader(dataset, batch_size=32, shuffle=True, num_workers=4)"
   ]
  },
  {
   "cell_type": "markdown",
   "id": "eb997f59",
   "metadata": {},
   "source": [
    "### Display data into train and valid sets"
   ]
  },
  {
   "cell_type": "code",
   "execution_count": 3,
   "id": "1f60f03c",
   "metadata": {},
   "outputs": [
    {
     "ename": "NameError",
     "evalue": "name 'dataloader' is not defined",
     "output_type": "error",
     "traceback": [
      "\u001b[0;31m---------------------------------------------------------------------------\u001b[0m",
      "\u001b[0;31mNameError\u001b[0m                                 Traceback (most recent call last)",
      "Cell \u001b[0;32mIn[3], line 8\u001b[0m\n\u001b[1;32m      5\u001b[0m     \u001b[38;5;28;01mreturn\u001b[39;00m dataset\u001b[38;5;241m.\u001b[39mclasses[index]\n\u001b[1;32m      7\u001b[0m len_images \u001b[38;5;241m=\u001b[39m \u001b[38;5;241m10\u001b[39m\n\u001b[0;32m----> 8\u001b[0m images, labels \u001b[38;5;241m=\u001b[39m \u001b[38;5;28mnext\u001b[39m(\u001b[38;5;28miter\u001b[39m(\u001b[43mdataloader\u001b[49m))\n\u001b[1;32m      9\u001b[0m sample_indices \u001b[38;5;241m=\u001b[39m np\u001b[38;5;241m.\u001b[39mrandom\u001b[38;5;241m.\u001b[39mchoice(\u001b[38;5;28mlen\u001b[39m(images), len_images, replace\u001b[38;5;241m=\u001b[39m\u001b[38;5;28;01mFalse\u001b[39;00m)\n\u001b[1;32m     10\u001b[0m sample_images \u001b[38;5;241m=\u001b[39m images[sample_indices]\n",
      "\u001b[0;31mNameError\u001b[0m: name 'dataloader' is not defined"
     ]
    }
   ],
   "source": [
    "import matplotlib.pyplot as plt\n",
    "import numpy as np\n",
    "\n",
    "def index_to_class_name(index, dataset):\n",
    "    return dataset.classes[index]\n",
    "\n",
    "len_images = 10\n",
    "images, labels = next(iter(dataloader))\n",
    "sample_indices = np.random.choice(len(images), len_images, replace=False)\n",
    "sample_images = images[sample_indices]\n",
    "sample_labels = labels[sample_indices]\n",
    "\n",
    "for i, image in enumerate(sample_images):\n",
    "    class_name = index_to_class_name(sample_labels[i], dataset)\n",
    "    plt.subplot(2, 5, i+1)\n",
    "    plt.imshow(image.permute(1, 2, 0))\n",
    "    plt.title(class_name)\n",
    "    plt.axis('off')\n",
    "\n",
    "plt.show() "
   ]
  },
  {
   "cell_type": "code",
   "execution_count": 3,
   "id": "cc77982a",
   "metadata": {},
   "outputs": [],
   "source": [
    "import matplotlib.pyplot as plt\n",
    "import numpy as np"
   ]
  },
  {
   "cell_type": "markdown",
   "id": "500c450a",
   "metadata": {},
   "source": [
    "### Distribute data into train and valid data sets\n"
   ]
  },
  {
   "cell_type": "code",
   "execution_count": 4,
   "id": "881248ee",
   "metadata": {},
   "outputs": [
    {
     "name": "stdout",
     "output_type": "stream",
     "text": [
      "The data shape is torch.Size([3662, 3, 224, 224])\n"
     ]
    }
   ],
   "source": [
    "data_loader = torch.utils.data.DataLoader(dataset, batch_size=len(dataset), shuffle=False)\n",
    "data, labels = next(iter(data_loader))\n",
    "print(\"The data shape is {}\".format(data.shape))"
   ]
  },
  {
   "cell_type": "code",
   "execution_count": 5,
   "id": "6171297e",
   "metadata": {},
   "outputs": [
    {
     "name": "stdout",
     "output_type": "stream",
     "text": [
      "Train Data Length is 2947\n",
      "Test Data Length is 715\n"
     ]
    }
   ],
   "source": [
    "import torch.nn.functional as F\n",
    "def split_and_return_train_valid(data, labels, split = 0.2):\n",
    "  test_indices = np.random.rand(data.shape[0]) < split\n",
    "  train_indices = ~test_indices\n",
    "  train_data, test_data = data[train_indices], data[test_indices]\n",
    "  train_labels, test_labels = labels[train_indices], labels[test_indices]\n",
    "  train_labels, test_labels = F.one_hot(train_labels), F.one_hot(test_labels)\n",
    "  return train_data, train_labels, test_data, test_labels\n",
    "\n",
    "train_data, train_labels, test_data, test_labels = split_and_return_train_valid(data, labels) \n",
    "print(\"Train Data Length is {}\".format(len(train_data)))\n",
    "print(\"Test Data Length is {}\".format(len(test_data)))"
   ]
  },
  {
   "cell_type": "code",
   "execution_count": 6,
   "id": "bec99d3f",
   "metadata": {},
   "outputs": [],
   "source": [
    "from openfl.federated import FederatedModel,FederatedDataSet\n",
    "batch_size = 16\n",
    "num_classes = 5\n",
    "fl_data = FederatedDataSet(train_data, train_labels, test_data, test_labels, \n",
    "                           batch_size = batch_size , num_classes = num_classes, \n",
    "                          )"
   ]
  },
  {
   "cell_type": "markdown",
   "id": "10e47433",
   "metadata": {},
   "source": [
    "###  Define Model - Pretrained Model\n",
    "We can use a pretrained model like Inception or VGG Net to perform classification. These have already been pretrained on large-scale image data and we need to train only some final linear layers."
   ]
  },
  {
   "cell_type": "code",
   "execution_count": 7,
   "id": "13b7b14d",
   "metadata": {},
   "outputs": [],
   "source": [
    "\n",
    "import torch\n",
    "import torch.nn as nn\n",
    "import torchvision.models as models\n",
    "import torch.optim as optim\n",
    "\n",
    "class InceptionV1(nn.Module):\n",
    "    def __init__(self, num_classes=5):\n",
    "        super(InceptionV1, self).__init__()\n",
    "        self.num_classes = num_classes\n",
    "        self.inception = models.googlenet(pretrained=True)\n",
    "        \n",
    "        for param in self.inception.parameters():\n",
    "            param.requires_grad = False\n",
    "            \n",
    "        self.inception.fc = nn.Linear(self.inception.fc.in_features, num_classes)\n",
    "\n",
    "    def forward(self, x):\n",
    "        x = self.inception(x)\n",
    "        return F.log_softmax(x, dim=1)\n",
    "    \n",
    "optimizer = lambda x: optim.Adam(x, lr=1e-4)\n",
    "\n",
    "def cross_entropy(output, target):\n",
    "    \"\"\"Binary cross-entropy metric\n",
    "    \"\"\"\n",
    "    return F.binary_cross_entropy_with_logits(input=output,target=target.float())\n"
   ]
  },
  {
   "cell_type": "code",
   "execution_count": 8,
   "id": "fb7e568e",
   "metadata": {},
   "outputs": [
    {
     "name": "stderr",
     "output_type": "stream",
     "text": [
      "/home/avinash123/anaconda3/lib/python3.9/site-packages/torchvision/models/_utils.py:208: UserWarning: The parameter 'pretrained' is deprecated since 0.13 and may be removed in the future, please use 'weights' instead.\n",
      "  warnings.warn(\n",
      "/home/avinash123/anaconda3/lib/python3.9/site-packages/torchvision/models/_utils.py:223: UserWarning: Arguments other than a weight enum or `None` for 'weights' are deprecated since 0.13 and may be removed in the future. The current behavior is equivalent to passing `weights=GoogLeNet_Weights.IMAGENET1K_V1`. You can also use `weights=GoogLeNet_Weights.DEFAULT` to get the most up-to-date weights.\n",
      "  warnings.warn(msg)\n"
     ]
    },
    {
     "data": {
      "text/plain": [
       "5125"
      ]
     },
     "execution_count": 8,
     "metadata": {},
     "output_type": "execute_result"
    }
   ],
   "source": [
    "def count_parameters(model):\n",
    "    return sum(p.numel() for p in model.parameters() if p.requires_grad)\n",
    "\n",
    "count_parameters(InceptionV1())\n",
    "\n",
    "## Earlier Parameters: 51386181"
   ]
  },
  {
   "cell_type": "code",
   "execution_count": 9,
   "id": "05e26799",
   "metadata": {},
   "outputs": [
    {
     "data": {
      "text/plain": [
       "torch.Size([5, 5])"
      ]
     },
     "execution_count": 9,
     "metadata": {},
     "output_type": "execute_result"
    }
   ],
   "source": [
    "net = InceptionV1()\n",
    "net(data[3:8]).shape"
   ]
  },
  {
   "cell_type": "code",
   "execution_count": null,
   "id": "e7df7bab",
   "metadata": {},
   "outputs": [],
   "source": [
    "fl_model = FederatedModel(build_model=InceptionV1, optimizer=optimizer, loss_fn=cross_entropy, data_loader=fl_data)"
   ]
  },
  {
   "cell_type": "markdown",
   "id": "c4c23043",
   "metadata": {},
   "source": [
    "### Define OpenFlow Plan"
   ]
  },
  {
   "cell_type": "code",
   "execution_count": 11,
   "id": "d1612c67",
   "metadata": {},
   "outputs": [
    {
     "name": "stderr",
     "output_type": "stream",
     "text": [
      "tried to remove tensor: __opt_state_needed not present in the tensor dict\n",
      "tried to remove tensor: __opt_state_needed not present in the tensor dict\n",
      "tried to remove tensor: __opt_state_needed not present in the tensor dict\n",
      "tried to remove tensor: __opt_state_needed not present in the tensor dict\n",
      "tried to remove tensor: __opt_state_needed not present in the tensor dict\n"
     ]
    }
   ],
   "source": [
    "NUM_COLLABORATORS = 5\n",
    "collaborator_list = [str(i) for i in range(NUM_COLLABORATORS)]\n",
    "experiment_collaborators = {col_name:col_model for col_name, col_model \\\n",
    "                                 in zip(collaborator_list, fl_model.setup(len(collaborator_list)))}"
   ]
  },
  {
   "cell_type": "code",
   "execution_count": 12,
   "id": "54115223",
   "metadata": {},
   "outputs": [
    {
     "name": "stdout",
     "output_type": "stream",
     "text": [
      "Creating Workspace Directories\n",
      "Creating Workspace Templates\n"
     ]
    },
    {
     "name": "stderr",
     "output_type": "stream",
     "text": [
      "WARNING: Ignoring invalid distribution -andas (/home/avinash123/anaconda3/lib/python3.9/site-packages)\n",
      "WARNING: Ignoring invalid distribution -andas (/home/avinash123/anaconda3/lib/python3.9/site-packages)\n",
      "WARNING: Ignoring invalid distribution -andas (/home/avinash123/anaconda3/lib/python3.9/site-packages)\n"
     ]
    },
    {
     "name": "stdout",
     "output_type": "stream",
     "text": [
      "Requirement already satisfied: torch==1.13.1 in /home/avinash123/anaconda3/lib/python3.9/site-packages (from -r /home/avinash123/.local/workspace/requirements.txt (line 1)) (1.13.1)\n",
      "Requirement already satisfied: torchvision==0.14.1 in /home/avinash123/anaconda3/lib/python3.9/site-packages (from -r /home/avinash123/.local/workspace/requirements.txt (line 2)) (0.14.1)\n",
      "Requirement already satisfied: tensorboard in /home/avinash123/anaconda3/lib/python3.9/site-packages (from -r /home/avinash123/.local/workspace/requirements.txt (line 3)) (2.10.1)\n",
      "Requirement already satisfied: wheel>=0.38.0 in /home/avinash123/anaconda3/lib/python3.9/site-packages (from -r /home/avinash123/.local/workspace/requirements.txt (line 4)) (0.40.0)\n",
      "Requirement already satisfied: nvidia-cuda-nvrtc-cu11==11.7.99 in /home/avinash123/anaconda3/lib/python3.9/site-packages (from torch==1.13.1->-r /home/avinash123/.local/workspace/requirements.txt (line 1)) (11.7.99)\n",
      "Requirement already satisfied: nvidia-cuda-runtime-cu11==11.7.99 in /home/avinash123/anaconda3/lib/python3.9/site-packages (from torch==1.13.1->-r /home/avinash123/.local/workspace/requirements.txt (line 1)) (11.7.99)\n",
      "Requirement already satisfied: nvidia-cudnn-cu11==8.5.0.96 in /home/avinash123/anaconda3/lib/python3.9/site-packages (from torch==1.13.1->-r /home/avinash123/.local/workspace/requirements.txt (line 1)) (8.5.0.96)\n",
      "Requirement already satisfied: typing-extensions in /home/avinash123/anaconda3/lib/python3.9/site-packages (from torch==1.13.1->-r /home/avinash123/.local/workspace/requirements.txt (line 1)) (4.1.1)\n",
      "Requirement already satisfied: nvidia-cublas-cu11==11.10.3.66 in /home/avinash123/anaconda3/lib/python3.9/site-packages (from torch==1.13.1->-r /home/avinash123/.local/workspace/requirements.txt (line 1)) (11.10.3.66)\n",
      "Requirement already satisfied: numpy in /home/avinash123/anaconda3/lib/python3.9/site-packages (from torchvision==0.14.1->-r /home/avinash123/.local/workspace/requirements.txt (line 2)) (1.21.5)\n",
      "Requirement already satisfied: pillow!=8.3.*,>=5.3.0 in /home/avinash123/anaconda3/lib/python3.9/site-packages (from torchvision==0.14.1->-r /home/avinash123/.local/workspace/requirements.txt (line 2)) (9.0.1)\n",
      "Requirement already satisfied: requests in /home/avinash123/anaconda3/lib/python3.9/site-packages (from torchvision==0.14.1->-r /home/avinash123/.local/workspace/requirements.txt (line 2)) (2.27.1)\n",
      "Requirement already satisfied: setuptools in /home/avinash123/anaconda3/lib/python3.9/site-packages (from nvidia-cublas-cu11==11.10.3.66->torch==1.13.1->-r /home/avinash123/.local/workspace/requirements.txt (line 1)) (61.2.0)\n",
      "Requirement already satisfied: werkzeug>=1.0.1 in /home/avinash123/anaconda3/lib/python3.9/site-packages (from tensorboard->-r /home/avinash123/.local/workspace/requirements.txt (line 3)) (2.0.3)\n",
      "Requirement already satisfied: absl-py>=0.4 in /home/avinash123/anaconda3/lib/python3.9/site-packages (from tensorboard->-r /home/avinash123/.local/workspace/requirements.txt (line 3)) (1.3.0)\n",
      "Requirement already satisfied: tensorboard-plugin-wit>=1.6.0 in /home/avinash123/anaconda3/lib/python3.9/site-packages (from tensorboard->-r /home/avinash123/.local/workspace/requirements.txt (line 3)) (1.8.1)\n",
      "Requirement already satisfied: markdown>=2.6.8 in /home/avinash123/anaconda3/lib/python3.9/site-packages (from tensorboard->-r /home/avinash123/.local/workspace/requirements.txt (line 3)) (3.3.4)\n",
      "Requirement already satisfied: protobuf<3.20,>=3.9.2 in /home/avinash123/anaconda3/lib/python3.9/site-packages (from tensorboard->-r /home/avinash123/.local/workspace/requirements.txt (line 3)) (3.19.6)\n",
      "Requirement already satisfied: tensorboard-data-server<0.7.0,>=0.6.0 in /home/avinash123/anaconda3/lib/python3.9/site-packages (from tensorboard->-r /home/avinash123/.local/workspace/requirements.txt (line 3)) (0.6.1)\n",
      "Requirement already satisfied: grpcio>=1.24.3 in /home/avinash123/anaconda3/lib/python3.9/site-packages (from tensorboard->-r /home/avinash123/.local/workspace/requirements.txt (line 3)) (1.48.2)\n",
      "Requirement already satisfied: google-auth<3,>=1.6.3 in /home/avinash123/anaconda3/lib/python3.9/site-packages (from tensorboard->-r /home/avinash123/.local/workspace/requirements.txt (line 3)) (1.33.0)\n",
      "Requirement already satisfied: google-auth-oauthlib<0.5,>=0.4.1 in /home/avinash123/anaconda3/lib/python3.9/site-packages (from tensorboard->-r /home/avinash123/.local/workspace/requirements.txt (line 3)) (0.4.6)\n",
      "Requirement already satisfied: pyasn1-modules>=0.2.1 in /home/avinash123/anaconda3/lib/python3.9/site-packages (from google-auth<3,>=1.6.3->tensorboard->-r /home/avinash123/.local/workspace/requirements.txt (line 3)) (0.2.8)\n",
      "Requirement already satisfied: rsa<5,>=3.1.4 in /home/avinash123/anaconda3/lib/python3.9/site-packages (from google-auth<3,>=1.6.3->tensorboard->-r /home/avinash123/.local/workspace/requirements.txt (line 3)) (4.7.2)\n",
      "Requirement already satisfied: six>=1.9.0 in /home/avinash123/anaconda3/lib/python3.9/site-packages (from google-auth<3,>=1.6.3->tensorboard->-r /home/avinash123/.local/workspace/requirements.txt (line 3)) (1.16.0)\n",
      "Requirement already satisfied: cachetools<5.0,>=2.0.0 in /home/avinash123/anaconda3/lib/python3.9/site-packages (from google-auth<3,>=1.6.3->tensorboard->-r /home/avinash123/.local/workspace/requirements.txt (line 3)) (4.2.2)\n",
      "Requirement already satisfied: requests-oauthlib>=0.7.0 in /home/avinash123/anaconda3/lib/python3.9/site-packages (from google-auth-oauthlib<0.5,>=0.4.1->tensorboard->-r /home/avinash123/.local/workspace/requirements.txt (line 3)) (1.3.1)\n",
      "Requirement already satisfied: pyasn1<0.5.0,>=0.4.6 in /home/avinash123/anaconda3/lib/python3.9/site-packages (from pyasn1-modules>=0.2.1->google-auth<3,>=1.6.3->tensorboard->-r /home/avinash123/.local/workspace/requirements.txt (line 3)) (0.4.8)\n",
      "Requirement already satisfied: idna<4,>=2.5 in /home/avinash123/anaconda3/lib/python3.9/site-packages (from requests->torchvision==0.14.1->-r /home/avinash123/.local/workspace/requirements.txt (line 2)) (3.3)\n",
      "Requirement already satisfied: charset-normalizer~=2.0.0 in /home/avinash123/anaconda3/lib/python3.9/site-packages (from requests->torchvision==0.14.1->-r /home/avinash123/.local/workspace/requirements.txt (line 2)) (2.0.4)\n",
      "Requirement already satisfied: certifi>=2017.4.17 in /home/avinash123/anaconda3/lib/python3.9/site-packages (from requests->torchvision==0.14.1->-r /home/avinash123/.local/workspace/requirements.txt (line 2)) (2021.10.8)\n",
      "Requirement already satisfied: urllib3<1.27,>=1.21.1 in /home/avinash123/anaconda3/lib/python3.9/site-packages (from requests->torchvision==0.14.1->-r /home/avinash123/.local/workspace/requirements.txt (line 2)) (1.26.9)\n",
      "Requirement already satisfied: oauthlib>=3.0.0 in /home/avinash123/anaconda3/lib/python3.9/site-packages (from requests-oauthlib>=0.7.0->google-auth-oauthlib<0.5,>=0.4.1->tensorboard->-r /home/avinash123/.local/workspace/requirements.txt (line 3)) (3.2.2)\n",
      "Successfully installed packages from /home/avinash123/.local/workspace/requirements.txt.\n"
     ]
    },
    {
     "name": "stderr",
     "output_type": "stream",
     "text": [
      "WARNING: Ignoring invalid distribution -andas (/home/avinash123/anaconda3/lib/python3.9/site-packages)\n",
      "WARNING: Ignoring invalid distribution -andas (/home/avinash123/anaconda3/lib/python3.9/site-packages)\n",
      "WARNING: Ignoring invalid distribution -andas (/home/avinash123/anaconda3/lib/python3.9/site-packages)\n",
      "WARNING: Ignoring invalid distribution -andas (/home/avinash123/anaconda3/lib/python3.9/site-packages)\n"
     ]
    },
    {
     "name": "stdout",
     "output_type": "stream",
     "text": [
      "\n",
      "New workspace directory structure:\n",
      "workspace\n",
      "├── save\n",
      "│   ├── torch_cnn_mnist_last.pbuf\n",
      "│   ├── torch_cnn_mnist_init.pbuf\n",
      "│   └── torch_cnn_mnist_best.pbuf\n",
      "├── src\n",
      "│   ├── ptmnist_inmemory.py\n",
      "│   ├── tfmnist_inmemory.py\n",
      "│   ├── mnist_utils.py\n",
      "│   ├── __init__.py\n",
      "│   ├── __pycache__\n",
      "│   │   ├── __init__.cpython-39.pyc\n",
      "│   │   └── mnist_utils.cpython-39.pyc\n",
      "│   ├── pt_cnn.py\n",
      "│   └── keras_cnn.py\n",
      "├── agg_to_col_two_signed_cert.zip\n",
      "├── agg_to_col_one_signed_cert.zip\n",
      "├── agg_to_col_3_signed_cert.zip\n",
      "├── agg_to_col_1_signed_cert.zip\n",
      "├── agg_to_col_4_signed_cert.zip\n",
      "├── agg_to_col_0_signed_cert.zip\n",
      "├── data\n",
      "├── requirements.txt\n",
      "├── agg_to_col_2_signed_cert.zip\n",
      "├── plan\n",
      "│   ├── defaults\n",
      "│   ├── cols.yaml\n",
      "│   ├── data.yaml\n",
      "│   └── plan.yaml\n",
      "├── logs\n",
      "│   └── cnn_mnist\n",
      "│       ├── events.out.tfevents.1681162787.aviLaptop.21616.0\n",
      "│       ├── events.out.tfevents.1681166403.aviLaptop.29194.0\n",
      "│       ├── events.out.tfevents.1681166330.aviLaptop.28867.0\n",
      "│       ├── events.out.tfevents.1680646006.aviLaptop.50258.0\n",
      "│       ├── events.out.tfevents.1680642711.aviLaptop.46638.0\n",
      "│       ├── events.out.tfevents.1680645679.aviLaptop.49624.0\n",
      "│       ├── events.out.tfevents.1680640919.aviLaptop.44758.0\n",
      "│       ├── events.out.tfevents.1680639548.aviLaptop.43057.0\n",
      "│       ├── events.out.tfevents.1680643301.aviLaptop.47630.0\n",
      "│       ├── events.out.tfevents.1680642297.aviLaptop.45191.0\n",
      "│       ├── events.out.tfevents.1680639792.aviLaptop.43460.0\n",
      "│       ├── events.out.tfevents.1680646483.aviLaptop.50791.0\n",
      "│       ├── events.out.tfevents.1680639946.aviLaptop.43821.0\n",
      "│       ├── events.out.tfevents.1680638513.aviLaptop.40620.0\n",
      "│       ├── events.out.tfevents.1680722005.aviLaptop.70324.0\n",
      "│       ├── events.out.tfevents.1680639218.aviLaptop.42551.0\n",
      "│       └── events.out.tfevents.1680723256.aviLaptop.73959.0\n",
      "├── cert\n",
      "└── .workspace\n",
      "\n",
      "8 directories, 41 files\n",
      "Setting Up Certificate Authority...\n",
      "\n",
      "1.  Create Root CA\n",
      "1.1 Create Directories\n",
      "1.2 Create Database\n",
      "1.3 Create CA Request and Certificate\n",
      "2.  Create Signing Certificate\n",
      "2.1 Create Directories\n",
      "2.2 Create Database\n",
      "2.3 Create Signing Certificate CSR\n",
      "2.4 Sign Signing Certificate CSR\n",
      "3   Create Certificate Chain\n",
      "\n",
      "Done.\n",
      "Creating AGGREGATOR certificate key pair with following settings: CN=\u001b[31mavilaptop\u001b[0m, SAN=\u001b[31mDNS:avilaptop\u001b[0m\n",
      "  Writing AGGREGATOR certificate key pair to: \u001b[32m/home/avinash123/Desktop/Spring 2023/CS6675/AIC_Project_Final_Notebooks/OpenFl/cert/server\u001b[0m\n",
      "The CSR Hash for file \u001b[32mserver/agg_avilaptop.csr\u001b[0m = \u001b[31mc863caf5fc7ad905263a321a011bec83e27ae89883baa916504d308072dca8e38553ea23a8df34a6fc612cf4289d1ad4\u001b[0m\n",
      " Signing AGGREGATOR certificate\n",
      "Creating COLLABORATOR certificate key pair with following settings: CN=\u001b[31m0\u001b[0m, SAN=\u001b[31mDNS:0\u001b[0m\n",
      "  Moving COLLABORATOR certificate to: \u001b[32m/home/avinash123/Desktop/Spring 2023/CS6675/AIC_Project_Final_Notebooks/OpenFl/cert/col_0\u001b[0m\n",
      "The CSR Hash for file \u001b[32mcol_0.csr\u001b[0m = \u001b[31m12a48496247f053da72f69003d54dd3f27c93cf6d1ccc6d5b8545b0cb6482c6e509f7ab6b38c636e45ddb276deec8c31\u001b[0m\n",
      " Signing COLLABORATOR certificate\n",
      "\n",
      "Registering \u001b[32m0\u001b[0m in \u001b[32m/home/avinash123/.local/workspace/plan/cols.yaml\u001b[0m\n",
      "Creating COLLABORATOR certificate key pair with following settings: CN=\u001b[31m1\u001b[0m, SAN=\u001b[31mDNS:1\u001b[0m\n",
      "  Moving COLLABORATOR certificate to: \u001b[32m/home/avinash123/Desktop/Spring 2023/CS6675/AIC_Project_Final_Notebooks/OpenFl/cert/col_1\u001b[0m\n",
      "The CSR Hash for file \u001b[32mcol_1.csr\u001b[0m = \u001b[31mee50ccf766f4f786835b99fb1378b1fe90d35fb38cd0deb5c86ee581ed57a55d32cf1feb3d6e70207cafa46588809996\u001b[0m\n",
      " Signing COLLABORATOR certificate\n",
      "\n",
      "Registering \u001b[32m1\u001b[0m in \u001b[32m/home/avinash123/.local/workspace/plan/cols.yaml\u001b[0m\n",
      "Creating COLLABORATOR certificate key pair with following settings: CN=\u001b[31m2\u001b[0m, SAN=\u001b[31mDNS:2\u001b[0m\n",
      "  Moving COLLABORATOR certificate to: \u001b[32m/home/avinash123/Desktop/Spring 2023/CS6675/AIC_Project_Final_Notebooks/OpenFl/cert/col_2\u001b[0m\n",
      "The CSR Hash for file \u001b[32mcol_2.csr\u001b[0m = \u001b[31m36d62eef0d593292b60456283159c6bd6e14e1fe20cc3a78542d2d6b711edca33883c2b357ab9b6ac1dfbe130bf82183\u001b[0m\n",
      " Signing COLLABORATOR certificate\n",
      "\n",
      "Registering \u001b[32m2\u001b[0m in \u001b[32m/home/avinash123/.local/workspace/plan/cols.yaml\u001b[0m\n",
      "Creating COLLABORATOR certificate key pair with following settings: CN=\u001b[31m3\u001b[0m, SAN=\u001b[31mDNS:3\u001b[0m\n",
      "  Moving COLLABORATOR certificate to: \u001b[32m/home/avinash123/Desktop/Spring 2023/CS6675/AIC_Project_Final_Notebooks/OpenFl/cert/col_3\u001b[0m\n",
      "The CSR Hash for file \u001b[32mcol_3.csr\u001b[0m = \u001b[31mcb4d0a609ade9072b3022ff567935cc17ee929413167fc9f525e4bb1cba1282f36ee45e62a3753713de79a7b0c61eb4c\u001b[0m\n",
      " Signing COLLABORATOR certificate\n",
      "\n",
      "Registering \u001b[32m3\u001b[0m in \u001b[32m/home/avinash123/.local/workspace/plan/cols.yaml\u001b[0m\n",
      "Creating COLLABORATOR certificate key pair with following settings: CN=\u001b[31m4\u001b[0m, SAN=\u001b[31mDNS:4\u001b[0m\n",
      "  Moving COLLABORATOR certificate to: \u001b[32m/home/avinash123/Desktop/Spring 2023/CS6675/AIC_Project_Final_Notebooks/OpenFl/cert/col_4\u001b[0m\n",
      "The CSR Hash for file \u001b[32mcol_4.csr\u001b[0m = \u001b[31m9429a0ead5b3ce4e4ffec008628439d4150b98240f22b152255dd8040f5d79da3c3de79f7a069dadc2ca7f63b9b231a1\u001b[0m\n",
      " Signing COLLABORATOR certificate\n",
      "\n",
      "Registering \u001b[32m4\u001b[0m in \u001b[32m/home/avinash123/.local/workspace/plan/cols.yaml\u001b[0m\n"
     ]
    }
   ],
   "source": [
    "fx.init('torch_cnn_mnist', col_names=collaborator_list)"
   ]
  },
  {
   "cell_type": "code",
   "execution_count": null,
   "id": "ece4a0c7",
   "metadata": {},
   "outputs": [
    {
     "data": {
      "text/html": [
       "<pre style=\"white-space:pre;overflow-x:auto;line-height:normal;font-family:Menlo,'DejaVu Sans Mono',consolas,'Courier New',monospace\"><span style=\"color: #7fbfbf; text-decoration-color: #7fbfbf\">[18:41:02] </span><span style=\"color: #000080; text-decoration-color: #000080\">INFO    </span> Updating aggregator.settings.rounds_to_train to <span style=\"color: #008080; text-decoration-color: #008080; font-weight: bold\">5</span><span style=\"color: #808000; text-decoration-color: #808000\">...</span>                                                                           <a href=\"file:///home/avinash123/anaconda3/lib/python3.9/site-packages/openfl/native/native.py\" target=\"_blank\"><span style=\"color: #7f7f7f; text-decoration-color: #7f7f7f\">native.py</span></a><span style=\"color: #7f7f7f; text-decoration-color: #7f7f7f\">:</span><a href=\"file:///home/avinash123/anaconda3/lib/python3.9/site-packages/openfl/native/native.py#102\" target=\"_blank\"><span style=\"color: #7f7f7f; text-decoration-color: #7f7f7f\">102</span></a>\n",
       "</pre>\n"
      ],
      "text/plain": [
       "\u001b[2;36m[18:41:02]\u001b[0m\u001b[2;36m \u001b[0m\u001b[34mINFO    \u001b[0m Updating aggregator.settings.rounds_to_train to \u001b[1;36m5\u001b[0m\u001b[33m...\u001b[0m                                                                           \u001b]8;id=461524;file:///home/avinash123/anaconda3/lib/python3.9/site-packages/openfl/native/native.py\u001b\\\u001b[2mnative.py\u001b[0m\u001b]8;;\u001b\\\u001b[2m:\u001b[0m\u001b]8;id=586263;file:///home/avinash123/anaconda3/lib/python3.9/site-packages/openfl/native/native.py#102\u001b\\\u001b[2m102\u001b[0m\u001b]8;;\u001b\\\n"
      ]
     },
     "metadata": {},
     "output_type": "display_data"
    },
    {
     "data": {
      "text/html": [
       "<pre style=\"white-space:pre;overflow-x:auto;line-height:normal;font-family:Menlo,'DejaVu Sans Mono',consolas,'Courier New',monospace\"><span style=\"color: #7fbfbf; text-decoration-color: #7fbfbf\">           </span><span style=\"color: #000080; text-decoration-color: #000080\">INFO    </span> FL-Plan hash is <span style=\"color: #000080; text-decoration-color: #000080\">13f67e63acd9898b5b79e193234cda2532c2a5ae8d2bb4e3162598c91675aed39c9050f63ed1a5d9a2774f2fb62272bf</span>                 <a href=\"file:///home/avinash123/anaconda3/lib/python3.9/site-packages/openfl/federated/plan/plan.py\" target=\"_blank\"><span style=\"color: #7f7f7f; text-decoration-color: #7f7f7f\">plan.py</span></a><span style=\"color: #7f7f7f; text-decoration-color: #7f7f7f\">:</span><a href=\"file:///home/avinash123/anaconda3/lib/python3.9/site-packages/openfl/federated/plan/plan.py#235\" target=\"_blank\"><span style=\"color: #7f7f7f; text-decoration-color: #7f7f7f\">235</span></a>\n",
       "</pre>\n"
      ],
      "text/plain": [
       "\u001b[2;36m          \u001b[0m\u001b[2;36m \u001b[0m\u001b[34mINFO    \u001b[0m FL-Plan hash is \u001b[34m13f67e63acd9898b5b79e193234cda2532c2a5ae8d2bb4e3162598c91675aed39c9050f63ed1a5d9a2774f2fb62272bf\u001b[0m                 \u001b]8;id=638237;file:///home/avinash123/anaconda3/lib/python3.9/site-packages/openfl/federated/plan/plan.py\u001b\\\u001b[2mplan.py\u001b[0m\u001b]8;;\u001b\\\u001b[2m:\u001b[0m\u001b]8;id=310949;file:///home/avinash123/anaconda3/lib/python3.9/site-packages/openfl/federated/plan/plan.py#235\u001b\\\u001b[2m235\u001b[0m\u001b]8;;\u001b\\\n"
      ]
     },
     "metadata": {},
     "output_type": "display_data"
    },
    {
     "data": {
      "text/html": [
       "<pre style=\"white-space:pre;overflow-x:auto;line-height:normal;font-family:Menlo,'DejaVu Sans Mono',consolas,'Courier New',monospace\"><span style=\"color: #7fbfbf; text-decoration-color: #7fbfbf\">           </span><span style=\"color: #000080; text-decoration-color: #000080\">INFO    </span> Building <span style=\"color: #800000; text-decoration-color: #800000\">🡆</span> Object <span style=\"color: #800000; text-decoration-color: #800000\">NoCompressionPipeline</span> from <span style=\"color: #800000; text-decoration-color: #800000\">openfl.pipelines</span> Module.                                                            <a href=\"file:///home/avinash123/anaconda3/lib/python3.9/site-packages/openfl/federated/plan/plan.py\" target=\"_blank\"><span style=\"color: #7f7f7f; text-decoration-color: #7f7f7f\">plan.py</span></a><span style=\"color: #7f7f7f; text-decoration-color: #7f7f7f\">:</span><a href=\"file:///home/avinash123/anaconda3/lib/python3.9/site-packages/openfl/federated/plan/plan.py#171\" target=\"_blank\"><span style=\"color: #7f7f7f; text-decoration-color: #7f7f7f\">171</span></a>\n",
       "</pre>\n"
      ],
      "text/plain": [
       "\u001b[2;36m          \u001b[0m\u001b[2;36m \u001b[0m\u001b[34mINFO    \u001b[0m Building \u001b[31m🡆\u001b[0m Object \u001b[31mNoCompressionPipeline\u001b[0m from \u001b[31mopenfl.pipelines\u001b[0m Module.                                                            \u001b]8;id=797594;file:///home/avinash123/anaconda3/lib/python3.9/site-packages/openfl/federated/plan/plan.py\u001b\\\u001b[2mplan.py\u001b[0m\u001b]8;;\u001b\\\u001b[2m:\u001b[0m\u001b]8;id=615491;file:///home/avinash123/anaconda3/lib/python3.9/site-packages/openfl/federated/plan/plan.py#171\u001b\\\u001b[2m171\u001b[0m\u001b]8;;\u001b\\\n"
      ]
     },
     "metadata": {},
     "output_type": "display_data"
    },
    {
     "data": {
      "text/html": [
       "<pre style=\"white-space:pre;overflow-x:auto;line-height:normal;font-family:Menlo,'DejaVu Sans Mono',consolas,'Courier New',monospace\"><span style=\"color: #7fbfbf; text-decoration-color: #7fbfbf\">[18:41:03] </span><span style=\"color: #000080; text-decoration-color: #000080\">INFO    </span> Creating Initial Weights File    🠆 save/torch_cnn_mnist_init.pbuf                                                              <a href=\"file:///home/avinash123/anaconda3/lib/python3.9/site-packages/openfl/native/native.py\" target=\"_blank\"><span style=\"color: #7f7f7f; text-decoration-color: #7f7f7f\">native.py</span></a><span style=\"color: #7f7f7f; text-decoration-color: #7f7f7f\">:</span><a href=\"file:///home/avinash123/anaconda3/lib/python3.9/site-packages/openfl/native/native.py#277\" target=\"_blank\"><span style=\"color: #7f7f7f; text-decoration-color: #7f7f7f\">277</span></a>\n",
       "</pre>\n"
      ],
      "text/plain": [
       "\u001b[2;36m[18:41:03]\u001b[0m\u001b[2;36m \u001b[0m\u001b[34mINFO    \u001b[0m Creating Initial Weights File    🠆 save/torch_cnn_mnist_init.pbuf                                                              \u001b]8;id=372579;file:///home/avinash123/anaconda3/lib/python3.9/site-packages/openfl/native/native.py\u001b\\\u001b[2mnative.py\u001b[0m\u001b]8;;\u001b\\\u001b[2m:\u001b[0m\u001b]8;id=499288;file:///home/avinash123/anaconda3/lib/python3.9/site-packages/openfl/native/native.py#277\u001b\\\u001b[2m277\u001b[0m\u001b]8;;\u001b\\\n"
      ]
     },
     "metadata": {},
     "output_type": "display_data"
    },
    {
     "data": {
      "text/html": [
       "<pre style=\"white-space:pre;overflow-x:auto;line-height:normal;font-family:Menlo,'DejaVu Sans Mono',consolas,'Courier New',monospace\"><span style=\"color: #7fbfbf; text-decoration-color: #7fbfbf\">           </span><span style=\"color: #000080; text-decoration-color: #000080\">INFO    </span> Starting Experiment<span style=\"color: #808000; text-decoration-color: #808000\">...</span>                                                                                                         <a href=\"file:///home/avinash123/anaconda3/lib/python3.9/site-packages/openfl/native/native.py\" target=\"_blank\"><span style=\"color: #7f7f7f; text-decoration-color: #7f7f7f\">native.py</span></a><span style=\"color: #7f7f7f; text-decoration-color: #7f7f7f\">:</span><a href=\"file:///home/avinash123/anaconda3/lib/python3.9/site-packages/openfl/native/native.py#281\" target=\"_blank\"><span style=\"color: #7f7f7f; text-decoration-color: #7f7f7f\">281</span></a>\n",
       "</pre>\n"
      ],
      "text/plain": [
       "\u001b[2;36m          \u001b[0m\u001b[2;36m \u001b[0m\u001b[34mINFO    \u001b[0m Starting Experiment\u001b[33m...\u001b[0m                                                                                                         \u001b]8;id=237274;file:///home/avinash123/anaconda3/lib/python3.9/site-packages/openfl/native/native.py\u001b\\\u001b[2mnative.py\u001b[0m\u001b]8;;\u001b\\\u001b[2m:\u001b[0m\u001b]8;id=375545;file:///home/avinash123/anaconda3/lib/python3.9/site-packages/openfl/native/native.py#281\u001b\\\u001b[2m281\u001b[0m\u001b]8;;\u001b\\\n"
      ]
     },
     "metadata": {},
     "output_type": "display_data"
    },
    {
     "data": {
      "text/html": [
       "<pre style=\"white-space:pre;overflow-x:auto;line-height:normal;font-family:Menlo,'DejaVu Sans Mono',consolas,'Courier New',monospace\"><span style=\"color: #7fbfbf; text-decoration-color: #7fbfbf\">           </span><span style=\"color: #000080; text-decoration-color: #000080\">INFO    </span> Building <span style=\"color: #800000; text-decoration-color: #800000\">🡆</span> Object <span style=\"color: #800000; text-decoration-color: #800000\">RandomGroupedAssigner</span> from <span style=\"color: #800000; text-decoration-color: #800000\">openfl.component</span> Module.                                                            <a href=\"file:///home/avinash123/anaconda3/lib/python3.9/site-packages/openfl/federated/plan/plan.py\" target=\"_blank\"><span style=\"color: #7f7f7f; text-decoration-color: #7f7f7f\">plan.py</span></a><span style=\"color: #7f7f7f; text-decoration-color: #7f7f7f\">:</span><a href=\"file:///home/avinash123/anaconda3/lib/python3.9/site-packages/openfl/federated/plan/plan.py#171\" target=\"_blank\"><span style=\"color: #7f7f7f; text-decoration-color: #7f7f7f\">171</span></a>\n",
       "</pre>\n"
      ],
      "text/plain": [
       "\u001b[2;36m          \u001b[0m\u001b[2;36m \u001b[0m\u001b[34mINFO    \u001b[0m Building \u001b[31m🡆\u001b[0m Object \u001b[31mRandomGroupedAssigner\u001b[0m from \u001b[31mopenfl.component\u001b[0m Module.                                                            \u001b]8;id=998327;file:///home/avinash123/anaconda3/lib/python3.9/site-packages/openfl/federated/plan/plan.py\u001b\\\u001b[2mplan.py\u001b[0m\u001b]8;;\u001b\\\u001b[2m:\u001b[0m\u001b]8;id=897233;file:///home/avinash123/anaconda3/lib/python3.9/site-packages/openfl/federated/plan/plan.py#171\u001b\\\u001b[2m171\u001b[0m\u001b]8;;\u001b\\\n"
      ]
     },
     "metadata": {},
     "output_type": "display_data"
    },
    {
     "data": {
      "text/html": [
       "<pre style=\"white-space:pre;overflow-x:auto;line-height:normal;font-family:Menlo,'DejaVu Sans Mono',consolas,'Courier New',monospace\"><span style=\"color: #7fbfbf; text-decoration-color: #7fbfbf\">           </span><span style=\"color: #000080; text-decoration-color: #000080\">INFO    </span> Building <span style=\"color: #800000; text-decoration-color: #800000\">🡆</span> Object <span style=\"color: #800000; text-decoration-color: #800000\">CutoffTimeBasedStragglerHandling</span> from <span style=\"color: #800000; text-decoration-color: #800000\">openfl.component.straggler_handling_functions</span> Module.                    <a href=\"file:///home/avinash123/anaconda3/lib/python3.9/site-packages/openfl/federated/plan/plan.py\" target=\"_blank\"><span style=\"color: #7f7f7f; text-decoration-color: #7f7f7f\">plan.py</span></a><span style=\"color: #7f7f7f; text-decoration-color: #7f7f7f\">:</span><a href=\"file:///home/avinash123/anaconda3/lib/python3.9/site-packages/openfl/federated/plan/plan.py#171\" target=\"_blank\"><span style=\"color: #7f7f7f; text-decoration-color: #7f7f7f\">171</span></a>\n",
       "</pre>\n"
      ],
      "text/plain": [
       "\u001b[2;36m          \u001b[0m\u001b[2;36m \u001b[0m\u001b[34mINFO    \u001b[0m Building \u001b[31m🡆\u001b[0m Object \u001b[31mCutoffTimeBasedStragglerHandling\u001b[0m from \u001b[31mopenfl.component.straggler_handling_functions\u001b[0m Module.                    \u001b]8;id=950826;file:///home/avinash123/anaconda3/lib/python3.9/site-packages/openfl/federated/plan/plan.py\u001b\\\u001b[2mplan.py\u001b[0m\u001b]8;;\u001b\\\u001b[2m:\u001b[0m\u001b]8;id=473568;file:///home/avinash123/anaconda3/lib/python3.9/site-packages/openfl/federated/plan/plan.py#171\u001b\\\u001b[2m171\u001b[0m\u001b]8;;\u001b\\\n"
      ]
     },
     "metadata": {},
     "output_type": "display_data"
    },
    {
     "data": {
      "text/html": [
       "<pre style=\"white-space:pre;overflow-x:auto;line-height:normal;font-family:Menlo,'DejaVu Sans Mono',consolas,'Courier New',monospace\"><span style=\"color: #7fbfbf; text-decoration-color: #7fbfbf\">           </span><span style=\"color: #000080; text-decoration-color: #000080\">INFO    </span> Importing <span style=\"color: #800000; text-decoration-color: #800000\">🡆</span> Object <span style=\"color: #800000; text-decoration-color: #800000\">write_metric</span> from <span style=\"color: #800000; text-decoration-color: #800000\">src.mnist_utils</span> Module.                                                                     <a href=\"file:///home/avinash123/anaconda3/lib/python3.9/site-packages/openfl/federated/plan/plan.py\" target=\"_blank\"><span style=\"color: #7f7f7f; text-decoration-color: #7f7f7f\">plan.py</span></a><span style=\"color: #7f7f7f; text-decoration-color: #7f7f7f\">:</span><a href=\"file:///home/avinash123/anaconda3/lib/python3.9/site-packages/openfl/federated/plan/plan.py#199\" target=\"_blank\"><span style=\"color: #7f7f7f; text-decoration-color: #7f7f7f\">199</span></a>\n",
       "</pre>\n"
      ],
      "text/plain": [
       "\u001b[2;36m          \u001b[0m\u001b[2;36m \u001b[0m\u001b[34mINFO    \u001b[0m Importing \u001b[31m🡆\u001b[0m Object \u001b[31mwrite_metric\u001b[0m from \u001b[31msrc.mnist_utils\u001b[0m Module.                                                                     \u001b]8;id=482289;file:///home/avinash123/anaconda3/lib/python3.9/site-packages/openfl/federated/plan/plan.py\u001b\\\u001b[2mplan.py\u001b[0m\u001b]8;;\u001b\\\u001b[2m:\u001b[0m\u001b]8;id=168276;file:///home/avinash123/anaconda3/lib/python3.9/site-packages/openfl/federated/plan/plan.py#199\u001b\\\u001b[2m199\u001b[0m\u001b]8;;\u001b\\\n"
      ]
     },
     "metadata": {},
     "output_type": "display_data"
    },
    {
     "data": {
      "text/html": [
       "<pre style=\"white-space:pre;overflow-x:auto;line-height:normal;font-family:Menlo,'DejaVu Sans Mono',consolas,'Courier New',monospace\"><span style=\"color: #7fbfbf; text-decoration-color: #7fbfbf\">           </span><span style=\"color: #000080; text-decoration-color: #000080\">INFO    </span> Building <span style=\"color: #800000; text-decoration-color: #800000\">🡆</span> Object <span style=\"color: #800000; text-decoration-color: #800000\">Aggregator</span> from <span style=\"color: #800000; text-decoration-color: #800000\">openfl.component</span> Module.                                                                       <a href=\"file:///home/avinash123/anaconda3/lib/python3.9/site-packages/openfl/federated/plan/plan.py\" target=\"_blank\"><span style=\"color: #7f7f7f; text-decoration-color: #7f7f7f\">plan.py</span></a><span style=\"color: #7f7f7f; text-decoration-color: #7f7f7f\">:</span><a href=\"file:///home/avinash123/anaconda3/lib/python3.9/site-packages/openfl/federated/plan/plan.py#171\" target=\"_blank\"><span style=\"color: #7f7f7f; text-decoration-color: #7f7f7f\">171</span></a>\n",
       "</pre>\n"
      ],
      "text/plain": [
       "\u001b[2;36m          \u001b[0m\u001b[2;36m \u001b[0m\u001b[34mINFO    \u001b[0m Building \u001b[31m🡆\u001b[0m Object \u001b[31mAggregator\u001b[0m from \u001b[31mopenfl.component\u001b[0m Module.                                                                       \u001b]8;id=821217;file:///home/avinash123/anaconda3/lib/python3.9/site-packages/openfl/federated/plan/plan.py\u001b\\\u001b[2mplan.py\u001b[0m\u001b]8;;\u001b\\\u001b[2m:\u001b[0m\u001b]8;id=95885;file:///home/avinash123/anaconda3/lib/python3.9/site-packages/openfl/federated/plan/plan.py#171\u001b\\\u001b[2m171\u001b[0m\u001b]8;;\u001b\\\n"
      ]
     },
     "metadata": {},
     "output_type": "display_data"
    },
    {
     "data": {
      "text/html": [
       "<pre style=\"white-space:pre;overflow-x:auto;line-height:normal;font-family:Menlo,'DejaVu Sans Mono',consolas,'Courier New',monospace\"><span style=\"color: #7fbfbf; text-decoration-color: #7fbfbf\">           </span><span style=\"color: #000080; text-decoration-color: #000080\">INFO    </span> Using custom log metric: <span style=\"font-weight: bold\">&lt;</span><span style=\"color: #ff00ff; text-decoration-color: #ff00ff; font-weight: bold\">function</span><span style=\"color: #000000; text-decoration-color: #000000\"> write_metric at </span><span style=\"color: #008080; text-decoration-color: #008080; font-weight: bold\">0x7fbb8728eb80</span><span style=\"font-weight: bold\">&gt;</span>                                                          <a href=\"file:///home/avinash123/anaconda3/lib/python3.9/site-packages/openfl/component/aggregator/aggregator.py\" target=\"_blank\"><span style=\"color: #7f7f7f; text-decoration-color: #7f7f7f\">aggregator.py</span></a><span style=\"color: #7f7f7f; text-decoration-color: #7f7f7f\">:</span><a href=\"file:///home/avinash123/anaconda3/lib/python3.9/site-packages/openfl/component/aggregator/aggregator.py#97\" target=\"_blank\"><span style=\"color: #7f7f7f; text-decoration-color: #7f7f7f\">97</span></a>\n",
       "</pre>\n"
      ],
      "text/plain": [
       "\u001b[2;36m          \u001b[0m\u001b[2;36m \u001b[0m\u001b[34mINFO    \u001b[0m Using custom log metric: \u001b[1m<\u001b[0m\u001b[1;95mfunction\u001b[0m\u001b[39m write_metric at \u001b[0m\u001b[1;36m0x7fbb8728eb80\u001b[0m\u001b[1m>\u001b[0m                                                          \u001b]8;id=824445;file:///home/avinash123/anaconda3/lib/python3.9/site-packages/openfl/component/aggregator/aggregator.py\u001b\\\u001b[2maggregator.py\u001b[0m\u001b]8;;\u001b\\\u001b[2m:\u001b[0m\u001b]8;id=387807;file:///home/avinash123/anaconda3/lib/python3.9/site-packages/openfl/component/aggregator/aggregator.py#97\u001b\\\u001b[2m97\u001b[0m\u001b]8;;\u001b\\\n"
      ]
     },
     "metadata": {},
     "output_type": "display_data"
    },
    {
     "data": {
      "text/html": [
       "<pre style=\"white-space:pre;overflow-x:auto;line-height:normal;font-family:Menlo,'DejaVu Sans Mono',consolas,'Courier New',monospace\"><span style=\"color: #7fbfbf; text-decoration-color: #7fbfbf\">           </span><span style=\"color: #000080; text-decoration-color: #000080\">INFO    </span> Building <span style=\"color: #800000; text-decoration-color: #800000\">🡆</span> Object <span style=\"color: #800000; text-decoration-color: #800000\">Collaborator</span> from <span style=\"color: #800000; text-decoration-color: #800000\">openfl.component</span> Module.                                                                     <a href=\"file:///home/avinash123/anaconda3/lib/python3.9/site-packages/openfl/federated/plan/plan.py\" target=\"_blank\"><span style=\"color: #7f7f7f; text-decoration-color: #7f7f7f\">plan.py</span></a><span style=\"color: #7f7f7f; text-decoration-color: #7f7f7f\">:</span><a href=\"file:///home/avinash123/anaconda3/lib/python3.9/site-packages/openfl/federated/plan/plan.py#171\" target=\"_blank\"><span style=\"color: #7f7f7f; text-decoration-color: #7f7f7f\">171</span></a>\n",
       "</pre>\n"
      ],
      "text/plain": [
       "\u001b[2;36m          \u001b[0m\u001b[2;36m \u001b[0m\u001b[34mINFO    \u001b[0m Building \u001b[31m🡆\u001b[0m Object \u001b[31mCollaborator\u001b[0m from \u001b[31mopenfl.component\u001b[0m Module.                                                                     \u001b]8;id=198351;file:///home/avinash123/anaconda3/lib/python3.9/site-packages/openfl/federated/plan/plan.py\u001b\\\u001b[2mplan.py\u001b[0m\u001b]8;;\u001b\\\u001b[2m:\u001b[0m\u001b]8;id=872126;file:///home/avinash123/anaconda3/lib/python3.9/site-packages/openfl/federated/plan/plan.py#171\u001b\\\u001b[2m171\u001b[0m\u001b]8;;\u001b\\\n"
      ]
     },
     "metadata": {},
     "output_type": "display_data"
    },
    {
     "data": {
      "text/html": [
       "<pre style=\"white-space:pre;overflow-x:auto;line-height:normal;font-family:Menlo,'DejaVu Sans Mono',consolas,'Courier New',monospace\"><span style=\"color: #7fbfbf; text-decoration-color: #7fbfbf\">           </span><span style=\"color: #000080; text-decoration-color: #000080\">INFO    </span> Building <span style=\"color: #800000; text-decoration-color: #800000\">🡆</span> Object <span style=\"color: #800000; text-decoration-color: #800000\">Collaborator</span> from <span style=\"color: #800000; text-decoration-color: #800000\">openfl.component</span> Module.                                                                     <a href=\"file:///home/avinash123/anaconda3/lib/python3.9/site-packages/openfl/federated/plan/plan.py\" target=\"_blank\"><span style=\"color: #7f7f7f; text-decoration-color: #7f7f7f\">plan.py</span></a><span style=\"color: #7f7f7f; text-decoration-color: #7f7f7f\">:</span><a href=\"file:///home/avinash123/anaconda3/lib/python3.9/site-packages/openfl/federated/plan/plan.py#171\" target=\"_blank\"><span style=\"color: #7f7f7f; text-decoration-color: #7f7f7f\">171</span></a>\n",
       "</pre>\n"
      ],
      "text/plain": [
       "\u001b[2;36m          \u001b[0m\u001b[2;36m \u001b[0m\u001b[34mINFO    \u001b[0m Building \u001b[31m🡆\u001b[0m Object \u001b[31mCollaborator\u001b[0m from \u001b[31mopenfl.component\u001b[0m Module.                                                                     \u001b]8;id=663485;file:///home/avinash123/anaconda3/lib/python3.9/site-packages/openfl/federated/plan/plan.py\u001b\\\u001b[2mplan.py\u001b[0m\u001b]8;;\u001b\\\u001b[2m:\u001b[0m\u001b]8;id=3255;file:///home/avinash123/anaconda3/lib/python3.9/site-packages/openfl/federated/plan/plan.py#171\u001b\\\u001b[2m171\u001b[0m\u001b]8;;\u001b\\\n"
      ]
     },
     "metadata": {},
     "output_type": "display_data"
    },
    {
     "data": {
      "text/html": [
       "<pre style=\"white-space:pre;overflow-x:auto;line-height:normal;font-family:Menlo,'DejaVu Sans Mono',consolas,'Courier New',monospace\"><span style=\"color: #7fbfbf; text-decoration-color: #7fbfbf\">           </span><span style=\"color: #000080; text-decoration-color: #000080\">INFO    </span> Building <span style=\"color: #800000; text-decoration-color: #800000\">🡆</span> Object <span style=\"color: #800000; text-decoration-color: #800000\">Collaborator</span> from <span style=\"color: #800000; text-decoration-color: #800000\">openfl.component</span> Module.                                                                     <a href=\"file:///home/avinash123/anaconda3/lib/python3.9/site-packages/openfl/federated/plan/plan.py\" target=\"_blank\"><span style=\"color: #7f7f7f; text-decoration-color: #7f7f7f\">plan.py</span></a><span style=\"color: #7f7f7f; text-decoration-color: #7f7f7f\">:</span><a href=\"file:///home/avinash123/anaconda3/lib/python3.9/site-packages/openfl/federated/plan/plan.py#171\" target=\"_blank\"><span style=\"color: #7f7f7f; text-decoration-color: #7f7f7f\">171</span></a>\n",
       "</pre>\n"
      ],
      "text/plain": [
       "\u001b[2;36m          \u001b[0m\u001b[2;36m \u001b[0m\u001b[34mINFO    \u001b[0m Building \u001b[31m🡆\u001b[0m Object \u001b[31mCollaborator\u001b[0m from \u001b[31mopenfl.component\u001b[0m Module.                                                                     \u001b]8;id=408691;file:///home/avinash123/anaconda3/lib/python3.9/site-packages/openfl/federated/plan/plan.py\u001b\\\u001b[2mplan.py\u001b[0m\u001b]8;;\u001b\\\u001b[2m:\u001b[0m\u001b]8;id=833844;file:///home/avinash123/anaconda3/lib/python3.9/site-packages/openfl/federated/plan/plan.py#171\u001b\\\u001b[2m171\u001b[0m\u001b]8;;\u001b\\\n"
      ]
     },
     "metadata": {},
     "output_type": "display_data"
    },
    {
     "data": {
      "text/html": [
       "<pre style=\"white-space:pre;overflow-x:auto;line-height:normal;font-family:Menlo,'DejaVu Sans Mono',consolas,'Courier New',monospace\"><span style=\"color: #7fbfbf; text-decoration-color: #7fbfbf\">           </span><span style=\"color: #000080; text-decoration-color: #000080\">INFO    </span> Building <span style=\"color: #800000; text-decoration-color: #800000\">🡆</span> Object <span style=\"color: #800000; text-decoration-color: #800000\">Collaborator</span> from <span style=\"color: #800000; text-decoration-color: #800000\">openfl.component</span> Module.                                                                     <a href=\"file:///home/avinash123/anaconda3/lib/python3.9/site-packages/openfl/federated/plan/plan.py\" target=\"_blank\"><span style=\"color: #7f7f7f; text-decoration-color: #7f7f7f\">plan.py</span></a><span style=\"color: #7f7f7f; text-decoration-color: #7f7f7f\">:</span><a href=\"file:///home/avinash123/anaconda3/lib/python3.9/site-packages/openfl/federated/plan/plan.py#171\" target=\"_blank\"><span style=\"color: #7f7f7f; text-decoration-color: #7f7f7f\">171</span></a>\n",
       "</pre>\n"
      ],
      "text/plain": [
       "\u001b[2;36m          \u001b[0m\u001b[2;36m \u001b[0m\u001b[34mINFO    \u001b[0m Building \u001b[31m🡆\u001b[0m Object \u001b[31mCollaborator\u001b[0m from \u001b[31mopenfl.component\u001b[0m Module.                                                                     \u001b]8;id=521281;file:///home/avinash123/anaconda3/lib/python3.9/site-packages/openfl/federated/plan/plan.py\u001b\\\u001b[2mplan.py\u001b[0m\u001b]8;;\u001b\\\u001b[2m:\u001b[0m\u001b]8;id=262391;file:///home/avinash123/anaconda3/lib/python3.9/site-packages/openfl/federated/plan/plan.py#171\u001b\\\u001b[2m171\u001b[0m\u001b]8;;\u001b\\\n"
      ]
     },
     "metadata": {},
     "output_type": "display_data"
    },
    {
     "data": {
      "text/html": [
       "<pre style=\"white-space:pre;overflow-x:auto;line-height:normal;font-family:Menlo,'DejaVu Sans Mono',consolas,'Courier New',monospace\"><span style=\"color: #7fbfbf; text-decoration-color: #7fbfbf\">           </span><span style=\"color: #000080; text-decoration-color: #000080\">INFO    </span> Building <span style=\"color: #800000; text-decoration-color: #800000\">🡆</span> Object <span style=\"color: #800000; text-decoration-color: #800000\">Collaborator</span> from <span style=\"color: #800000; text-decoration-color: #800000\">openfl.component</span> Module.                                                                     <a href=\"file:///home/avinash123/anaconda3/lib/python3.9/site-packages/openfl/federated/plan/plan.py\" target=\"_blank\"><span style=\"color: #7f7f7f; text-decoration-color: #7f7f7f\">plan.py</span></a><span style=\"color: #7f7f7f; text-decoration-color: #7f7f7f\">:</span><a href=\"file:///home/avinash123/anaconda3/lib/python3.9/site-packages/openfl/federated/plan/plan.py#171\" target=\"_blank\"><span style=\"color: #7f7f7f; text-decoration-color: #7f7f7f\">171</span></a>\n",
       "</pre>\n"
      ],
      "text/plain": [
       "\u001b[2;36m          \u001b[0m\u001b[2;36m \u001b[0m\u001b[34mINFO    \u001b[0m Building \u001b[31m🡆\u001b[0m Object \u001b[31mCollaborator\u001b[0m from \u001b[31mopenfl.component\u001b[0m Module.                                                                     \u001b]8;id=918437;file:///home/avinash123/anaconda3/lib/python3.9/site-packages/openfl/federated/plan/plan.py\u001b\\\u001b[2mplan.py\u001b[0m\u001b]8;;\u001b\\\u001b[2m:\u001b[0m\u001b]8;id=725726;file:///home/avinash123/anaconda3/lib/python3.9/site-packages/openfl/federated/plan/plan.py#171\u001b\\\u001b[2m171\u001b[0m\u001b]8;;\u001b\\\n"
      ]
     },
     "metadata": {},
     "output_type": "display_data"
    },
    {
     "data": {
      "text/html": [
       "<pre style=\"white-space:pre;overflow-x:auto;line-height:normal;font-family:Menlo,'DejaVu Sans Mono',consolas,'Courier New',monospace\"><span style=\"color: #7fbfbf; text-decoration-color: #7fbfbf\">           </span><span style=\"color: #000080; text-decoration-color: #000080\">INFO    </span> Waiting for tasks<span style=\"color: #808000; text-decoration-color: #808000\">...</span>                                                                                                     <a href=\"file:///home/avinash123/anaconda3/lib/python3.9/site-packages/openfl/component/collaborator/collaborator.py\" target=\"_blank\"><span style=\"color: #7f7f7f; text-decoration-color: #7f7f7f\">collaborator.py</span></a><span style=\"color: #7f7f7f; text-decoration-color: #7f7f7f\">:</span><a href=\"file:///home/avinash123/anaconda3/lib/python3.9/site-packages/openfl/component/collaborator/collaborator.py#178\" target=\"_blank\"><span style=\"color: #7f7f7f; text-decoration-color: #7f7f7f\">178</span></a>\n",
       "</pre>\n"
      ],
      "text/plain": [
       "\u001b[2;36m          \u001b[0m\u001b[2;36m \u001b[0m\u001b[34mINFO    \u001b[0m Waiting for tasks\u001b[33m...\u001b[0m                                                                                                     \u001b]8;id=263446;file:///home/avinash123/anaconda3/lib/python3.9/site-packages/openfl/component/collaborator/collaborator.py\u001b\\\u001b[2mcollaborator.py\u001b[0m\u001b]8;;\u001b\\\u001b[2m:\u001b[0m\u001b]8;id=5556;file:///home/avinash123/anaconda3/lib/python3.9/site-packages/openfl/component/collaborator/collaborator.py#178\u001b\\\u001b[2m178\u001b[0m\u001b]8;;\u001b\\\n"
      ]
     },
     "metadata": {},
     "output_type": "display_data"
    },
    {
     "data": {
      "text/html": [
       "<pre style=\"white-space:pre;overflow-x:auto;line-height:normal;font-family:Menlo,'DejaVu Sans Mono',consolas,'Courier New',monospace\"><span style=\"color: #7fbfbf; text-decoration-color: #7fbfbf\">           </span><span style=\"color: #000080; text-decoration-color: #000080\">INFO    </span> Sending tasks to collaborator <span style=\"color: #008080; text-decoration-color: #008080; font-weight: bold\">0</span> for round <span style=\"color: #008080; text-decoration-color: #008080; font-weight: bold\">0</span>                                                                                <a href=\"file:///home/avinash123/anaconda3/lib/python3.9/site-packages/openfl/component/aggregator/aggregator.py\" target=\"_blank\"><span style=\"color: #7f7f7f; text-decoration-color: #7f7f7f\">aggregator.py</span></a><span style=\"color: #7f7f7f; text-decoration-color: #7f7f7f\">:</span><a href=\"file:///home/avinash123/anaconda3/lib/python3.9/site-packages/openfl/component/aggregator/aggregator.py#329\" target=\"_blank\"><span style=\"color: #7f7f7f; text-decoration-color: #7f7f7f\">329</span></a>\n",
       "</pre>\n"
      ],
      "text/plain": [
       "\u001b[2;36m          \u001b[0m\u001b[2;36m \u001b[0m\u001b[34mINFO    \u001b[0m Sending tasks to collaborator \u001b[1;36m0\u001b[0m for round \u001b[1;36m0\u001b[0m                                                                                \u001b]8;id=900251;file:///home/avinash123/anaconda3/lib/python3.9/site-packages/openfl/component/aggregator/aggregator.py\u001b\\\u001b[2maggregator.py\u001b[0m\u001b]8;;\u001b\\\u001b[2m:\u001b[0m\u001b]8;id=761981;file:///home/avinash123/anaconda3/lib/python3.9/site-packages/openfl/component/aggregator/aggregator.py#329\u001b\\\u001b[2m329\u001b[0m\u001b]8;;\u001b\\\n"
      ]
     },
     "metadata": {},
     "output_type": "display_data"
    },
    {
     "data": {
      "text/html": [
       "<pre style=\"white-space:pre;overflow-x:auto;line-height:normal;font-family:Menlo,'DejaVu Sans Mono',consolas,'Courier New',monospace\"><span style=\"color: #7fbfbf; text-decoration-color: #7fbfbf\">           </span><span style=\"color: #000080; text-decoration-color: #000080\">INFO    </span> Received the following tasks: <span style=\"font-weight: bold\">[</span><span style=\"color: #008000; text-decoration-color: #008000\">'aggregated_model_validation'</span>, <span style=\"color: #008000; text-decoration-color: #008000\">'train'</span>, <span style=\"color: #008000; text-decoration-color: #008000\">'locally_tuned_model_validation'</span><span style=\"font-weight: bold\">]</span>                 <a href=\"file:///home/avinash123/anaconda3/lib/python3.9/site-packages/openfl/component/collaborator/collaborator.py\" target=\"_blank\"><span style=\"color: #7f7f7f; text-decoration-color: #7f7f7f\">collaborator.py</span></a><span style=\"color: #7f7f7f; text-decoration-color: #7f7f7f\">:</span><a href=\"file:///home/avinash123/anaconda3/lib/python3.9/site-packages/openfl/component/collaborator/collaborator.py#168\" target=\"_blank\"><span style=\"color: #7f7f7f; text-decoration-color: #7f7f7f\">168</span></a>\n",
       "</pre>\n"
      ],
      "text/plain": [
       "\u001b[2;36m          \u001b[0m\u001b[2;36m \u001b[0m\u001b[34mINFO    \u001b[0m Received the following tasks: \u001b[1m[\u001b[0m\u001b[32m'aggregated_model_validation'\u001b[0m, \u001b[32m'train'\u001b[0m, \u001b[32m'locally_tuned_model_validation'\u001b[0m\u001b[1m]\u001b[0m                 \u001b]8;id=372985;file:///home/avinash123/anaconda3/lib/python3.9/site-packages/openfl/component/collaborator/collaborator.py\u001b\\\u001b[2mcollaborator.py\u001b[0m\u001b]8;;\u001b\\\u001b[2m:\u001b[0m\u001b]8;id=318721;file:///home/avinash123/anaconda3/lib/python3.9/site-packages/openfl/component/collaborator/collaborator.py#168\u001b\\\u001b[2m168\u001b[0m\u001b]8;;\u001b\\\n"
      ]
     },
     "metadata": {},
     "output_type": "display_data"
    },
    {
     "data": {
      "text/html": [
       "<pre style=\"white-space:pre;overflow-x:auto;line-height:normal;font-family:Menlo,'DejaVu Sans Mono',consolas,'Courier New',monospace\"><span style=\"color: #7fbfbf; text-decoration-color: #7fbfbf\">[18:41:04] </span><span style=\"color: #000080; text-decoration-color: #000080\">INFO    </span> Using TaskRunner subclassing API                                                                                         <a href=\"file:///home/avinash123/anaconda3/lib/python3.9/site-packages/openfl/component/collaborator/collaborator.py\" target=\"_blank\"><span style=\"color: #7f7f7f; text-decoration-color: #7f7f7f\">collaborator.py</span></a><span style=\"color: #7f7f7f; text-decoration-color: #7f7f7f\">:</span><a href=\"file:///home/avinash123/anaconda3/lib/python3.9/site-packages/openfl/component/collaborator/collaborator.py#253\" target=\"_blank\"><span style=\"color: #7f7f7f; text-decoration-color: #7f7f7f\">253</span></a>\n",
       "</pre>\n"
      ],
      "text/plain": [
       "\u001b[2;36m[18:41:04]\u001b[0m\u001b[2;36m \u001b[0m\u001b[34mINFO    \u001b[0m Using TaskRunner subclassing API                                                                                         \u001b]8;id=470204;file:///home/avinash123/anaconda3/lib/python3.9/site-packages/openfl/component/collaborator/collaborator.py\u001b\\\u001b[2mcollaborator.py\u001b[0m\u001b]8;;\u001b\\\u001b[2m:\u001b[0m\u001b]8;id=876492;file:///home/avinash123/anaconda3/lib/python3.9/site-packages/openfl/component/collaborator/collaborator.py#253\u001b\\\u001b[2m253\u001b[0m\u001b]8;;\u001b\\\n"
      ]
     },
     "metadata": {},
     "output_type": "display_data"
    },
    {
     "name": "stderr",
     "output_type": "stream",
     "text": [
      "/home/avinash123/anaconda3/lib/python3.9/site-packages/openfl/federated/task/runner_pt.py:284: UserWarning: The given NumPy array is not writable, and PyTorch does not support non-writable tensors. This means writing to this tensor will result in undefined behavior. You may want to copy the array to protect its data or make it writable before converting it to a tensor. This type of warning will be suppressed for the rest of this program. (Triggered internally at ../torch/csrc/utils/tensor_numpy.cpp:199.)\n",
      "  new_state[k] = pt.from_numpy(tensor_dict.pop(k)).to(device)\n",
      "/home/avinash123/anaconda3/lib/python3.9/site-packages/openfl/federated/task/runner_pt.py:107: UserWarning: To copy construct from a tensor, it is recommended to use sourceTensor.clone().detach() or sourceTensor.clone().detach().requires_grad_(True), rather than torch.tensor(sourceTensor).\n",
      "  data, target = pt.tensor(data).to(self.device), pt.tensor(\n"
     ]
    },
    {
     "data": {
      "text/html": [
       "<pre style=\"white-space:pre;overflow-x:auto;line-height:normal;font-family:Menlo,'DejaVu Sans Mono',consolas,'Courier New',monospace\"><span style=\"color: #7fbfbf; text-decoration-color: #7fbfbf\">[18:41:05] </span>METRIC   Round <span style=\"color: #008080; text-decoration-color: #008080; font-weight: bold\">0</span>, collaborator <span style=\"color: #008080; text-decoration-color: #008080; font-weight: bold\">0</span> is sending metric for task aggregated_model_validation: acc     <span style=\"color: #008080; text-decoration-color: #008080; font-weight: bold\">0.160256</span>                         <a href=\"file:///home/avinash123/anaconda3/lib/python3.9/site-packages/openfl/component/collaborator/collaborator.py\" target=\"_blank\"><span style=\"color: #7f7f7f; text-decoration-color: #7f7f7f\">collaborator.py</span></a><span style=\"color: #7f7f7f; text-decoration-color: #7f7f7f\">:</span><a href=\"file:///home/avinash123/anaconda3/lib/python3.9/site-packages/openfl/component/collaborator/collaborator.py#415\" target=\"_blank\"><span style=\"color: #7f7f7f; text-decoration-color: #7f7f7f\">415</span></a>\n",
       "</pre>\n"
      ],
      "text/plain": [
       "\u001b[2;36m[18:41:05]\u001b[0m\u001b[2;36m \u001b[0mMETRIC   Round \u001b[1;36m0\u001b[0m, collaborator \u001b[1;36m0\u001b[0m is sending metric for task aggregated_model_validation: acc     \u001b[1;36m0.160256\u001b[0m                         \u001b]8;id=568975;file:///home/avinash123/anaconda3/lib/python3.9/site-packages/openfl/component/collaborator/collaborator.py\u001b\\\u001b[2mcollaborator.py\u001b[0m\u001b]8;;\u001b\\\u001b[2m:\u001b[0m\u001b]8;id=853501;file:///home/avinash123/anaconda3/lib/python3.9/site-packages/openfl/component/collaborator/collaborator.py#415\u001b\\\u001b[2m415\u001b[0m\u001b]8;;\u001b\\\n"
      ]
     },
     "metadata": {},
     "output_type": "display_data"
    },
    {
     "data": {
      "text/html": [
       "<pre style=\"white-space:pre;overflow-x:auto;line-height:normal;font-family:Menlo,'DejaVu Sans Mono',consolas,'Courier New',monospace\"><span style=\"color: #7fbfbf; text-decoration-color: #7fbfbf\">           </span><span style=\"color: #000080; text-decoration-color: #000080\">INFO    </span> Collaborator <span style=\"color: #008080; text-decoration-color: #008080; font-weight: bold\">0</span> is sending task results for aggregated_model_validation, round <span style=\"color: #008080; text-decoration-color: #008080; font-weight: bold\">0</span>                                            <a href=\"file:///home/avinash123/anaconda3/lib/python3.9/site-packages/openfl/component/aggregator/aggregator.py\" target=\"_blank\"><span style=\"color: #7f7f7f; text-decoration-color: #7f7f7f\">aggregator.py</span></a><span style=\"color: #7f7f7f; text-decoration-color: #7f7f7f\">:</span><a href=\"file:///home/avinash123/anaconda3/lib/python3.9/site-packages/openfl/component/aggregator/aggregator.py#520\" target=\"_blank\"><span style=\"color: #7f7f7f; text-decoration-color: #7f7f7f\">520</span></a>\n",
       "</pre>\n"
      ],
      "text/plain": [
       "\u001b[2;36m          \u001b[0m\u001b[2;36m \u001b[0m\u001b[34mINFO    \u001b[0m Collaborator \u001b[1;36m0\u001b[0m is sending task results for aggregated_model_validation, round \u001b[1;36m0\u001b[0m                                            \u001b]8;id=597627;file:///home/avinash123/anaconda3/lib/python3.9/site-packages/openfl/component/aggregator/aggregator.py\u001b\\\u001b[2maggregator.py\u001b[0m\u001b]8;;\u001b\\\u001b[2m:\u001b[0m\u001b]8;id=741554;file:///home/avinash123/anaconda3/lib/python3.9/site-packages/openfl/component/aggregator/aggregator.py#520\u001b\\\u001b[2m520\u001b[0m\u001b]8;;\u001b\\\n"
      ]
     },
     "metadata": {},
     "output_type": "display_data"
    },
    {
     "data": {
      "text/html": [
       "<pre style=\"white-space:pre;overflow-x:auto;line-height:normal;font-family:Menlo,'DejaVu Sans Mono',consolas,'Courier New',monospace\"><span style=\"color: #7fbfbf; text-decoration-color: #7fbfbf\">           </span>METRIC   Round <span style=\"color: #008080; text-decoration-color: #008080; font-weight: bold\">0</span>, collaborator validate_agg aggregated_model_validation result acc:      <span style=\"color: #008080; text-decoration-color: #008080; font-weight: bold\">0.160256</span>                                   <a href=\"file:///home/avinash123/anaconda3/lib/python3.9/site-packages/openfl/component/aggregator/aggregator.py\" target=\"_blank\"><span style=\"color: #7f7f7f; text-decoration-color: #7f7f7f\">aggregator.py</span></a><span style=\"color: #7f7f7f; text-decoration-color: #7f7f7f\">:</span><a href=\"file:///home/avinash123/anaconda3/lib/python3.9/site-packages/openfl/component/aggregator/aggregator.py#559\" target=\"_blank\"><span style=\"color: #7f7f7f; text-decoration-color: #7f7f7f\">559</span></a>\n",
       "</pre>\n"
      ],
      "text/plain": [
       "\u001b[2;36m          \u001b[0m\u001b[2;36m \u001b[0mMETRIC   Round \u001b[1;36m0\u001b[0m, collaborator validate_agg aggregated_model_validation result acc:      \u001b[1;36m0.160256\u001b[0m                                   \u001b]8;id=484795;file:///home/avinash123/anaconda3/lib/python3.9/site-packages/openfl/component/aggregator/aggregator.py\u001b\\\u001b[2maggregator.py\u001b[0m\u001b]8;;\u001b\\\u001b[2m:\u001b[0m\u001b]8;id=747990;file:///home/avinash123/anaconda3/lib/python3.9/site-packages/openfl/component/aggregator/aggregator.py#559\u001b\\\u001b[2m559\u001b[0m\u001b]8;;\u001b\\\n"
      ]
     },
     "metadata": {},
     "output_type": "display_data"
    },
    {
     "data": {
      "text/html": [
       "<pre style=\"white-space:pre;overflow-x:auto;line-height:normal;font-family:Menlo,'DejaVu Sans Mono',consolas,'Courier New',monospace\"><span style=\"color: #7fbfbf; text-decoration-color: #7fbfbf\">           </span><span style=\"color: #000080; text-decoration-color: #000080\">INFO    </span> Using TaskRunner subclassing API                                                                                         <a href=\"file:///home/avinash123/anaconda3/lib/python3.9/site-packages/openfl/component/collaborator/collaborator.py\" target=\"_blank\"><span style=\"color: #7f7f7f; text-decoration-color: #7f7f7f\">collaborator.py</span></a><span style=\"color: #7f7f7f; text-decoration-color: #7f7f7f\">:</span><a href=\"file:///home/avinash123/anaconda3/lib/python3.9/site-packages/openfl/component/collaborator/collaborator.py#253\" target=\"_blank\"><span style=\"color: #7f7f7f; text-decoration-color: #7f7f7f\">253</span></a>\n",
       "</pre>\n"
      ],
      "text/plain": [
       "\u001b[2;36m          \u001b[0m\u001b[2;36m \u001b[0m\u001b[34mINFO    \u001b[0m Using TaskRunner subclassing API                                                                                         \u001b]8;id=80559;file:///home/avinash123/anaconda3/lib/python3.9/site-packages/openfl/component/collaborator/collaborator.py\u001b\\\u001b[2mcollaborator.py\u001b[0m\u001b]8;;\u001b\\\u001b[2m:\u001b[0m\u001b]8;id=394770;file:///home/avinash123/anaconda3/lib/python3.9/site-packages/openfl/component/collaborator/collaborator.py#253\u001b\\\u001b[2m253\u001b[0m\u001b]8;;\u001b\\\n"
      ]
     },
     "metadata": {},
     "output_type": "display_data"
    },
    {
     "data": {
      "text/html": [
       "<pre style=\"white-space:pre;overflow-x:auto;line-height:normal;font-family:Menlo,'DejaVu Sans Mono',consolas,'Courier New',monospace\"><span style=\"color: #7fbfbf; text-decoration-color: #7fbfbf\">           </span><span style=\"color: #000080; text-decoration-color: #000080\">INFO    </span> Run <span style=\"color: #008080; text-decoration-color: #008080; font-weight: bold\">0</span> epoch of <span style=\"color: #008080; text-decoration-color: #008080; font-weight: bold\">0</span> round                                                                                                      <a href=\"file:///home/avinash123/anaconda3/lib/python3.9/site-packages/openfl/federated/task/runner_pt.py\" target=\"_blank\"><span style=\"color: #7f7f7f; text-decoration-color: #7f7f7f\">runner_pt.py</span></a><span style=\"color: #7f7f7f; text-decoration-color: #7f7f7f\">:</span><a href=\"file:///home/avinash123/anaconda3/lib/python3.9/site-packages/openfl/federated/task/runner_pt.py#155\" target=\"_blank\"><span style=\"color: #7f7f7f; text-decoration-color: #7f7f7f\">155</span></a>\n",
       "</pre>\n"
      ],
      "text/plain": [
       "\u001b[2;36m          \u001b[0m\u001b[2;36m \u001b[0m\u001b[34mINFO    \u001b[0m Run \u001b[1;36m0\u001b[0m epoch of \u001b[1;36m0\u001b[0m round                                                                                                      \u001b]8;id=677520;file:///home/avinash123/anaconda3/lib/python3.9/site-packages/openfl/federated/task/runner_pt.py\u001b\\\u001b[2mrunner_pt.py\u001b[0m\u001b]8;;\u001b\\\u001b[2m:\u001b[0m\u001b]8;id=945218;file:///home/avinash123/anaconda3/lib/python3.9/site-packages/openfl/federated/task/runner_pt.py#155\u001b\\\u001b[2m155\u001b[0m\u001b]8;;\u001b\\\n"
      ]
     },
     "metadata": {},
     "output_type": "display_data"
    },
    {
     "name": "stderr",
     "output_type": "stream",
     "text": [
      "/home/avinash123/anaconda3/lib/python3.9/site-packages/openfl/federated/task/runner_pt.py:458: UserWarning: To copy construct from a tensor, it is recommended to use sourceTensor.clone().detach() or sourceTensor.clone().detach().requires_grad_(True), rather than torch.tensor(sourceTensor).\n",
      "  data, target = pt.tensor(data).to(self.device), pt.tensor(\n"
     ]
    },
    {
     "data": {
      "text/html": [
       "<pre style=\"white-space:pre;overflow-x:auto;line-height:normal;font-family:Menlo,'DejaVu Sans Mono',consolas,'Courier New',monospace\"><span style=\"color: #7fbfbf; text-decoration-color: #7fbfbf\">[18:41:09] </span>METRIC   Round <span style=\"color: #008080; text-decoration-color: #008080; font-weight: bold\">0</span>, collaborator <span style=\"color: #008080; text-decoration-color: #008080; font-weight: bold\">0</span> is sending metric for task train: cross_entropy <span style=\"color: #008080; text-decoration-color: #008080; font-weight: bold\">0.477784</span>                                         <a href=\"file:///home/avinash123/anaconda3/lib/python3.9/site-packages/openfl/component/collaborator/collaborator.py\" target=\"_blank\"><span style=\"color: #7f7f7f; text-decoration-color: #7f7f7f\">collaborator.py</span></a><span style=\"color: #7f7f7f; text-decoration-color: #7f7f7f\">:</span><a href=\"file:///home/avinash123/anaconda3/lib/python3.9/site-packages/openfl/component/collaborator/collaborator.py#415\" target=\"_blank\"><span style=\"color: #7f7f7f; text-decoration-color: #7f7f7f\">415</span></a>\n",
       "</pre>\n"
      ],
      "text/plain": [
       "\u001b[2;36m[18:41:09]\u001b[0m\u001b[2;36m \u001b[0mMETRIC   Round \u001b[1;36m0\u001b[0m, collaborator \u001b[1;36m0\u001b[0m is sending metric for task train: cross_entropy \u001b[1;36m0.477784\u001b[0m                                         \u001b]8;id=936830;file:///home/avinash123/anaconda3/lib/python3.9/site-packages/openfl/component/collaborator/collaborator.py\u001b\\\u001b[2mcollaborator.py\u001b[0m\u001b]8;;\u001b\\\u001b[2m:\u001b[0m\u001b]8;id=613929;file:///home/avinash123/anaconda3/lib/python3.9/site-packages/openfl/component/collaborator/collaborator.py#415\u001b\\\u001b[2m415\u001b[0m\u001b]8;;\u001b\\\n"
      ]
     },
     "metadata": {},
     "output_type": "display_data"
    },
    {
     "data": {
      "text/html": [
       "<pre style=\"white-space:pre;overflow-x:auto;line-height:normal;font-family:Menlo,'DejaVu Sans Mono',consolas,'Courier New',monospace\"><span style=\"color: #7fbfbf; text-decoration-color: #7fbfbf\">           </span><span style=\"color: #000080; text-decoration-color: #000080\">INFO    </span> Collaborator <span style=\"color: #008080; text-decoration-color: #008080; font-weight: bold\">0</span> is sending task results for train, round <span style=\"color: #008080; text-decoration-color: #008080; font-weight: bold\">0</span>                                                                  <a href=\"file:///home/avinash123/anaconda3/lib/python3.9/site-packages/openfl/component/aggregator/aggregator.py\" target=\"_blank\"><span style=\"color: #7f7f7f; text-decoration-color: #7f7f7f\">aggregator.py</span></a><span style=\"color: #7f7f7f; text-decoration-color: #7f7f7f\">:</span><a href=\"file:///home/avinash123/anaconda3/lib/python3.9/site-packages/openfl/component/aggregator/aggregator.py#520\" target=\"_blank\"><span style=\"color: #7f7f7f; text-decoration-color: #7f7f7f\">520</span></a>\n",
       "</pre>\n"
      ],
      "text/plain": [
       "\u001b[2;36m          \u001b[0m\u001b[2;36m \u001b[0m\u001b[34mINFO    \u001b[0m Collaborator \u001b[1;36m0\u001b[0m is sending task results for train, round \u001b[1;36m0\u001b[0m                                                                  \u001b]8;id=57651;file:///home/avinash123/anaconda3/lib/python3.9/site-packages/openfl/component/aggregator/aggregator.py\u001b\\\u001b[2maggregator.py\u001b[0m\u001b]8;;\u001b\\\u001b[2m:\u001b[0m\u001b]8;id=942772;file:///home/avinash123/anaconda3/lib/python3.9/site-packages/openfl/component/aggregator/aggregator.py#520\u001b\\\u001b[2m520\u001b[0m\u001b]8;;\u001b\\\n"
      ]
     },
     "metadata": {},
     "output_type": "display_data"
    },
    {
     "data": {
      "text/html": [
       "<pre style=\"white-space:pre;overflow-x:auto;line-height:normal;font-family:Menlo,'DejaVu Sans Mono',consolas,'Courier New',monospace\"><span style=\"color: #7fbfbf; text-decoration-color: #7fbfbf\">           </span>METRIC   Round <span style=\"color: #008080; text-decoration-color: #008080; font-weight: bold\">0</span>, collaborator metric train result cross_entropy:        <span style=\"color: #008080; text-decoration-color: #008080; font-weight: bold\">0.477784</span>                                                   <a href=\"file:///home/avinash123/anaconda3/lib/python3.9/site-packages/openfl/component/aggregator/aggregator.py\" target=\"_blank\"><span style=\"color: #7f7f7f; text-decoration-color: #7f7f7f\">aggregator.py</span></a><span style=\"color: #7f7f7f; text-decoration-color: #7f7f7f\">:</span><a href=\"file:///home/avinash123/anaconda3/lib/python3.9/site-packages/openfl/component/aggregator/aggregator.py#559\" target=\"_blank\"><span style=\"color: #7f7f7f; text-decoration-color: #7f7f7f\">559</span></a>\n",
       "</pre>\n"
      ],
      "text/plain": [
       "\u001b[2;36m          \u001b[0m\u001b[2;36m \u001b[0mMETRIC   Round \u001b[1;36m0\u001b[0m, collaborator metric train result cross_entropy:        \u001b[1;36m0.477784\u001b[0m                                                   \u001b]8;id=387615;file:///home/avinash123/anaconda3/lib/python3.9/site-packages/openfl/component/aggregator/aggregator.py\u001b\\\u001b[2maggregator.py\u001b[0m\u001b]8;;\u001b\\\u001b[2m:\u001b[0m\u001b]8;id=422611;file:///home/avinash123/anaconda3/lib/python3.9/site-packages/openfl/component/aggregator/aggregator.py#559\u001b\\\u001b[2m559\u001b[0m\u001b]8;;\u001b\\\n"
      ]
     },
     "metadata": {},
     "output_type": "display_data"
    },
    {
     "data": {
      "text/html": [
       "<pre style=\"white-space:pre;overflow-x:auto;line-height:normal;font-family:Menlo,'DejaVu Sans Mono',consolas,'Courier New',monospace\"><span style=\"color: #7fbfbf; text-decoration-color: #7fbfbf\">           </span><span style=\"color: #000080; text-decoration-color: #000080\">INFO    </span> Using TaskRunner subclassing API                                                                                         <a href=\"file:///home/avinash123/anaconda3/lib/python3.9/site-packages/openfl/component/collaborator/collaborator.py\" target=\"_blank\"><span style=\"color: #7f7f7f; text-decoration-color: #7f7f7f\">collaborator.py</span></a><span style=\"color: #7f7f7f; text-decoration-color: #7f7f7f\">:</span><a href=\"file:///home/avinash123/anaconda3/lib/python3.9/site-packages/openfl/component/collaborator/collaborator.py#253\" target=\"_blank\"><span style=\"color: #7f7f7f; text-decoration-color: #7f7f7f\">253</span></a>\n",
       "</pre>\n"
      ],
      "text/plain": [
       "\u001b[2;36m          \u001b[0m\u001b[2;36m \u001b[0m\u001b[34mINFO    \u001b[0m Using TaskRunner subclassing API                                                                                         \u001b]8;id=667061;file:///home/avinash123/anaconda3/lib/python3.9/site-packages/openfl/component/collaborator/collaborator.py\u001b\\\u001b[2mcollaborator.py\u001b[0m\u001b]8;;\u001b\\\u001b[2m:\u001b[0m\u001b]8;id=777416;file:///home/avinash123/anaconda3/lib/python3.9/site-packages/openfl/component/collaborator/collaborator.py#253\u001b\\\u001b[2m253\u001b[0m\u001b]8;;\u001b\\\n"
      ]
     },
     "metadata": {},
     "output_type": "display_data"
    },
    {
     "name": "stderr",
     "output_type": "stream",
     "text": [
      "/home/avinash123/anaconda3/lib/python3.9/site-packages/openfl/federated/task/runner_pt.py:107: UserWarning: To copy construct from a tensor, it is recommended to use sourceTensor.clone().detach() or sourceTensor.clone().detach().requires_grad_(True), rather than torch.tensor(sourceTensor).\n",
      "  data, target = pt.tensor(data).to(self.device), pt.tensor(\n"
     ]
    },
    {
     "data": {
      "text/html": [
       "<pre style=\"white-space:pre;overflow-x:auto;line-height:normal;font-family:Menlo,'DejaVu Sans Mono',consolas,'Courier New',monospace\"><span style=\"color: #7fbfbf; text-decoration-color: #7fbfbf\">[18:41:10] </span>METRIC   Round <span style=\"color: #008080; text-decoration-color: #008080; font-weight: bold\">0</span>, collaborator <span style=\"color: #008080; text-decoration-color: #008080; font-weight: bold\">0</span> is sending metric for task locally_tuned_model_validation: acc  <span style=\"color: #008080; text-decoration-color: #008080; font-weight: bold\">0.621795</span>                         <a href=\"file:///home/avinash123/anaconda3/lib/python3.9/site-packages/openfl/component/collaborator/collaborator.py\" target=\"_blank\"><span style=\"color: #7f7f7f; text-decoration-color: #7f7f7f\">collaborator.py</span></a><span style=\"color: #7f7f7f; text-decoration-color: #7f7f7f\">:</span><a href=\"file:///home/avinash123/anaconda3/lib/python3.9/site-packages/openfl/component/collaborator/collaborator.py#415\" target=\"_blank\"><span style=\"color: #7f7f7f; text-decoration-color: #7f7f7f\">415</span></a>\n",
       "</pre>\n"
      ],
      "text/plain": [
       "\u001b[2;36m[18:41:10]\u001b[0m\u001b[2;36m \u001b[0mMETRIC   Round \u001b[1;36m0\u001b[0m, collaborator \u001b[1;36m0\u001b[0m is sending metric for task locally_tuned_model_validation: acc  \u001b[1;36m0.621795\u001b[0m                         \u001b]8;id=668816;file:///home/avinash123/anaconda3/lib/python3.9/site-packages/openfl/component/collaborator/collaborator.py\u001b\\\u001b[2mcollaborator.py\u001b[0m\u001b]8;;\u001b\\\u001b[2m:\u001b[0m\u001b]8;id=618589;file:///home/avinash123/anaconda3/lib/python3.9/site-packages/openfl/component/collaborator/collaborator.py#415\u001b\\\u001b[2m415\u001b[0m\u001b]8;;\u001b\\\n"
      ]
     },
     "metadata": {},
     "output_type": "display_data"
    },
    {
     "data": {
      "text/html": [
       "<pre style=\"white-space:pre;overflow-x:auto;line-height:normal;font-family:Menlo,'DejaVu Sans Mono',consolas,'Courier New',monospace\"><span style=\"color: #7fbfbf; text-decoration-color: #7fbfbf\">           </span><span style=\"color: #000080; text-decoration-color: #000080\">INFO    </span> Collaborator <span style=\"color: #008080; text-decoration-color: #008080; font-weight: bold\">0</span> is sending task results for locally_tuned_model_validation, round <span style=\"color: #008080; text-decoration-color: #008080; font-weight: bold\">0</span>                                         <a href=\"file:///home/avinash123/anaconda3/lib/python3.9/site-packages/openfl/component/aggregator/aggregator.py\" target=\"_blank\"><span style=\"color: #7f7f7f; text-decoration-color: #7f7f7f\">aggregator.py</span></a><span style=\"color: #7f7f7f; text-decoration-color: #7f7f7f\">:</span><a href=\"file:///home/avinash123/anaconda3/lib/python3.9/site-packages/openfl/component/aggregator/aggregator.py#520\" target=\"_blank\"><span style=\"color: #7f7f7f; text-decoration-color: #7f7f7f\">520</span></a>\n",
       "</pre>\n"
      ],
      "text/plain": [
       "\u001b[2;36m          \u001b[0m\u001b[2;36m \u001b[0m\u001b[34mINFO    \u001b[0m Collaborator \u001b[1;36m0\u001b[0m is sending task results for locally_tuned_model_validation, round \u001b[1;36m0\u001b[0m                                         \u001b]8;id=487720;file:///home/avinash123/anaconda3/lib/python3.9/site-packages/openfl/component/aggregator/aggregator.py\u001b\\\u001b[2maggregator.py\u001b[0m\u001b]8;;\u001b\\\u001b[2m:\u001b[0m\u001b]8;id=585884;file:///home/avinash123/anaconda3/lib/python3.9/site-packages/openfl/component/aggregator/aggregator.py#520\u001b\\\u001b[2m520\u001b[0m\u001b]8;;\u001b\\\n"
      ]
     },
     "metadata": {},
     "output_type": "display_data"
    },
    {
     "data": {
      "text/html": [
       "<pre style=\"white-space:pre;overflow-x:auto;line-height:normal;font-family:Menlo,'DejaVu Sans Mono',consolas,'Courier New',monospace\"><span style=\"color: #7fbfbf; text-decoration-color: #7fbfbf\">           </span>METRIC   Round <span style=\"color: #008080; text-decoration-color: #008080; font-weight: bold\">0</span>, collaborator validate_local locally_tuned_model_validation result acc: <span style=\"color: #008080; text-decoration-color: #008080; font-weight: bold\">0.621795</span>                                   <a href=\"file:///home/avinash123/anaconda3/lib/python3.9/site-packages/openfl/component/aggregator/aggregator.py\" target=\"_blank\"><span style=\"color: #7f7f7f; text-decoration-color: #7f7f7f\">aggregator.py</span></a><span style=\"color: #7f7f7f; text-decoration-color: #7f7f7f\">:</span><a href=\"file:///home/avinash123/anaconda3/lib/python3.9/site-packages/openfl/component/aggregator/aggregator.py#559\" target=\"_blank\"><span style=\"color: #7f7f7f; text-decoration-color: #7f7f7f\">559</span></a>\n",
       "</pre>\n"
      ],
      "text/plain": [
       "\u001b[2;36m          \u001b[0m\u001b[2;36m \u001b[0mMETRIC   Round \u001b[1;36m0\u001b[0m, collaborator validate_local locally_tuned_model_validation result acc: \u001b[1;36m0.621795\u001b[0m                                   \u001b]8;id=294881;file:///home/avinash123/anaconda3/lib/python3.9/site-packages/openfl/component/aggregator/aggregator.py\u001b\\\u001b[2maggregator.py\u001b[0m\u001b]8;;\u001b\\\u001b[2m:\u001b[0m\u001b]8;id=300380;file:///home/avinash123/anaconda3/lib/python3.9/site-packages/openfl/component/aggregator/aggregator.py#559\u001b\\\u001b[2m559\u001b[0m\u001b]8;;\u001b\\\n"
      ]
     },
     "metadata": {},
     "output_type": "display_data"
    },
    {
     "data": {
      "text/html": [
       "<pre style=\"white-space:pre;overflow-x:auto;line-height:normal;font-family:Menlo,'DejaVu Sans Mono',consolas,'Courier New',monospace\"><span style=\"color: #7fbfbf; text-decoration-color: #7fbfbf\">           </span><span style=\"color: #000080; text-decoration-color: #000080\">INFO    </span> All tasks completed on <span style=\"color: #008080; text-decoration-color: #008080; font-weight: bold\">0</span> for round <span style=\"color: #008080; text-decoration-color: #008080; font-weight: bold\">0</span><span style=\"color: #808000; text-decoration-color: #808000\">...</span>                                                                                  <a href=\"file:///home/avinash123/anaconda3/lib/python3.9/site-packages/openfl/component/collaborator/collaborator.py\" target=\"_blank\"><span style=\"color: #7f7f7f; text-decoration-color: #7f7f7f\">collaborator.py</span></a><span style=\"color: #7f7f7f; text-decoration-color: #7f7f7f\">:</span><a href=\"file:///home/avinash123/anaconda3/lib/python3.9/site-packages/openfl/component/collaborator/collaborator.py#171\" target=\"_blank\"><span style=\"color: #7f7f7f; text-decoration-color: #7f7f7f\">171</span></a>\n",
       "</pre>\n"
      ],
      "text/plain": [
       "\u001b[2;36m          \u001b[0m\u001b[2;36m \u001b[0m\u001b[34mINFO    \u001b[0m All tasks completed on \u001b[1;36m0\u001b[0m for round \u001b[1;36m0\u001b[0m\u001b[33m...\u001b[0m                                                                                  \u001b]8;id=759982;file:///home/avinash123/anaconda3/lib/python3.9/site-packages/openfl/component/collaborator/collaborator.py\u001b\\\u001b[2mcollaborator.py\u001b[0m\u001b]8;;\u001b\\\u001b[2m:\u001b[0m\u001b]8;id=602886;file:///home/avinash123/anaconda3/lib/python3.9/site-packages/openfl/component/collaborator/collaborator.py#171\u001b\\\u001b[2m171\u001b[0m\u001b]8;;\u001b\\\n"
      ]
     },
     "metadata": {},
     "output_type": "display_data"
    },
    {
     "data": {
      "text/html": [
       "<pre style=\"white-space:pre;overflow-x:auto;line-height:normal;font-family:Menlo,'DejaVu Sans Mono',consolas,'Courier New',monospace\"><span style=\"color: #7fbfbf; text-decoration-color: #7fbfbf\">           </span><span style=\"color: #000080; text-decoration-color: #000080\">INFO    </span> Waiting for tasks<span style=\"color: #808000; text-decoration-color: #808000\">...</span>                                                                                                     <a href=\"file:///home/avinash123/anaconda3/lib/python3.9/site-packages/openfl/component/collaborator/collaborator.py\" target=\"_blank\"><span style=\"color: #7f7f7f; text-decoration-color: #7f7f7f\">collaborator.py</span></a><span style=\"color: #7f7f7f; text-decoration-color: #7f7f7f\">:</span><a href=\"file:///home/avinash123/anaconda3/lib/python3.9/site-packages/openfl/component/collaborator/collaborator.py#178\" target=\"_blank\"><span style=\"color: #7f7f7f; text-decoration-color: #7f7f7f\">178</span></a>\n",
       "</pre>\n"
      ],
      "text/plain": [
       "\u001b[2;36m          \u001b[0m\u001b[2;36m \u001b[0m\u001b[34mINFO    \u001b[0m Waiting for tasks\u001b[33m...\u001b[0m                                                                                                     \u001b]8;id=793956;file:///home/avinash123/anaconda3/lib/python3.9/site-packages/openfl/component/collaborator/collaborator.py\u001b\\\u001b[2mcollaborator.py\u001b[0m\u001b]8;;\u001b\\\u001b[2m:\u001b[0m\u001b]8;id=2625;file:///home/avinash123/anaconda3/lib/python3.9/site-packages/openfl/component/collaborator/collaborator.py#178\u001b\\\u001b[2m178\u001b[0m\u001b]8;;\u001b\\\n"
      ]
     },
     "metadata": {},
     "output_type": "display_data"
    },
    {
     "data": {
      "text/html": [
       "<pre style=\"white-space:pre;overflow-x:auto;line-height:normal;font-family:Menlo,'DejaVu Sans Mono',consolas,'Courier New',monospace\"><span style=\"color: #7fbfbf; text-decoration-color: #7fbfbf\">           </span><span style=\"color: #000080; text-decoration-color: #000080\">INFO    </span> Sending tasks to collaborator <span style=\"color: #008080; text-decoration-color: #008080; font-weight: bold\">1</span> for round <span style=\"color: #008080; text-decoration-color: #008080; font-weight: bold\">0</span>                                                                                <a href=\"file:///home/avinash123/anaconda3/lib/python3.9/site-packages/openfl/component/aggregator/aggregator.py\" target=\"_blank\"><span style=\"color: #7f7f7f; text-decoration-color: #7f7f7f\">aggregator.py</span></a><span style=\"color: #7f7f7f; text-decoration-color: #7f7f7f\">:</span><a href=\"file:///home/avinash123/anaconda3/lib/python3.9/site-packages/openfl/component/aggregator/aggregator.py#329\" target=\"_blank\"><span style=\"color: #7f7f7f; text-decoration-color: #7f7f7f\">329</span></a>\n",
       "</pre>\n"
      ],
      "text/plain": [
       "\u001b[2;36m          \u001b[0m\u001b[2;36m \u001b[0m\u001b[34mINFO    \u001b[0m Sending tasks to collaborator \u001b[1;36m1\u001b[0m for round \u001b[1;36m0\u001b[0m                                                                                \u001b]8;id=579602;file:///home/avinash123/anaconda3/lib/python3.9/site-packages/openfl/component/aggregator/aggregator.py\u001b\\\u001b[2maggregator.py\u001b[0m\u001b]8;;\u001b\\\u001b[2m:\u001b[0m\u001b]8;id=125900;file:///home/avinash123/anaconda3/lib/python3.9/site-packages/openfl/component/aggregator/aggregator.py#329\u001b\\\u001b[2m329\u001b[0m\u001b]8;;\u001b\\\n"
      ]
     },
     "metadata": {},
     "output_type": "display_data"
    },
    {
     "data": {
      "text/html": [
       "<pre style=\"white-space:pre;overflow-x:auto;line-height:normal;font-family:Menlo,'DejaVu Sans Mono',consolas,'Courier New',monospace\"><span style=\"color: #7fbfbf; text-decoration-color: #7fbfbf\">           </span><span style=\"color: #000080; text-decoration-color: #000080\">INFO    </span> Received the following tasks: <span style=\"font-weight: bold\">[</span><span style=\"color: #008000; text-decoration-color: #008000\">'aggregated_model_validation'</span>, <span style=\"color: #008000; text-decoration-color: #008000\">'train'</span>, <span style=\"color: #008000; text-decoration-color: #008000\">'locally_tuned_model_validation'</span><span style=\"font-weight: bold\">]</span>                 <a href=\"file:///home/avinash123/anaconda3/lib/python3.9/site-packages/openfl/component/collaborator/collaborator.py\" target=\"_blank\"><span style=\"color: #7f7f7f; text-decoration-color: #7f7f7f\">collaborator.py</span></a><span style=\"color: #7f7f7f; text-decoration-color: #7f7f7f\">:</span><a href=\"file:///home/avinash123/anaconda3/lib/python3.9/site-packages/openfl/component/collaborator/collaborator.py#168\" target=\"_blank\"><span style=\"color: #7f7f7f; text-decoration-color: #7f7f7f\">168</span></a>\n",
       "</pre>\n"
      ],
      "text/plain": [
       "\u001b[2;36m          \u001b[0m\u001b[2;36m \u001b[0m\u001b[34mINFO    \u001b[0m Received the following tasks: \u001b[1m[\u001b[0m\u001b[32m'aggregated_model_validation'\u001b[0m, \u001b[32m'train'\u001b[0m, \u001b[32m'locally_tuned_model_validation'\u001b[0m\u001b[1m]\u001b[0m                 \u001b]8;id=503954;file:///home/avinash123/anaconda3/lib/python3.9/site-packages/openfl/component/collaborator/collaborator.py\u001b\\\u001b[2mcollaborator.py\u001b[0m\u001b]8;;\u001b\\\u001b[2m:\u001b[0m\u001b]8;id=656531;file:///home/avinash123/anaconda3/lib/python3.9/site-packages/openfl/component/collaborator/collaborator.py#168\u001b\\\u001b[2m168\u001b[0m\u001b]8;;\u001b\\\n"
      ]
     },
     "metadata": {},
     "output_type": "display_data"
    },
    {
     "data": {
      "text/html": [
       "<pre style=\"white-space:pre;overflow-x:auto;line-height:normal;font-family:Menlo,'DejaVu Sans Mono',consolas,'Courier New',monospace\"><span style=\"color: #7fbfbf; text-decoration-color: #7fbfbf\">           </span><span style=\"color: #000080; text-decoration-color: #000080\">INFO    </span> Using TaskRunner subclassing API                                                                                         <a href=\"file:///home/avinash123/anaconda3/lib/python3.9/site-packages/openfl/component/collaborator/collaborator.py\" target=\"_blank\"><span style=\"color: #7f7f7f; text-decoration-color: #7f7f7f\">collaborator.py</span></a><span style=\"color: #7f7f7f; text-decoration-color: #7f7f7f\">:</span><a href=\"file:///home/avinash123/anaconda3/lib/python3.9/site-packages/openfl/component/collaborator/collaborator.py#253\" target=\"_blank\"><span style=\"color: #7f7f7f; text-decoration-color: #7f7f7f\">253</span></a>\n",
       "</pre>\n"
      ],
      "text/plain": [
       "\u001b[2;36m          \u001b[0m\u001b[2;36m \u001b[0m\u001b[34mINFO    \u001b[0m Using TaskRunner subclassing API                                                                                         \u001b]8;id=235017;file:///home/avinash123/anaconda3/lib/python3.9/site-packages/openfl/component/collaborator/collaborator.py\u001b\\\u001b[2mcollaborator.py\u001b[0m\u001b]8;;\u001b\\\u001b[2m:\u001b[0m\u001b]8;id=134181;file:///home/avinash123/anaconda3/lib/python3.9/site-packages/openfl/component/collaborator/collaborator.py#253\u001b\\\u001b[2m253\u001b[0m\u001b]8;;\u001b\\\n"
      ]
     },
     "metadata": {},
     "output_type": "display_data"
    },
    {
     "name": "stderr",
     "output_type": "stream",
     "text": [
      "/home/avinash123/anaconda3/lib/python3.9/site-packages/openfl/federated/task/runner_pt.py:107: UserWarning: To copy construct from a tensor, it is recommended to use sourceTensor.clone().detach() or sourceTensor.clone().detach().requires_grad_(True), rather than torch.tensor(sourceTensor).\n",
      "  data, target = pt.tensor(data).to(self.device), pt.tensor(\n"
     ]
    },
    {
     "data": {
      "text/html": [
       "<pre style=\"white-space:pre;overflow-x:auto;line-height:normal;font-family:Menlo,'DejaVu Sans Mono',consolas,'Courier New',monospace\"><span style=\"color: #7fbfbf; text-decoration-color: #7fbfbf\">[18:41:11] </span>METRIC   Round <span style=\"color: #008080; text-decoration-color: #008080; font-weight: bold\">0</span>, collaborator <span style=\"color: #008080; text-decoration-color: #008080; font-weight: bold\">1</span> is sending metric for task aggregated_model_validation: acc     <span style=\"color: #008080; text-decoration-color: #008080; font-weight: bold\">0.076923</span>                         <a href=\"file:///home/avinash123/anaconda3/lib/python3.9/site-packages/openfl/component/collaborator/collaborator.py\" target=\"_blank\"><span style=\"color: #7f7f7f; text-decoration-color: #7f7f7f\">collaborator.py</span></a><span style=\"color: #7f7f7f; text-decoration-color: #7f7f7f\">:</span><a href=\"file:///home/avinash123/anaconda3/lib/python3.9/site-packages/openfl/component/collaborator/collaborator.py#415\" target=\"_blank\"><span style=\"color: #7f7f7f; text-decoration-color: #7f7f7f\">415</span></a>\n",
       "</pre>\n"
      ],
      "text/plain": [
       "\u001b[2;36m[18:41:11]\u001b[0m\u001b[2;36m \u001b[0mMETRIC   Round \u001b[1;36m0\u001b[0m, collaborator \u001b[1;36m1\u001b[0m is sending metric for task aggregated_model_validation: acc     \u001b[1;36m0.076923\u001b[0m                         \u001b]8;id=917849;file:///home/avinash123/anaconda3/lib/python3.9/site-packages/openfl/component/collaborator/collaborator.py\u001b\\\u001b[2mcollaborator.py\u001b[0m\u001b]8;;\u001b\\\u001b[2m:\u001b[0m\u001b]8;id=991201;file:///home/avinash123/anaconda3/lib/python3.9/site-packages/openfl/component/collaborator/collaborator.py#415\u001b\\\u001b[2m415\u001b[0m\u001b]8;;\u001b\\\n"
      ]
     },
     "metadata": {},
     "output_type": "display_data"
    },
    {
     "data": {
      "text/html": [
       "<pre style=\"white-space:pre;overflow-x:auto;line-height:normal;font-family:Menlo,'DejaVu Sans Mono',consolas,'Courier New',monospace\"><span style=\"color: #7fbfbf; text-decoration-color: #7fbfbf\">           </span><span style=\"color: #000080; text-decoration-color: #000080\">INFO    </span> Collaborator <span style=\"color: #008080; text-decoration-color: #008080; font-weight: bold\">1</span> is sending task results for aggregated_model_validation, round <span style=\"color: #008080; text-decoration-color: #008080; font-weight: bold\">0</span>                                            <a href=\"file:///home/avinash123/anaconda3/lib/python3.9/site-packages/openfl/component/aggregator/aggregator.py\" target=\"_blank\"><span style=\"color: #7f7f7f; text-decoration-color: #7f7f7f\">aggregator.py</span></a><span style=\"color: #7f7f7f; text-decoration-color: #7f7f7f\">:</span><a href=\"file:///home/avinash123/anaconda3/lib/python3.9/site-packages/openfl/component/aggregator/aggregator.py#520\" target=\"_blank\"><span style=\"color: #7f7f7f; text-decoration-color: #7f7f7f\">520</span></a>\n",
       "</pre>\n"
      ],
      "text/plain": [
       "\u001b[2;36m          \u001b[0m\u001b[2;36m \u001b[0m\u001b[34mINFO    \u001b[0m Collaborator \u001b[1;36m1\u001b[0m is sending task results for aggregated_model_validation, round \u001b[1;36m0\u001b[0m                                            \u001b]8;id=116136;file:///home/avinash123/anaconda3/lib/python3.9/site-packages/openfl/component/aggregator/aggregator.py\u001b\\\u001b[2maggregator.py\u001b[0m\u001b]8;;\u001b\\\u001b[2m:\u001b[0m\u001b]8;id=472307;file:///home/avinash123/anaconda3/lib/python3.9/site-packages/openfl/component/aggregator/aggregator.py#520\u001b\\\u001b[2m520\u001b[0m\u001b]8;;\u001b\\\n"
      ]
     },
     "metadata": {},
     "output_type": "display_data"
    },
    {
     "data": {
      "text/html": [
       "<pre style=\"white-space:pre;overflow-x:auto;line-height:normal;font-family:Menlo,'DejaVu Sans Mono',consolas,'Courier New',monospace\"><span style=\"color: #7fbfbf; text-decoration-color: #7fbfbf\">           </span>METRIC   Round <span style=\"color: #008080; text-decoration-color: #008080; font-weight: bold\">0</span>, collaborator validate_agg aggregated_model_validation result acc:      <span style=\"color: #008080; text-decoration-color: #008080; font-weight: bold\">0.076923</span>                                   <a href=\"file:///home/avinash123/anaconda3/lib/python3.9/site-packages/openfl/component/aggregator/aggregator.py\" target=\"_blank\"><span style=\"color: #7f7f7f; text-decoration-color: #7f7f7f\">aggregator.py</span></a><span style=\"color: #7f7f7f; text-decoration-color: #7f7f7f\">:</span><a href=\"file:///home/avinash123/anaconda3/lib/python3.9/site-packages/openfl/component/aggregator/aggregator.py#559\" target=\"_blank\"><span style=\"color: #7f7f7f; text-decoration-color: #7f7f7f\">559</span></a>\n",
       "</pre>\n"
      ],
      "text/plain": [
       "\u001b[2;36m          \u001b[0m\u001b[2;36m \u001b[0mMETRIC   Round \u001b[1;36m0\u001b[0m, collaborator validate_agg aggregated_model_validation result acc:      \u001b[1;36m0.076923\u001b[0m                                   \u001b]8;id=444232;file:///home/avinash123/anaconda3/lib/python3.9/site-packages/openfl/component/aggregator/aggregator.py\u001b\\\u001b[2maggregator.py\u001b[0m\u001b]8;;\u001b\\\u001b[2m:\u001b[0m\u001b]8;id=732804;file:///home/avinash123/anaconda3/lib/python3.9/site-packages/openfl/component/aggregator/aggregator.py#559\u001b\\\u001b[2m559\u001b[0m\u001b]8;;\u001b\\\n"
      ]
     },
     "metadata": {},
     "output_type": "display_data"
    },
    {
     "data": {
      "text/html": [
       "<pre style=\"white-space:pre;overflow-x:auto;line-height:normal;font-family:Menlo,'DejaVu Sans Mono',consolas,'Courier New',monospace\"><span style=\"color: #7fbfbf; text-decoration-color: #7fbfbf\">[18:41:12] </span><span style=\"color: #000080; text-decoration-color: #000080\">INFO    </span> Using TaskRunner subclassing API                                                                                         <a href=\"file:///home/avinash123/anaconda3/lib/python3.9/site-packages/openfl/component/collaborator/collaborator.py\" target=\"_blank\"><span style=\"color: #7f7f7f; text-decoration-color: #7f7f7f\">collaborator.py</span></a><span style=\"color: #7f7f7f; text-decoration-color: #7f7f7f\">:</span><a href=\"file:///home/avinash123/anaconda3/lib/python3.9/site-packages/openfl/component/collaborator/collaborator.py#253\" target=\"_blank\"><span style=\"color: #7f7f7f; text-decoration-color: #7f7f7f\">253</span></a>\n",
       "</pre>\n"
      ],
      "text/plain": [
       "\u001b[2;36m[18:41:12]\u001b[0m\u001b[2;36m \u001b[0m\u001b[34mINFO    \u001b[0m Using TaskRunner subclassing API                                                                                         \u001b]8;id=119204;file:///home/avinash123/anaconda3/lib/python3.9/site-packages/openfl/component/collaborator/collaborator.py\u001b\\\u001b[2mcollaborator.py\u001b[0m\u001b]8;;\u001b\\\u001b[2m:\u001b[0m\u001b]8;id=114597;file:///home/avinash123/anaconda3/lib/python3.9/site-packages/openfl/component/collaborator/collaborator.py#253\u001b\\\u001b[2m253\u001b[0m\u001b]8;;\u001b\\\n"
      ]
     },
     "metadata": {},
     "output_type": "display_data"
    },
    {
     "data": {
      "text/html": [
       "<pre style=\"white-space:pre;overflow-x:auto;line-height:normal;font-family:Menlo,'DejaVu Sans Mono',consolas,'Courier New',monospace\"><span style=\"color: #7fbfbf; text-decoration-color: #7fbfbf\">           </span><span style=\"color: #000080; text-decoration-color: #000080\">INFO    </span> Run <span style=\"color: #008080; text-decoration-color: #008080; font-weight: bold\">0</span> epoch of <span style=\"color: #008080; text-decoration-color: #008080; font-weight: bold\">0</span> round                                                                                                      <a href=\"file:///home/avinash123/anaconda3/lib/python3.9/site-packages/openfl/federated/task/runner_pt.py\" target=\"_blank\"><span style=\"color: #7f7f7f; text-decoration-color: #7f7f7f\">runner_pt.py</span></a><span style=\"color: #7f7f7f; text-decoration-color: #7f7f7f\">:</span><a href=\"file:///home/avinash123/anaconda3/lib/python3.9/site-packages/openfl/federated/task/runner_pt.py#155\" target=\"_blank\"><span style=\"color: #7f7f7f; text-decoration-color: #7f7f7f\">155</span></a>\n",
       "</pre>\n"
      ],
      "text/plain": [
       "\u001b[2;36m          \u001b[0m\u001b[2;36m \u001b[0m\u001b[34mINFO    \u001b[0m Run \u001b[1;36m0\u001b[0m epoch of \u001b[1;36m0\u001b[0m round                                                                                                      \u001b]8;id=899441;file:///home/avinash123/anaconda3/lib/python3.9/site-packages/openfl/federated/task/runner_pt.py\u001b\\\u001b[2mrunner_pt.py\u001b[0m\u001b]8;;\u001b\\\u001b[2m:\u001b[0m\u001b]8;id=175716;file:///home/avinash123/anaconda3/lib/python3.9/site-packages/openfl/federated/task/runner_pt.py#155\u001b\\\u001b[2m155\u001b[0m\u001b]8;;\u001b\\\n"
      ]
     },
     "metadata": {},
     "output_type": "display_data"
    },
    {
     "name": "stderr",
     "output_type": "stream",
     "text": [
      "/home/avinash123/anaconda3/lib/python3.9/site-packages/openfl/federated/task/runner_pt.py:458: UserWarning: To copy construct from a tensor, it is recommended to use sourceTensor.clone().detach() or sourceTensor.clone().detach().requires_grad_(True), rather than torch.tensor(sourceTensor).\n",
      "  data, target = pt.tensor(data).to(self.device), pt.tensor(\n"
     ]
    },
    {
     "data": {
      "text/html": [
       "<pre style=\"white-space:pre;overflow-x:auto;line-height:normal;font-family:Menlo,'DejaVu Sans Mono',consolas,'Courier New',monospace\"><span style=\"color: #7fbfbf; text-decoration-color: #7fbfbf\">[18:41:16] </span>METRIC   Round <span style=\"color: #008080; text-decoration-color: #008080; font-weight: bold\">0</span>, collaborator <span style=\"color: #008080; text-decoration-color: #008080; font-weight: bold\">1</span> is sending metric for task train: cross_entropy <span style=\"color: #008080; text-decoration-color: #008080; font-weight: bold\">0.483204</span>                                         <a href=\"file:///home/avinash123/anaconda3/lib/python3.9/site-packages/openfl/component/collaborator/collaborator.py\" target=\"_blank\"><span style=\"color: #7f7f7f; text-decoration-color: #7f7f7f\">collaborator.py</span></a><span style=\"color: #7f7f7f; text-decoration-color: #7f7f7f\">:</span><a href=\"file:///home/avinash123/anaconda3/lib/python3.9/site-packages/openfl/component/collaborator/collaborator.py#415\" target=\"_blank\"><span style=\"color: #7f7f7f; text-decoration-color: #7f7f7f\">415</span></a>\n",
       "</pre>\n"
      ],
      "text/plain": [
       "\u001b[2;36m[18:41:16]\u001b[0m\u001b[2;36m \u001b[0mMETRIC   Round \u001b[1;36m0\u001b[0m, collaborator \u001b[1;36m1\u001b[0m is sending metric for task train: cross_entropy \u001b[1;36m0.483204\u001b[0m                                         \u001b]8;id=864902;file:///home/avinash123/anaconda3/lib/python3.9/site-packages/openfl/component/collaborator/collaborator.py\u001b\\\u001b[2mcollaborator.py\u001b[0m\u001b]8;;\u001b\\\u001b[2m:\u001b[0m\u001b]8;id=80276;file:///home/avinash123/anaconda3/lib/python3.9/site-packages/openfl/component/collaborator/collaborator.py#415\u001b\\\u001b[2m415\u001b[0m\u001b]8;;\u001b\\\n"
      ]
     },
     "metadata": {},
     "output_type": "display_data"
    },
    {
     "data": {
      "text/html": [
       "<pre style=\"white-space:pre;overflow-x:auto;line-height:normal;font-family:Menlo,'DejaVu Sans Mono',consolas,'Courier New',monospace\"><span style=\"color: #7fbfbf; text-decoration-color: #7fbfbf\">           </span><span style=\"color: #000080; text-decoration-color: #000080\">INFO    </span> Collaborator <span style=\"color: #008080; text-decoration-color: #008080; font-weight: bold\">1</span> is sending task results for train, round <span style=\"color: #008080; text-decoration-color: #008080; font-weight: bold\">0</span>                                                                  <a href=\"file:///home/avinash123/anaconda3/lib/python3.9/site-packages/openfl/component/aggregator/aggregator.py\" target=\"_blank\"><span style=\"color: #7f7f7f; text-decoration-color: #7f7f7f\">aggregator.py</span></a><span style=\"color: #7f7f7f; text-decoration-color: #7f7f7f\">:</span><a href=\"file:///home/avinash123/anaconda3/lib/python3.9/site-packages/openfl/component/aggregator/aggregator.py#520\" target=\"_blank\"><span style=\"color: #7f7f7f; text-decoration-color: #7f7f7f\">520</span></a>\n",
       "</pre>\n"
      ],
      "text/plain": [
       "\u001b[2;36m          \u001b[0m\u001b[2;36m \u001b[0m\u001b[34mINFO    \u001b[0m Collaborator \u001b[1;36m1\u001b[0m is sending task results for train, round \u001b[1;36m0\u001b[0m                                                                  \u001b]8;id=380429;file:///home/avinash123/anaconda3/lib/python3.9/site-packages/openfl/component/aggregator/aggregator.py\u001b\\\u001b[2maggregator.py\u001b[0m\u001b]8;;\u001b\\\u001b[2m:\u001b[0m\u001b]8;id=130686;file:///home/avinash123/anaconda3/lib/python3.9/site-packages/openfl/component/aggregator/aggregator.py#520\u001b\\\u001b[2m520\u001b[0m\u001b]8;;\u001b\\\n"
      ]
     },
     "metadata": {},
     "output_type": "display_data"
    },
    {
     "data": {
      "text/html": [
       "<pre style=\"white-space:pre;overflow-x:auto;line-height:normal;font-family:Menlo,'DejaVu Sans Mono',consolas,'Courier New',monospace\"><span style=\"color: #7fbfbf; text-decoration-color: #7fbfbf\">           </span>METRIC   Round <span style=\"color: #008080; text-decoration-color: #008080; font-weight: bold\">0</span>, collaborator metric train result cross_entropy:        <span style=\"color: #008080; text-decoration-color: #008080; font-weight: bold\">0.483204</span>                                                   <a href=\"file:///home/avinash123/anaconda3/lib/python3.9/site-packages/openfl/component/aggregator/aggregator.py\" target=\"_blank\"><span style=\"color: #7f7f7f; text-decoration-color: #7f7f7f\">aggregator.py</span></a><span style=\"color: #7f7f7f; text-decoration-color: #7f7f7f\">:</span><a href=\"file:///home/avinash123/anaconda3/lib/python3.9/site-packages/openfl/component/aggregator/aggregator.py#559\" target=\"_blank\"><span style=\"color: #7f7f7f; text-decoration-color: #7f7f7f\">559</span></a>\n",
       "</pre>\n"
      ],
      "text/plain": [
       "\u001b[2;36m          \u001b[0m\u001b[2;36m \u001b[0mMETRIC   Round \u001b[1;36m0\u001b[0m, collaborator metric train result cross_entropy:        \u001b[1;36m0.483204\u001b[0m                                                   \u001b]8;id=403925;file:///home/avinash123/anaconda3/lib/python3.9/site-packages/openfl/component/aggregator/aggregator.py\u001b\\\u001b[2maggregator.py\u001b[0m\u001b]8;;\u001b\\\u001b[2m:\u001b[0m\u001b]8;id=700106;file:///home/avinash123/anaconda3/lib/python3.9/site-packages/openfl/component/aggregator/aggregator.py#559\u001b\\\u001b[2m559\u001b[0m\u001b]8;;\u001b\\\n"
      ]
     },
     "metadata": {},
     "output_type": "display_data"
    },
    {
     "data": {
      "text/html": [
       "<pre style=\"white-space:pre;overflow-x:auto;line-height:normal;font-family:Menlo,'DejaVu Sans Mono',consolas,'Courier New',monospace\"><span style=\"color: #7fbfbf; text-decoration-color: #7fbfbf\">           </span><span style=\"color: #000080; text-decoration-color: #000080\">INFO    </span> Using TaskRunner subclassing API                                                                                         <a href=\"file:///home/avinash123/anaconda3/lib/python3.9/site-packages/openfl/component/collaborator/collaborator.py\" target=\"_blank\"><span style=\"color: #7f7f7f; text-decoration-color: #7f7f7f\">collaborator.py</span></a><span style=\"color: #7f7f7f; text-decoration-color: #7f7f7f\">:</span><a href=\"file:///home/avinash123/anaconda3/lib/python3.9/site-packages/openfl/component/collaborator/collaborator.py#253\" target=\"_blank\"><span style=\"color: #7f7f7f; text-decoration-color: #7f7f7f\">253</span></a>\n",
       "</pre>\n"
      ],
      "text/plain": [
       "\u001b[2;36m          \u001b[0m\u001b[2;36m \u001b[0m\u001b[34mINFO    \u001b[0m Using TaskRunner subclassing API                                                                                         \u001b]8;id=976350;file:///home/avinash123/anaconda3/lib/python3.9/site-packages/openfl/component/collaborator/collaborator.py\u001b\\\u001b[2mcollaborator.py\u001b[0m\u001b]8;;\u001b\\\u001b[2m:\u001b[0m\u001b]8;id=821813;file:///home/avinash123/anaconda3/lib/python3.9/site-packages/openfl/component/collaborator/collaborator.py#253\u001b\\\u001b[2m253\u001b[0m\u001b]8;;\u001b\\\n"
      ]
     },
     "metadata": {},
     "output_type": "display_data"
    },
    {
     "name": "stderr",
     "output_type": "stream",
     "text": [
      "/home/avinash123/anaconda3/lib/python3.9/site-packages/openfl/federated/task/runner_pt.py:107: UserWarning: To copy construct from a tensor, it is recommended to use sourceTensor.clone().detach() or sourceTensor.clone().detach().requires_grad_(True), rather than torch.tensor(sourceTensor).\n",
      "  data, target = pt.tensor(data).to(self.device), pt.tensor(\n"
     ]
    },
    {
     "data": {
      "text/html": [
       "<pre style=\"white-space:pre;overflow-x:auto;line-height:normal;font-family:Menlo,'DejaVu Sans Mono',consolas,'Courier New',monospace\"><span style=\"color: #7fbfbf; text-decoration-color: #7fbfbf\">[18:41:17] </span>METRIC   Round <span style=\"color: #008080; text-decoration-color: #008080; font-weight: bold\">0</span>, collaborator <span style=\"color: #008080; text-decoration-color: #008080; font-weight: bold\">1</span> is sending metric for task locally_tuned_model_validation: acc  <span style=\"color: #008080; text-decoration-color: #008080; font-weight: bold\">0.576923</span>                         <a href=\"file:///home/avinash123/anaconda3/lib/python3.9/site-packages/openfl/component/collaborator/collaborator.py\" target=\"_blank\"><span style=\"color: #7f7f7f; text-decoration-color: #7f7f7f\">collaborator.py</span></a><span style=\"color: #7f7f7f; text-decoration-color: #7f7f7f\">:</span><a href=\"file:///home/avinash123/anaconda3/lib/python3.9/site-packages/openfl/component/collaborator/collaborator.py#415\" target=\"_blank\"><span style=\"color: #7f7f7f; text-decoration-color: #7f7f7f\">415</span></a>\n",
       "</pre>\n"
      ],
      "text/plain": [
       "\u001b[2;36m[18:41:17]\u001b[0m\u001b[2;36m \u001b[0mMETRIC   Round \u001b[1;36m0\u001b[0m, collaborator \u001b[1;36m1\u001b[0m is sending metric for task locally_tuned_model_validation: acc  \u001b[1;36m0.576923\u001b[0m                         \u001b]8;id=870354;file:///home/avinash123/anaconda3/lib/python3.9/site-packages/openfl/component/collaborator/collaborator.py\u001b\\\u001b[2mcollaborator.py\u001b[0m\u001b]8;;\u001b\\\u001b[2m:\u001b[0m\u001b]8;id=633633;file:///home/avinash123/anaconda3/lib/python3.9/site-packages/openfl/component/collaborator/collaborator.py#415\u001b\\\u001b[2m415\u001b[0m\u001b]8;;\u001b\\\n"
      ]
     },
     "metadata": {},
     "output_type": "display_data"
    },
    {
     "data": {
      "text/html": [
       "<pre style=\"white-space:pre;overflow-x:auto;line-height:normal;font-family:Menlo,'DejaVu Sans Mono',consolas,'Courier New',monospace\"><span style=\"color: #7fbfbf; text-decoration-color: #7fbfbf\">           </span><span style=\"color: #000080; text-decoration-color: #000080\">INFO    </span> Collaborator <span style=\"color: #008080; text-decoration-color: #008080; font-weight: bold\">1</span> is sending task results for locally_tuned_model_validation, round <span style=\"color: #008080; text-decoration-color: #008080; font-weight: bold\">0</span>                                         <a href=\"file:///home/avinash123/anaconda3/lib/python3.9/site-packages/openfl/component/aggregator/aggregator.py\" target=\"_blank\"><span style=\"color: #7f7f7f; text-decoration-color: #7f7f7f\">aggregator.py</span></a><span style=\"color: #7f7f7f; text-decoration-color: #7f7f7f\">:</span><a href=\"file:///home/avinash123/anaconda3/lib/python3.9/site-packages/openfl/component/aggregator/aggregator.py#520\" target=\"_blank\"><span style=\"color: #7f7f7f; text-decoration-color: #7f7f7f\">520</span></a>\n",
       "</pre>\n"
      ],
      "text/plain": [
       "\u001b[2;36m          \u001b[0m\u001b[2;36m \u001b[0m\u001b[34mINFO    \u001b[0m Collaborator \u001b[1;36m1\u001b[0m is sending task results for locally_tuned_model_validation, round \u001b[1;36m0\u001b[0m                                         \u001b]8;id=708893;file:///home/avinash123/anaconda3/lib/python3.9/site-packages/openfl/component/aggregator/aggregator.py\u001b\\\u001b[2maggregator.py\u001b[0m\u001b]8;;\u001b\\\u001b[2m:\u001b[0m\u001b]8;id=781828;file:///home/avinash123/anaconda3/lib/python3.9/site-packages/openfl/component/aggregator/aggregator.py#520\u001b\\\u001b[2m520\u001b[0m\u001b]8;;\u001b\\\n"
      ]
     },
     "metadata": {},
     "output_type": "display_data"
    },
    {
     "data": {
      "text/html": [
       "<pre style=\"white-space:pre;overflow-x:auto;line-height:normal;font-family:Menlo,'DejaVu Sans Mono',consolas,'Courier New',monospace\"><span style=\"color: #7fbfbf; text-decoration-color: #7fbfbf\">           </span>METRIC   Round <span style=\"color: #008080; text-decoration-color: #008080; font-weight: bold\">0</span>, collaborator validate_local locally_tuned_model_validation result acc: <span style=\"color: #008080; text-decoration-color: #008080; font-weight: bold\">0.576923</span>                                   <a href=\"file:///home/avinash123/anaconda3/lib/python3.9/site-packages/openfl/component/aggregator/aggregator.py\" target=\"_blank\"><span style=\"color: #7f7f7f; text-decoration-color: #7f7f7f\">aggregator.py</span></a><span style=\"color: #7f7f7f; text-decoration-color: #7f7f7f\">:</span><a href=\"file:///home/avinash123/anaconda3/lib/python3.9/site-packages/openfl/component/aggregator/aggregator.py#559\" target=\"_blank\"><span style=\"color: #7f7f7f; text-decoration-color: #7f7f7f\">559</span></a>\n",
       "</pre>\n"
      ],
      "text/plain": [
       "\u001b[2;36m          \u001b[0m\u001b[2;36m \u001b[0mMETRIC   Round \u001b[1;36m0\u001b[0m, collaborator validate_local locally_tuned_model_validation result acc: \u001b[1;36m0.576923\u001b[0m                                   \u001b]8;id=923199;file:///home/avinash123/anaconda3/lib/python3.9/site-packages/openfl/component/aggregator/aggregator.py\u001b\\\u001b[2maggregator.py\u001b[0m\u001b]8;;\u001b\\\u001b[2m:\u001b[0m\u001b]8;id=126762;file:///home/avinash123/anaconda3/lib/python3.9/site-packages/openfl/component/aggregator/aggregator.py#559\u001b\\\u001b[2m559\u001b[0m\u001b]8;;\u001b\\\n"
      ]
     },
     "metadata": {},
     "output_type": "display_data"
    },
    {
     "data": {
      "text/html": [
       "<pre style=\"white-space:pre;overflow-x:auto;line-height:normal;font-family:Menlo,'DejaVu Sans Mono',consolas,'Courier New',monospace\"><span style=\"color: #7fbfbf; text-decoration-color: #7fbfbf\">           </span><span style=\"color: #000080; text-decoration-color: #000080\">INFO    </span> All tasks completed on <span style=\"color: #008080; text-decoration-color: #008080; font-weight: bold\">1</span> for round <span style=\"color: #008080; text-decoration-color: #008080; font-weight: bold\">0</span><span style=\"color: #808000; text-decoration-color: #808000\">...</span>                                                                                  <a href=\"file:///home/avinash123/anaconda3/lib/python3.9/site-packages/openfl/component/collaborator/collaborator.py\" target=\"_blank\"><span style=\"color: #7f7f7f; text-decoration-color: #7f7f7f\">collaborator.py</span></a><span style=\"color: #7f7f7f; text-decoration-color: #7f7f7f\">:</span><a href=\"file:///home/avinash123/anaconda3/lib/python3.9/site-packages/openfl/component/collaborator/collaborator.py#171\" target=\"_blank\"><span style=\"color: #7f7f7f; text-decoration-color: #7f7f7f\">171</span></a>\n",
       "</pre>\n"
      ],
      "text/plain": [
       "\u001b[2;36m          \u001b[0m\u001b[2;36m \u001b[0m\u001b[34mINFO    \u001b[0m All tasks completed on \u001b[1;36m1\u001b[0m for round \u001b[1;36m0\u001b[0m\u001b[33m...\u001b[0m                                                                                  \u001b]8;id=689586;file:///home/avinash123/anaconda3/lib/python3.9/site-packages/openfl/component/collaborator/collaborator.py\u001b\\\u001b[2mcollaborator.py\u001b[0m\u001b]8;;\u001b\\\u001b[2m:\u001b[0m\u001b]8;id=81346;file:///home/avinash123/anaconda3/lib/python3.9/site-packages/openfl/component/collaborator/collaborator.py#171\u001b\\\u001b[2m171\u001b[0m\u001b]8;;\u001b\\\n"
      ]
     },
     "metadata": {},
     "output_type": "display_data"
    },
    {
     "data": {
      "text/html": [
       "<pre style=\"white-space:pre;overflow-x:auto;line-height:normal;font-family:Menlo,'DejaVu Sans Mono',consolas,'Courier New',monospace\"><span style=\"color: #7fbfbf; text-decoration-color: #7fbfbf\">           </span><span style=\"color: #000080; text-decoration-color: #000080\">INFO    </span> Waiting for tasks<span style=\"color: #808000; text-decoration-color: #808000\">...</span>                                                                                                     <a href=\"file:///home/avinash123/anaconda3/lib/python3.9/site-packages/openfl/component/collaborator/collaborator.py\" target=\"_blank\"><span style=\"color: #7f7f7f; text-decoration-color: #7f7f7f\">collaborator.py</span></a><span style=\"color: #7f7f7f; text-decoration-color: #7f7f7f\">:</span><a href=\"file:///home/avinash123/anaconda3/lib/python3.9/site-packages/openfl/component/collaborator/collaborator.py#178\" target=\"_blank\"><span style=\"color: #7f7f7f; text-decoration-color: #7f7f7f\">178</span></a>\n",
       "</pre>\n"
      ],
      "text/plain": [
       "\u001b[2;36m          \u001b[0m\u001b[2;36m \u001b[0m\u001b[34mINFO    \u001b[0m Waiting for tasks\u001b[33m...\u001b[0m                                                                                                     \u001b]8;id=631051;file:///home/avinash123/anaconda3/lib/python3.9/site-packages/openfl/component/collaborator/collaborator.py\u001b\\\u001b[2mcollaborator.py\u001b[0m\u001b]8;;\u001b\\\u001b[2m:\u001b[0m\u001b]8;id=297727;file:///home/avinash123/anaconda3/lib/python3.9/site-packages/openfl/component/collaborator/collaborator.py#178\u001b\\\u001b[2m178\u001b[0m\u001b]8;;\u001b\\\n"
      ]
     },
     "metadata": {},
     "output_type": "display_data"
    },
    {
     "data": {
      "text/html": [
       "<pre style=\"white-space:pre;overflow-x:auto;line-height:normal;font-family:Menlo,'DejaVu Sans Mono',consolas,'Courier New',monospace\"><span style=\"color: #7fbfbf; text-decoration-color: #7fbfbf\">           </span><span style=\"color: #000080; text-decoration-color: #000080\">INFO    </span> Sending tasks to collaborator <span style=\"color: #008080; text-decoration-color: #008080; font-weight: bold\">2</span> for round <span style=\"color: #008080; text-decoration-color: #008080; font-weight: bold\">0</span>                                                                                <a href=\"file:///home/avinash123/anaconda3/lib/python3.9/site-packages/openfl/component/aggregator/aggregator.py\" target=\"_blank\"><span style=\"color: #7f7f7f; text-decoration-color: #7f7f7f\">aggregator.py</span></a><span style=\"color: #7f7f7f; text-decoration-color: #7f7f7f\">:</span><a href=\"file:///home/avinash123/anaconda3/lib/python3.9/site-packages/openfl/component/aggregator/aggregator.py#329\" target=\"_blank\"><span style=\"color: #7f7f7f; text-decoration-color: #7f7f7f\">329</span></a>\n",
       "</pre>\n"
      ],
      "text/plain": [
       "\u001b[2;36m          \u001b[0m\u001b[2;36m \u001b[0m\u001b[34mINFO    \u001b[0m Sending tasks to collaborator \u001b[1;36m2\u001b[0m for round \u001b[1;36m0\u001b[0m                                                                                \u001b]8;id=570444;file:///home/avinash123/anaconda3/lib/python3.9/site-packages/openfl/component/aggregator/aggregator.py\u001b\\\u001b[2maggregator.py\u001b[0m\u001b]8;;\u001b\\\u001b[2m:\u001b[0m\u001b]8;id=818492;file:///home/avinash123/anaconda3/lib/python3.9/site-packages/openfl/component/aggregator/aggregator.py#329\u001b\\\u001b[2m329\u001b[0m\u001b]8;;\u001b\\\n"
      ]
     },
     "metadata": {},
     "output_type": "display_data"
    },
    {
     "data": {
      "text/html": [
       "<pre style=\"white-space:pre;overflow-x:auto;line-height:normal;font-family:Menlo,'DejaVu Sans Mono',consolas,'Courier New',monospace\"><span style=\"color: #7fbfbf; text-decoration-color: #7fbfbf\">           </span><span style=\"color: #000080; text-decoration-color: #000080\">INFO    </span> Received the following tasks: <span style=\"font-weight: bold\">[</span><span style=\"color: #008000; text-decoration-color: #008000\">'aggregated_model_validation'</span>, <span style=\"color: #008000; text-decoration-color: #008000\">'train'</span>, <span style=\"color: #008000; text-decoration-color: #008000\">'locally_tuned_model_validation'</span><span style=\"font-weight: bold\">]</span>                 <a href=\"file:///home/avinash123/anaconda3/lib/python3.9/site-packages/openfl/component/collaborator/collaborator.py\" target=\"_blank\"><span style=\"color: #7f7f7f; text-decoration-color: #7f7f7f\">collaborator.py</span></a><span style=\"color: #7f7f7f; text-decoration-color: #7f7f7f\">:</span><a href=\"file:///home/avinash123/anaconda3/lib/python3.9/site-packages/openfl/component/collaborator/collaborator.py#168\" target=\"_blank\"><span style=\"color: #7f7f7f; text-decoration-color: #7f7f7f\">168</span></a>\n",
       "</pre>\n"
      ],
      "text/plain": [
       "\u001b[2;36m          \u001b[0m\u001b[2;36m \u001b[0m\u001b[34mINFO    \u001b[0m Received the following tasks: \u001b[1m[\u001b[0m\u001b[32m'aggregated_model_validation'\u001b[0m, \u001b[32m'train'\u001b[0m, \u001b[32m'locally_tuned_model_validation'\u001b[0m\u001b[1m]\u001b[0m                 \u001b]8;id=969470;file:///home/avinash123/anaconda3/lib/python3.9/site-packages/openfl/component/collaborator/collaborator.py\u001b\\\u001b[2mcollaborator.py\u001b[0m\u001b]8;;\u001b\\\u001b[2m:\u001b[0m\u001b]8;id=830268;file:///home/avinash123/anaconda3/lib/python3.9/site-packages/openfl/component/collaborator/collaborator.py#168\u001b\\\u001b[2m168\u001b[0m\u001b]8;;\u001b\\\n"
      ]
     },
     "metadata": {},
     "output_type": "display_data"
    },
    {
     "data": {
      "text/html": [
       "<pre style=\"white-space:pre;overflow-x:auto;line-height:normal;font-family:Menlo,'DejaVu Sans Mono',consolas,'Courier New',monospace\"><span style=\"color: #7fbfbf; text-decoration-color: #7fbfbf\">[18:41:18] </span><span style=\"color: #000080; text-decoration-color: #000080\">INFO    </span> Using TaskRunner subclassing API                                                                                         <a href=\"file:///home/avinash123/anaconda3/lib/python3.9/site-packages/openfl/component/collaborator/collaborator.py\" target=\"_blank\"><span style=\"color: #7f7f7f; text-decoration-color: #7f7f7f\">collaborator.py</span></a><span style=\"color: #7f7f7f; text-decoration-color: #7f7f7f\">:</span><a href=\"file:///home/avinash123/anaconda3/lib/python3.9/site-packages/openfl/component/collaborator/collaborator.py#253\" target=\"_blank\"><span style=\"color: #7f7f7f; text-decoration-color: #7f7f7f\">253</span></a>\n",
       "</pre>\n"
      ],
      "text/plain": [
       "\u001b[2;36m[18:41:18]\u001b[0m\u001b[2;36m \u001b[0m\u001b[34mINFO    \u001b[0m Using TaskRunner subclassing API                                                                                         \u001b]8;id=352700;file:///home/avinash123/anaconda3/lib/python3.9/site-packages/openfl/component/collaborator/collaborator.py\u001b\\\u001b[2mcollaborator.py\u001b[0m\u001b]8;;\u001b\\\u001b[2m:\u001b[0m\u001b]8;id=783179;file:///home/avinash123/anaconda3/lib/python3.9/site-packages/openfl/component/collaborator/collaborator.py#253\u001b\\\u001b[2m253\u001b[0m\u001b]8;;\u001b\\\n"
      ]
     },
     "metadata": {},
     "output_type": "display_data"
    },
    {
     "name": "stderr",
     "output_type": "stream",
     "text": [
      "/home/avinash123/anaconda3/lib/python3.9/site-packages/openfl/federated/task/runner_pt.py:107: UserWarning: To copy construct from a tensor, it is recommended to use sourceTensor.clone().detach() or sourceTensor.clone().detach().requires_grad_(True), rather than torch.tensor(sourceTensor).\n",
      "  data, target = pt.tensor(data).to(self.device), pt.tensor(\n"
     ]
    },
    {
     "data": {
      "text/html": [
       "<pre style=\"white-space:pre;overflow-x:auto;line-height:normal;font-family:Menlo,'DejaVu Sans Mono',consolas,'Courier New',monospace\"><span style=\"color: #7fbfbf; text-decoration-color: #7fbfbf\">[18:41:19] </span>METRIC   Round <span style=\"color: #008080; text-decoration-color: #008080; font-weight: bold\">0</span>, collaborator <span style=\"color: #008080; text-decoration-color: #008080; font-weight: bold\">2</span> is sending metric for task aggregated_model_validation: acc     <span style=\"color: #008080; text-decoration-color: #008080; font-weight: bold\">0.121795</span>                         <a href=\"file:///home/avinash123/anaconda3/lib/python3.9/site-packages/openfl/component/collaborator/collaborator.py\" target=\"_blank\"><span style=\"color: #7f7f7f; text-decoration-color: #7f7f7f\">collaborator.py</span></a><span style=\"color: #7f7f7f; text-decoration-color: #7f7f7f\">:</span><a href=\"file:///home/avinash123/anaconda3/lib/python3.9/site-packages/openfl/component/collaborator/collaborator.py#415\" target=\"_blank\"><span style=\"color: #7f7f7f; text-decoration-color: #7f7f7f\">415</span></a>\n",
       "</pre>\n"
      ],
      "text/plain": [
       "\u001b[2;36m[18:41:19]\u001b[0m\u001b[2;36m \u001b[0mMETRIC   Round \u001b[1;36m0\u001b[0m, collaborator \u001b[1;36m2\u001b[0m is sending metric for task aggregated_model_validation: acc     \u001b[1;36m0.121795\u001b[0m                         \u001b]8;id=959257;file:///home/avinash123/anaconda3/lib/python3.9/site-packages/openfl/component/collaborator/collaborator.py\u001b\\\u001b[2mcollaborator.py\u001b[0m\u001b]8;;\u001b\\\u001b[2m:\u001b[0m\u001b]8;id=863457;file:///home/avinash123/anaconda3/lib/python3.9/site-packages/openfl/component/collaborator/collaborator.py#415\u001b\\\u001b[2m415\u001b[0m\u001b]8;;\u001b\\\n"
      ]
     },
     "metadata": {},
     "output_type": "display_data"
    },
    {
     "data": {
      "text/html": [
       "<pre style=\"white-space:pre;overflow-x:auto;line-height:normal;font-family:Menlo,'DejaVu Sans Mono',consolas,'Courier New',monospace\"><span style=\"color: #7fbfbf; text-decoration-color: #7fbfbf\">           </span><span style=\"color: #000080; text-decoration-color: #000080\">INFO    </span> Collaborator <span style=\"color: #008080; text-decoration-color: #008080; font-weight: bold\">2</span> is sending task results for aggregated_model_validation, round <span style=\"color: #008080; text-decoration-color: #008080; font-weight: bold\">0</span>                                            <a href=\"file:///home/avinash123/anaconda3/lib/python3.9/site-packages/openfl/component/aggregator/aggregator.py\" target=\"_blank\"><span style=\"color: #7f7f7f; text-decoration-color: #7f7f7f\">aggregator.py</span></a><span style=\"color: #7f7f7f; text-decoration-color: #7f7f7f\">:</span><a href=\"file:///home/avinash123/anaconda3/lib/python3.9/site-packages/openfl/component/aggregator/aggregator.py#520\" target=\"_blank\"><span style=\"color: #7f7f7f; text-decoration-color: #7f7f7f\">520</span></a>\n",
       "</pre>\n"
      ],
      "text/plain": [
       "\u001b[2;36m          \u001b[0m\u001b[2;36m \u001b[0m\u001b[34mINFO    \u001b[0m Collaborator \u001b[1;36m2\u001b[0m is sending task results for aggregated_model_validation, round \u001b[1;36m0\u001b[0m                                            \u001b]8;id=599266;file:///home/avinash123/anaconda3/lib/python3.9/site-packages/openfl/component/aggregator/aggregator.py\u001b\\\u001b[2maggregator.py\u001b[0m\u001b]8;;\u001b\\\u001b[2m:\u001b[0m\u001b]8;id=742452;file:///home/avinash123/anaconda3/lib/python3.9/site-packages/openfl/component/aggregator/aggregator.py#520\u001b\\\u001b[2m520\u001b[0m\u001b]8;;\u001b\\\n"
      ]
     },
     "metadata": {},
     "output_type": "display_data"
    },
    {
     "data": {
      "text/html": [
       "<pre style=\"white-space:pre;overflow-x:auto;line-height:normal;font-family:Menlo,'DejaVu Sans Mono',consolas,'Courier New',monospace\"><span style=\"color: #7fbfbf; text-decoration-color: #7fbfbf\">           </span>METRIC   Round <span style=\"color: #008080; text-decoration-color: #008080; font-weight: bold\">0</span>, collaborator validate_agg aggregated_model_validation result acc:      <span style=\"color: #008080; text-decoration-color: #008080; font-weight: bold\">0.121795</span>                                   <a href=\"file:///home/avinash123/anaconda3/lib/python3.9/site-packages/openfl/component/aggregator/aggregator.py\" target=\"_blank\"><span style=\"color: #7f7f7f; text-decoration-color: #7f7f7f\">aggregator.py</span></a><span style=\"color: #7f7f7f; text-decoration-color: #7f7f7f\">:</span><a href=\"file:///home/avinash123/anaconda3/lib/python3.9/site-packages/openfl/component/aggregator/aggregator.py#559\" target=\"_blank\"><span style=\"color: #7f7f7f; text-decoration-color: #7f7f7f\">559</span></a>\n",
       "</pre>\n"
      ],
      "text/plain": [
       "\u001b[2;36m          \u001b[0m\u001b[2;36m \u001b[0mMETRIC   Round \u001b[1;36m0\u001b[0m, collaborator validate_agg aggregated_model_validation result acc:      \u001b[1;36m0.121795\u001b[0m                                   \u001b]8;id=334206;file:///home/avinash123/anaconda3/lib/python3.9/site-packages/openfl/component/aggregator/aggregator.py\u001b\\\u001b[2maggregator.py\u001b[0m\u001b]8;;\u001b\\\u001b[2m:\u001b[0m\u001b]8;id=5395;file:///home/avinash123/anaconda3/lib/python3.9/site-packages/openfl/component/aggregator/aggregator.py#559\u001b\\\u001b[2m559\u001b[0m\u001b]8;;\u001b\\\n"
      ]
     },
     "metadata": {},
     "output_type": "display_data"
    },
    {
     "data": {
      "text/html": [
       "<pre style=\"white-space:pre;overflow-x:auto;line-height:normal;font-family:Menlo,'DejaVu Sans Mono',consolas,'Courier New',monospace\"><span style=\"color: #7fbfbf; text-decoration-color: #7fbfbf\">           </span><span style=\"color: #000080; text-decoration-color: #000080\">INFO    </span> Using TaskRunner subclassing API                                                                                         <a href=\"file:///home/avinash123/anaconda3/lib/python3.9/site-packages/openfl/component/collaborator/collaborator.py\" target=\"_blank\"><span style=\"color: #7f7f7f; text-decoration-color: #7f7f7f\">collaborator.py</span></a><span style=\"color: #7f7f7f; text-decoration-color: #7f7f7f\">:</span><a href=\"file:///home/avinash123/anaconda3/lib/python3.9/site-packages/openfl/component/collaborator/collaborator.py#253\" target=\"_blank\"><span style=\"color: #7f7f7f; text-decoration-color: #7f7f7f\">253</span></a>\n",
       "</pre>\n"
      ],
      "text/plain": [
       "\u001b[2;36m          \u001b[0m\u001b[2;36m \u001b[0m\u001b[34mINFO    \u001b[0m Using TaskRunner subclassing API                                                                                         \u001b]8;id=687965;file:///home/avinash123/anaconda3/lib/python3.9/site-packages/openfl/component/collaborator/collaborator.py\u001b\\\u001b[2mcollaborator.py\u001b[0m\u001b]8;;\u001b\\\u001b[2m:\u001b[0m\u001b]8;id=180167;file:///home/avinash123/anaconda3/lib/python3.9/site-packages/openfl/component/collaborator/collaborator.py#253\u001b\\\u001b[2m253\u001b[0m\u001b]8;;\u001b\\\n"
      ]
     },
     "metadata": {},
     "output_type": "display_data"
    },
    {
     "data": {
      "text/html": [
       "<pre style=\"white-space:pre;overflow-x:auto;line-height:normal;font-family:Menlo,'DejaVu Sans Mono',consolas,'Courier New',monospace\"><span style=\"color: #7fbfbf; text-decoration-color: #7fbfbf\">           </span><span style=\"color: #000080; text-decoration-color: #000080\">INFO    </span> Run <span style=\"color: #008080; text-decoration-color: #008080; font-weight: bold\">0</span> epoch of <span style=\"color: #008080; text-decoration-color: #008080; font-weight: bold\">0</span> round                                                                                                      <a href=\"file:///home/avinash123/anaconda3/lib/python3.9/site-packages/openfl/federated/task/runner_pt.py\" target=\"_blank\"><span style=\"color: #7f7f7f; text-decoration-color: #7f7f7f\">runner_pt.py</span></a><span style=\"color: #7f7f7f; text-decoration-color: #7f7f7f\">:</span><a href=\"file:///home/avinash123/anaconda3/lib/python3.9/site-packages/openfl/federated/task/runner_pt.py#155\" target=\"_blank\"><span style=\"color: #7f7f7f; text-decoration-color: #7f7f7f\">155</span></a>\n",
       "</pre>\n"
      ],
      "text/plain": [
       "\u001b[2;36m          \u001b[0m\u001b[2;36m \u001b[0m\u001b[34mINFO    \u001b[0m Run \u001b[1;36m0\u001b[0m epoch of \u001b[1;36m0\u001b[0m round                                                                                                      \u001b]8;id=790951;file:///home/avinash123/anaconda3/lib/python3.9/site-packages/openfl/federated/task/runner_pt.py\u001b\\\u001b[2mrunner_pt.py\u001b[0m\u001b]8;;\u001b\\\u001b[2m:\u001b[0m\u001b]8;id=813371;file:///home/avinash123/anaconda3/lib/python3.9/site-packages/openfl/federated/task/runner_pt.py#155\u001b\\\u001b[2m155\u001b[0m\u001b]8;;\u001b\\\n"
      ]
     },
     "metadata": {},
     "output_type": "display_data"
    },
    {
     "name": "stderr",
     "output_type": "stream",
     "text": [
      "/home/avinash123/anaconda3/lib/python3.9/site-packages/openfl/federated/task/runner_pt.py:458: UserWarning: To copy construct from a tensor, it is recommended to use sourceTensor.clone().detach() or sourceTensor.clone().detach().requires_grad_(True), rather than torch.tensor(sourceTensor).\n",
      "  data, target = pt.tensor(data).to(self.device), pt.tensor(\n"
     ]
    },
    {
     "data": {
      "text/html": [
       "<pre style=\"white-space:pre;overflow-x:auto;line-height:normal;font-family:Menlo,'DejaVu Sans Mono',consolas,'Courier New',monospace\"><span style=\"color: #7fbfbf; text-decoration-color: #7fbfbf\">[18:41:23] </span>METRIC   Round <span style=\"color: #008080; text-decoration-color: #008080; font-weight: bold\">0</span>, collaborator <span style=\"color: #008080; text-decoration-color: #008080; font-weight: bold\">2</span> is sending metric for task train: cross_entropy <span style=\"color: #008080; text-decoration-color: #008080; font-weight: bold\">0.471585</span>                                         <a href=\"file:///home/avinash123/anaconda3/lib/python3.9/site-packages/openfl/component/collaborator/collaborator.py\" target=\"_blank\"><span style=\"color: #7f7f7f; text-decoration-color: #7f7f7f\">collaborator.py</span></a><span style=\"color: #7f7f7f; text-decoration-color: #7f7f7f\">:</span><a href=\"file:///home/avinash123/anaconda3/lib/python3.9/site-packages/openfl/component/collaborator/collaborator.py#415\" target=\"_blank\"><span style=\"color: #7f7f7f; text-decoration-color: #7f7f7f\">415</span></a>\n",
       "</pre>\n"
      ],
      "text/plain": [
       "\u001b[2;36m[18:41:23]\u001b[0m\u001b[2;36m \u001b[0mMETRIC   Round \u001b[1;36m0\u001b[0m, collaborator \u001b[1;36m2\u001b[0m is sending metric for task train: cross_entropy \u001b[1;36m0.471585\u001b[0m                                         \u001b]8;id=845979;file:///home/avinash123/anaconda3/lib/python3.9/site-packages/openfl/component/collaborator/collaborator.py\u001b\\\u001b[2mcollaborator.py\u001b[0m\u001b]8;;\u001b\\\u001b[2m:\u001b[0m\u001b]8;id=470747;file:///home/avinash123/anaconda3/lib/python3.9/site-packages/openfl/component/collaborator/collaborator.py#415\u001b\\\u001b[2m415\u001b[0m\u001b]8;;\u001b\\\n"
      ]
     },
     "metadata": {},
     "output_type": "display_data"
    },
    {
     "data": {
      "text/html": [
       "<pre style=\"white-space:pre;overflow-x:auto;line-height:normal;font-family:Menlo,'DejaVu Sans Mono',consolas,'Courier New',monospace\"><span style=\"color: #7fbfbf; text-decoration-color: #7fbfbf\">           </span><span style=\"color: #000080; text-decoration-color: #000080\">INFO    </span> Collaborator <span style=\"color: #008080; text-decoration-color: #008080; font-weight: bold\">2</span> is sending task results for train, round <span style=\"color: #008080; text-decoration-color: #008080; font-weight: bold\">0</span>                                                                  <a href=\"file:///home/avinash123/anaconda3/lib/python3.9/site-packages/openfl/component/aggregator/aggregator.py\" target=\"_blank\"><span style=\"color: #7f7f7f; text-decoration-color: #7f7f7f\">aggregator.py</span></a><span style=\"color: #7f7f7f; text-decoration-color: #7f7f7f\">:</span><a href=\"file:///home/avinash123/anaconda3/lib/python3.9/site-packages/openfl/component/aggregator/aggregator.py#520\" target=\"_blank\"><span style=\"color: #7f7f7f; text-decoration-color: #7f7f7f\">520</span></a>\n",
       "</pre>\n"
      ],
      "text/plain": [
       "\u001b[2;36m          \u001b[0m\u001b[2;36m \u001b[0m\u001b[34mINFO    \u001b[0m Collaborator \u001b[1;36m2\u001b[0m is sending task results for train, round \u001b[1;36m0\u001b[0m                                                                  \u001b]8;id=350040;file:///home/avinash123/anaconda3/lib/python3.9/site-packages/openfl/component/aggregator/aggregator.py\u001b\\\u001b[2maggregator.py\u001b[0m\u001b]8;;\u001b\\\u001b[2m:\u001b[0m\u001b]8;id=559226;file:///home/avinash123/anaconda3/lib/python3.9/site-packages/openfl/component/aggregator/aggregator.py#520\u001b\\\u001b[2m520\u001b[0m\u001b]8;;\u001b\\\n"
      ]
     },
     "metadata": {},
     "output_type": "display_data"
    },
    {
     "data": {
      "text/html": [
       "<pre style=\"white-space:pre;overflow-x:auto;line-height:normal;font-family:Menlo,'DejaVu Sans Mono',consolas,'Courier New',monospace\"><span style=\"color: #7fbfbf; text-decoration-color: #7fbfbf\">           </span>METRIC   Round <span style=\"color: #008080; text-decoration-color: #008080; font-weight: bold\">0</span>, collaborator metric train result cross_entropy:        <span style=\"color: #008080; text-decoration-color: #008080; font-weight: bold\">0.471585</span>                                                   <a href=\"file:///home/avinash123/anaconda3/lib/python3.9/site-packages/openfl/component/aggregator/aggregator.py\" target=\"_blank\"><span style=\"color: #7f7f7f; text-decoration-color: #7f7f7f\">aggregator.py</span></a><span style=\"color: #7f7f7f; text-decoration-color: #7f7f7f\">:</span><a href=\"file:///home/avinash123/anaconda3/lib/python3.9/site-packages/openfl/component/aggregator/aggregator.py#559\" target=\"_blank\"><span style=\"color: #7f7f7f; text-decoration-color: #7f7f7f\">559</span></a>\n",
       "</pre>\n"
      ],
      "text/plain": [
       "\u001b[2;36m          \u001b[0m\u001b[2;36m \u001b[0mMETRIC   Round \u001b[1;36m0\u001b[0m, collaborator metric train result cross_entropy:        \u001b[1;36m0.471585\u001b[0m                                                   \u001b]8;id=708531;file:///home/avinash123/anaconda3/lib/python3.9/site-packages/openfl/component/aggregator/aggregator.py\u001b\\\u001b[2maggregator.py\u001b[0m\u001b]8;;\u001b\\\u001b[2m:\u001b[0m\u001b]8;id=511365;file:///home/avinash123/anaconda3/lib/python3.9/site-packages/openfl/component/aggregator/aggregator.py#559\u001b\\\u001b[2m559\u001b[0m\u001b]8;;\u001b\\\n"
      ]
     },
     "metadata": {},
     "output_type": "display_data"
    },
    {
     "data": {
      "text/html": [
       "<pre style=\"white-space:pre;overflow-x:auto;line-height:normal;font-family:Menlo,'DejaVu Sans Mono',consolas,'Courier New',monospace\"><span style=\"color: #7fbfbf; text-decoration-color: #7fbfbf\">[18:41:24] </span><span style=\"color: #000080; text-decoration-color: #000080\">INFO    </span> Using TaskRunner subclassing API                                                                                         <a href=\"file:///home/avinash123/anaconda3/lib/python3.9/site-packages/openfl/component/collaborator/collaborator.py\" target=\"_blank\"><span style=\"color: #7f7f7f; text-decoration-color: #7f7f7f\">collaborator.py</span></a><span style=\"color: #7f7f7f; text-decoration-color: #7f7f7f\">:</span><a href=\"file:///home/avinash123/anaconda3/lib/python3.9/site-packages/openfl/component/collaborator/collaborator.py#253\" target=\"_blank\"><span style=\"color: #7f7f7f; text-decoration-color: #7f7f7f\">253</span></a>\n",
       "</pre>\n"
      ],
      "text/plain": [
       "\u001b[2;36m[18:41:24]\u001b[0m\u001b[2;36m \u001b[0m\u001b[34mINFO    \u001b[0m Using TaskRunner subclassing API                                                                                         \u001b]8;id=840171;file:///home/avinash123/anaconda3/lib/python3.9/site-packages/openfl/component/collaborator/collaborator.py\u001b\\\u001b[2mcollaborator.py\u001b[0m\u001b]8;;\u001b\\\u001b[2m:\u001b[0m\u001b]8;id=266200;file:///home/avinash123/anaconda3/lib/python3.9/site-packages/openfl/component/collaborator/collaborator.py#253\u001b\\\u001b[2m253\u001b[0m\u001b]8;;\u001b\\\n"
      ]
     },
     "metadata": {},
     "output_type": "display_data"
    },
    {
     "name": "stderr",
     "output_type": "stream",
     "text": [
      "/home/avinash123/anaconda3/lib/python3.9/site-packages/openfl/federated/task/runner_pt.py:107: UserWarning: To copy construct from a tensor, it is recommended to use sourceTensor.clone().detach() or sourceTensor.clone().detach().requires_grad_(True), rather than torch.tensor(sourceTensor).\n",
      "  data, target = pt.tensor(data).to(self.device), pt.tensor(\n"
     ]
    },
    {
     "data": {
      "text/html": [
       "<pre style=\"white-space:pre;overflow-x:auto;line-height:normal;font-family:Menlo,'DejaVu Sans Mono',consolas,'Courier New',monospace\"><span style=\"color: #7fbfbf; text-decoration-color: #7fbfbf\">[18:41:25] </span>METRIC   Round <span style=\"color: #008080; text-decoration-color: #008080; font-weight: bold\">0</span>, collaborator <span style=\"color: #008080; text-decoration-color: #008080; font-weight: bold\">2</span> is sending metric for task locally_tuned_model_validation: acc  <span style=\"color: #008080; text-decoration-color: #008080; font-weight: bold\">0.589744</span>                         <a href=\"file:///home/avinash123/anaconda3/lib/python3.9/site-packages/openfl/component/collaborator/collaborator.py\" target=\"_blank\"><span style=\"color: #7f7f7f; text-decoration-color: #7f7f7f\">collaborator.py</span></a><span style=\"color: #7f7f7f; text-decoration-color: #7f7f7f\">:</span><a href=\"file:///home/avinash123/anaconda3/lib/python3.9/site-packages/openfl/component/collaborator/collaborator.py#415\" target=\"_blank\"><span style=\"color: #7f7f7f; text-decoration-color: #7f7f7f\">415</span></a>\n",
       "</pre>\n"
      ],
      "text/plain": [
       "\u001b[2;36m[18:41:25]\u001b[0m\u001b[2;36m \u001b[0mMETRIC   Round \u001b[1;36m0\u001b[0m, collaborator \u001b[1;36m2\u001b[0m is sending metric for task locally_tuned_model_validation: acc  \u001b[1;36m0.589744\u001b[0m                         \u001b]8;id=657820;file:///home/avinash123/anaconda3/lib/python3.9/site-packages/openfl/component/collaborator/collaborator.py\u001b\\\u001b[2mcollaborator.py\u001b[0m\u001b]8;;\u001b\\\u001b[2m:\u001b[0m\u001b]8;id=401249;file:///home/avinash123/anaconda3/lib/python3.9/site-packages/openfl/component/collaborator/collaborator.py#415\u001b\\\u001b[2m415\u001b[0m\u001b]8;;\u001b\\\n"
      ]
     },
     "metadata": {},
     "output_type": "display_data"
    },
    {
     "data": {
      "text/html": [
       "<pre style=\"white-space:pre;overflow-x:auto;line-height:normal;font-family:Menlo,'DejaVu Sans Mono',consolas,'Courier New',monospace\"><span style=\"color: #7fbfbf; text-decoration-color: #7fbfbf\">           </span><span style=\"color: #000080; text-decoration-color: #000080\">INFO    </span> Collaborator <span style=\"color: #008080; text-decoration-color: #008080; font-weight: bold\">2</span> is sending task results for locally_tuned_model_validation, round <span style=\"color: #008080; text-decoration-color: #008080; font-weight: bold\">0</span>                                         <a href=\"file:///home/avinash123/anaconda3/lib/python3.9/site-packages/openfl/component/aggregator/aggregator.py\" target=\"_blank\"><span style=\"color: #7f7f7f; text-decoration-color: #7f7f7f\">aggregator.py</span></a><span style=\"color: #7f7f7f; text-decoration-color: #7f7f7f\">:</span><a href=\"file:///home/avinash123/anaconda3/lib/python3.9/site-packages/openfl/component/aggregator/aggregator.py#520\" target=\"_blank\"><span style=\"color: #7f7f7f; text-decoration-color: #7f7f7f\">520</span></a>\n",
       "</pre>\n"
      ],
      "text/plain": [
       "\u001b[2;36m          \u001b[0m\u001b[2;36m \u001b[0m\u001b[34mINFO    \u001b[0m Collaborator \u001b[1;36m2\u001b[0m is sending task results for locally_tuned_model_validation, round \u001b[1;36m0\u001b[0m                                         \u001b]8;id=305950;file:///home/avinash123/anaconda3/lib/python3.9/site-packages/openfl/component/aggregator/aggregator.py\u001b\\\u001b[2maggregator.py\u001b[0m\u001b]8;;\u001b\\\u001b[2m:\u001b[0m\u001b]8;id=228263;file:///home/avinash123/anaconda3/lib/python3.9/site-packages/openfl/component/aggregator/aggregator.py#520\u001b\\\u001b[2m520\u001b[0m\u001b]8;;\u001b\\\n"
      ]
     },
     "metadata": {},
     "output_type": "display_data"
    },
    {
     "data": {
      "text/html": [
       "<pre style=\"white-space:pre;overflow-x:auto;line-height:normal;font-family:Menlo,'DejaVu Sans Mono',consolas,'Courier New',monospace\"><span style=\"color: #7fbfbf; text-decoration-color: #7fbfbf\">           </span>METRIC   Round <span style=\"color: #008080; text-decoration-color: #008080; font-weight: bold\">0</span>, collaborator validate_local locally_tuned_model_validation result acc: <span style=\"color: #008080; text-decoration-color: #008080; font-weight: bold\">0.589744</span>                                   <a href=\"file:///home/avinash123/anaconda3/lib/python3.9/site-packages/openfl/component/aggregator/aggregator.py\" target=\"_blank\"><span style=\"color: #7f7f7f; text-decoration-color: #7f7f7f\">aggregator.py</span></a><span style=\"color: #7f7f7f; text-decoration-color: #7f7f7f\">:</span><a href=\"file:///home/avinash123/anaconda3/lib/python3.9/site-packages/openfl/component/aggregator/aggregator.py#559\" target=\"_blank\"><span style=\"color: #7f7f7f; text-decoration-color: #7f7f7f\">559</span></a>\n",
       "</pre>\n"
      ],
      "text/plain": [
       "\u001b[2;36m          \u001b[0m\u001b[2;36m \u001b[0mMETRIC   Round \u001b[1;36m0\u001b[0m, collaborator validate_local locally_tuned_model_validation result acc: \u001b[1;36m0.589744\u001b[0m                                   \u001b]8;id=151739;file:///home/avinash123/anaconda3/lib/python3.9/site-packages/openfl/component/aggregator/aggregator.py\u001b\\\u001b[2maggregator.py\u001b[0m\u001b]8;;\u001b\\\u001b[2m:\u001b[0m\u001b]8;id=998948;file:///home/avinash123/anaconda3/lib/python3.9/site-packages/openfl/component/aggregator/aggregator.py#559\u001b\\\u001b[2m559\u001b[0m\u001b]8;;\u001b\\\n"
      ]
     },
     "metadata": {},
     "output_type": "display_data"
    },
    {
     "data": {
      "text/html": [
       "<pre style=\"white-space:pre;overflow-x:auto;line-height:normal;font-family:Menlo,'DejaVu Sans Mono',consolas,'Courier New',monospace\"><span style=\"color: #7fbfbf; text-decoration-color: #7fbfbf\">           </span><span style=\"color: #000080; text-decoration-color: #000080\">INFO    </span> All tasks completed on <span style=\"color: #008080; text-decoration-color: #008080; font-weight: bold\">2</span> for round <span style=\"color: #008080; text-decoration-color: #008080; font-weight: bold\">0</span><span style=\"color: #808000; text-decoration-color: #808000\">...</span>                                                                                  <a href=\"file:///home/avinash123/anaconda3/lib/python3.9/site-packages/openfl/component/collaborator/collaborator.py\" target=\"_blank\"><span style=\"color: #7f7f7f; text-decoration-color: #7f7f7f\">collaborator.py</span></a><span style=\"color: #7f7f7f; text-decoration-color: #7f7f7f\">:</span><a href=\"file:///home/avinash123/anaconda3/lib/python3.9/site-packages/openfl/component/collaborator/collaborator.py#171\" target=\"_blank\"><span style=\"color: #7f7f7f; text-decoration-color: #7f7f7f\">171</span></a>\n",
       "</pre>\n"
      ],
      "text/plain": [
       "\u001b[2;36m          \u001b[0m\u001b[2;36m \u001b[0m\u001b[34mINFO    \u001b[0m All tasks completed on \u001b[1;36m2\u001b[0m for round \u001b[1;36m0\u001b[0m\u001b[33m...\u001b[0m                                                                                  \u001b]8;id=345273;file:///home/avinash123/anaconda3/lib/python3.9/site-packages/openfl/component/collaborator/collaborator.py\u001b\\\u001b[2mcollaborator.py\u001b[0m\u001b]8;;\u001b\\\u001b[2m:\u001b[0m\u001b]8;id=789763;file:///home/avinash123/anaconda3/lib/python3.9/site-packages/openfl/component/collaborator/collaborator.py#171\u001b\\\u001b[2m171\u001b[0m\u001b]8;;\u001b\\\n"
      ]
     },
     "metadata": {},
     "output_type": "display_data"
    },
    {
     "data": {
      "text/html": [
       "<pre style=\"white-space:pre;overflow-x:auto;line-height:normal;font-family:Menlo,'DejaVu Sans Mono',consolas,'Courier New',monospace\"><span style=\"color: #7fbfbf; text-decoration-color: #7fbfbf\">           </span><span style=\"color: #000080; text-decoration-color: #000080\">INFO    </span> Waiting for tasks<span style=\"color: #808000; text-decoration-color: #808000\">...</span>                                                                                                     <a href=\"file:///home/avinash123/anaconda3/lib/python3.9/site-packages/openfl/component/collaborator/collaborator.py\" target=\"_blank\"><span style=\"color: #7f7f7f; text-decoration-color: #7f7f7f\">collaborator.py</span></a><span style=\"color: #7f7f7f; text-decoration-color: #7f7f7f\">:</span><a href=\"file:///home/avinash123/anaconda3/lib/python3.9/site-packages/openfl/component/collaborator/collaborator.py#178\" target=\"_blank\"><span style=\"color: #7f7f7f; text-decoration-color: #7f7f7f\">178</span></a>\n",
       "</pre>\n"
      ],
      "text/plain": [
       "\u001b[2;36m          \u001b[0m\u001b[2;36m \u001b[0m\u001b[34mINFO    \u001b[0m Waiting for tasks\u001b[33m...\u001b[0m                                                                                                     \u001b]8;id=622324;file:///home/avinash123/anaconda3/lib/python3.9/site-packages/openfl/component/collaborator/collaborator.py\u001b\\\u001b[2mcollaborator.py\u001b[0m\u001b]8;;\u001b\\\u001b[2m:\u001b[0m\u001b]8;id=818165;file:///home/avinash123/anaconda3/lib/python3.9/site-packages/openfl/component/collaborator/collaborator.py#178\u001b\\\u001b[2m178\u001b[0m\u001b]8;;\u001b\\\n"
      ]
     },
     "metadata": {},
     "output_type": "display_data"
    },
    {
     "data": {
      "text/html": [
       "<pre style=\"white-space:pre;overflow-x:auto;line-height:normal;font-family:Menlo,'DejaVu Sans Mono',consolas,'Courier New',monospace\"><span style=\"color: #7fbfbf; text-decoration-color: #7fbfbf\">           </span><span style=\"color: #000080; text-decoration-color: #000080\">INFO    </span> Sending tasks to collaborator <span style=\"color: #008080; text-decoration-color: #008080; font-weight: bold\">3</span> for round <span style=\"color: #008080; text-decoration-color: #008080; font-weight: bold\">0</span>                                                                                <a href=\"file:///home/avinash123/anaconda3/lib/python3.9/site-packages/openfl/component/aggregator/aggregator.py\" target=\"_blank\"><span style=\"color: #7f7f7f; text-decoration-color: #7f7f7f\">aggregator.py</span></a><span style=\"color: #7f7f7f; text-decoration-color: #7f7f7f\">:</span><a href=\"file:///home/avinash123/anaconda3/lib/python3.9/site-packages/openfl/component/aggregator/aggregator.py#329\" target=\"_blank\"><span style=\"color: #7f7f7f; text-decoration-color: #7f7f7f\">329</span></a>\n",
       "</pre>\n"
      ],
      "text/plain": [
       "\u001b[2;36m          \u001b[0m\u001b[2;36m \u001b[0m\u001b[34mINFO    \u001b[0m Sending tasks to collaborator \u001b[1;36m3\u001b[0m for round \u001b[1;36m0\u001b[0m                                                                                \u001b]8;id=183267;file:///home/avinash123/anaconda3/lib/python3.9/site-packages/openfl/component/aggregator/aggregator.py\u001b\\\u001b[2maggregator.py\u001b[0m\u001b]8;;\u001b\\\u001b[2m:\u001b[0m\u001b]8;id=481272;file:///home/avinash123/anaconda3/lib/python3.9/site-packages/openfl/component/aggregator/aggregator.py#329\u001b\\\u001b[2m329\u001b[0m\u001b]8;;\u001b\\\n"
      ]
     },
     "metadata": {},
     "output_type": "display_data"
    },
    {
     "data": {
      "text/html": [
       "<pre style=\"white-space:pre;overflow-x:auto;line-height:normal;font-family:Menlo,'DejaVu Sans Mono',consolas,'Courier New',monospace\"><span style=\"color: #7fbfbf; text-decoration-color: #7fbfbf\">           </span><span style=\"color: #000080; text-decoration-color: #000080\">INFO    </span> Received the following tasks: <span style=\"font-weight: bold\">[</span><span style=\"color: #008000; text-decoration-color: #008000\">'aggregated_model_validation'</span>, <span style=\"color: #008000; text-decoration-color: #008000\">'train'</span>, <span style=\"color: #008000; text-decoration-color: #008000\">'locally_tuned_model_validation'</span><span style=\"font-weight: bold\">]</span>                 <a href=\"file:///home/avinash123/anaconda3/lib/python3.9/site-packages/openfl/component/collaborator/collaborator.py\" target=\"_blank\"><span style=\"color: #7f7f7f; text-decoration-color: #7f7f7f\">collaborator.py</span></a><span style=\"color: #7f7f7f; text-decoration-color: #7f7f7f\">:</span><a href=\"file:///home/avinash123/anaconda3/lib/python3.9/site-packages/openfl/component/collaborator/collaborator.py#168\" target=\"_blank\"><span style=\"color: #7f7f7f; text-decoration-color: #7f7f7f\">168</span></a>\n",
       "</pre>\n"
      ],
      "text/plain": [
       "\u001b[2;36m          \u001b[0m\u001b[2;36m \u001b[0m\u001b[34mINFO    \u001b[0m Received the following tasks: \u001b[1m[\u001b[0m\u001b[32m'aggregated_model_validation'\u001b[0m, \u001b[32m'train'\u001b[0m, \u001b[32m'locally_tuned_model_validation'\u001b[0m\u001b[1m]\u001b[0m                 \u001b]8;id=953201;file:///home/avinash123/anaconda3/lib/python3.9/site-packages/openfl/component/collaborator/collaborator.py\u001b\\\u001b[2mcollaborator.py\u001b[0m\u001b]8;;\u001b\\\u001b[2m:\u001b[0m\u001b]8;id=989133;file:///home/avinash123/anaconda3/lib/python3.9/site-packages/openfl/component/collaborator/collaborator.py#168\u001b\\\u001b[2m168\u001b[0m\u001b]8;;\u001b\\\n"
      ]
     },
     "metadata": {},
     "output_type": "display_data"
    },
    {
     "data": {
      "text/html": [
       "<pre style=\"white-space:pre;overflow-x:auto;line-height:normal;font-family:Menlo,'DejaVu Sans Mono',consolas,'Courier New',monospace\"><span style=\"color: #7fbfbf; text-decoration-color: #7fbfbf\">           </span><span style=\"color: #000080; text-decoration-color: #000080\">INFO    </span> Using TaskRunner subclassing API                                                                                         <a href=\"file:///home/avinash123/anaconda3/lib/python3.9/site-packages/openfl/component/collaborator/collaborator.py\" target=\"_blank\"><span style=\"color: #7f7f7f; text-decoration-color: #7f7f7f\">collaborator.py</span></a><span style=\"color: #7f7f7f; text-decoration-color: #7f7f7f\">:</span><a href=\"file:///home/avinash123/anaconda3/lib/python3.9/site-packages/openfl/component/collaborator/collaborator.py#253\" target=\"_blank\"><span style=\"color: #7f7f7f; text-decoration-color: #7f7f7f\">253</span></a>\n",
       "</pre>\n"
      ],
      "text/plain": [
       "\u001b[2;36m          \u001b[0m\u001b[2;36m \u001b[0m\u001b[34mINFO    \u001b[0m Using TaskRunner subclassing API                                                                                         \u001b]8;id=548395;file:///home/avinash123/anaconda3/lib/python3.9/site-packages/openfl/component/collaborator/collaborator.py\u001b\\\u001b[2mcollaborator.py\u001b[0m\u001b]8;;\u001b\\\u001b[2m:\u001b[0m\u001b]8;id=459631;file:///home/avinash123/anaconda3/lib/python3.9/site-packages/openfl/component/collaborator/collaborator.py#253\u001b\\\u001b[2m253\u001b[0m\u001b]8;;\u001b\\\n"
      ]
     },
     "metadata": {},
     "output_type": "display_data"
    },
    {
     "name": "stderr",
     "output_type": "stream",
     "text": [
      "/home/avinash123/anaconda3/lib/python3.9/site-packages/openfl/federated/task/runner_pt.py:107: UserWarning: To copy construct from a tensor, it is recommended to use sourceTensor.clone().detach() or sourceTensor.clone().detach().requires_grad_(True), rather than torch.tensor(sourceTensor).\n",
      "  data, target = pt.tensor(data).to(self.device), pt.tensor(\n"
     ]
    },
    {
     "data": {
      "text/html": [
       "<pre style=\"white-space:pre;overflow-x:auto;line-height:normal;font-family:Menlo,'DejaVu Sans Mono',consolas,'Courier New',monospace\"><span style=\"color: #7fbfbf; text-decoration-color: #7fbfbf\">[18:41:26] </span>METRIC   Round <span style=\"color: #008080; text-decoration-color: #008080; font-weight: bold\">0</span>, collaborator <span style=\"color: #008080; text-decoration-color: #008080; font-weight: bold\">3</span> is sending metric for task aggregated_model_validation: acc     <span style=\"color: #008080; text-decoration-color: #008080; font-weight: bold\">0.083333</span>                         <a href=\"file:///home/avinash123/anaconda3/lib/python3.9/site-packages/openfl/component/collaborator/collaborator.py\" target=\"_blank\"><span style=\"color: #7f7f7f; text-decoration-color: #7f7f7f\">collaborator.py</span></a><span style=\"color: #7f7f7f; text-decoration-color: #7f7f7f\">:</span><a href=\"file:///home/avinash123/anaconda3/lib/python3.9/site-packages/openfl/component/collaborator/collaborator.py#415\" target=\"_blank\"><span style=\"color: #7f7f7f; text-decoration-color: #7f7f7f\">415</span></a>\n",
       "</pre>\n"
      ],
      "text/plain": [
       "\u001b[2;36m[18:41:26]\u001b[0m\u001b[2;36m \u001b[0mMETRIC   Round \u001b[1;36m0\u001b[0m, collaborator \u001b[1;36m3\u001b[0m is sending metric for task aggregated_model_validation: acc     \u001b[1;36m0.083333\u001b[0m                         \u001b]8;id=658476;file:///home/avinash123/anaconda3/lib/python3.9/site-packages/openfl/component/collaborator/collaborator.py\u001b\\\u001b[2mcollaborator.py\u001b[0m\u001b]8;;\u001b\\\u001b[2m:\u001b[0m\u001b]8;id=807366;file:///home/avinash123/anaconda3/lib/python3.9/site-packages/openfl/component/collaborator/collaborator.py#415\u001b\\\u001b[2m415\u001b[0m\u001b]8;;\u001b\\\n"
      ]
     },
     "metadata": {},
     "output_type": "display_data"
    },
    {
     "data": {
      "text/html": [
       "<pre style=\"white-space:pre;overflow-x:auto;line-height:normal;font-family:Menlo,'DejaVu Sans Mono',consolas,'Courier New',monospace\"><span style=\"color: #7fbfbf; text-decoration-color: #7fbfbf\">           </span><span style=\"color: #000080; text-decoration-color: #000080\">INFO    </span> Collaborator <span style=\"color: #008080; text-decoration-color: #008080; font-weight: bold\">3</span> is sending task results for aggregated_model_validation, round <span style=\"color: #008080; text-decoration-color: #008080; font-weight: bold\">0</span>                                            <a href=\"file:///home/avinash123/anaconda3/lib/python3.9/site-packages/openfl/component/aggregator/aggregator.py\" target=\"_blank\"><span style=\"color: #7f7f7f; text-decoration-color: #7f7f7f\">aggregator.py</span></a><span style=\"color: #7f7f7f; text-decoration-color: #7f7f7f\">:</span><a href=\"file:///home/avinash123/anaconda3/lib/python3.9/site-packages/openfl/component/aggregator/aggregator.py#520\" target=\"_blank\"><span style=\"color: #7f7f7f; text-decoration-color: #7f7f7f\">520</span></a>\n",
       "</pre>\n"
      ],
      "text/plain": [
       "\u001b[2;36m          \u001b[0m\u001b[2;36m \u001b[0m\u001b[34mINFO    \u001b[0m Collaborator \u001b[1;36m3\u001b[0m is sending task results for aggregated_model_validation, round \u001b[1;36m0\u001b[0m                                            \u001b]8;id=717449;file:///home/avinash123/anaconda3/lib/python3.9/site-packages/openfl/component/aggregator/aggregator.py\u001b\\\u001b[2maggregator.py\u001b[0m\u001b]8;;\u001b\\\u001b[2m:\u001b[0m\u001b]8;id=813886;file:///home/avinash123/anaconda3/lib/python3.9/site-packages/openfl/component/aggregator/aggregator.py#520\u001b\\\u001b[2m520\u001b[0m\u001b]8;;\u001b\\\n"
      ]
     },
     "metadata": {},
     "output_type": "display_data"
    },
    {
     "data": {
      "text/html": [
       "<pre style=\"white-space:pre;overflow-x:auto;line-height:normal;font-family:Menlo,'DejaVu Sans Mono',consolas,'Courier New',monospace\"><span style=\"color: #7fbfbf; text-decoration-color: #7fbfbf\">           </span>METRIC   Round <span style=\"color: #008080; text-decoration-color: #008080; font-weight: bold\">0</span>, collaborator validate_agg aggregated_model_validation result acc:      <span style=\"color: #008080; text-decoration-color: #008080; font-weight: bold\">0.083333</span>                                   <a href=\"file:///home/avinash123/anaconda3/lib/python3.9/site-packages/openfl/component/aggregator/aggregator.py\" target=\"_blank\"><span style=\"color: #7f7f7f; text-decoration-color: #7f7f7f\">aggregator.py</span></a><span style=\"color: #7f7f7f; text-decoration-color: #7f7f7f\">:</span><a href=\"file:///home/avinash123/anaconda3/lib/python3.9/site-packages/openfl/component/aggregator/aggregator.py#559\" target=\"_blank\"><span style=\"color: #7f7f7f; text-decoration-color: #7f7f7f\">559</span></a>\n",
       "</pre>\n"
      ],
      "text/plain": [
       "\u001b[2;36m          \u001b[0m\u001b[2;36m \u001b[0mMETRIC   Round \u001b[1;36m0\u001b[0m, collaborator validate_agg aggregated_model_validation result acc:      \u001b[1;36m0.083333\u001b[0m                                   \u001b]8;id=353476;file:///home/avinash123/anaconda3/lib/python3.9/site-packages/openfl/component/aggregator/aggregator.py\u001b\\\u001b[2maggregator.py\u001b[0m\u001b]8;;\u001b\\\u001b[2m:\u001b[0m\u001b]8;id=169473;file:///home/avinash123/anaconda3/lib/python3.9/site-packages/openfl/component/aggregator/aggregator.py#559\u001b\\\u001b[2m559\u001b[0m\u001b]8;;\u001b\\\n"
      ]
     },
     "metadata": {},
     "output_type": "display_data"
    },
    {
     "data": {
      "text/html": [
       "<pre style=\"white-space:pre;overflow-x:auto;line-height:normal;font-family:Menlo,'DejaVu Sans Mono',consolas,'Courier New',monospace\"><span style=\"color: #7fbfbf; text-decoration-color: #7fbfbf\">           </span><span style=\"color: #000080; text-decoration-color: #000080\">INFO    </span> Using TaskRunner subclassing API                                                                                         <a href=\"file:///home/avinash123/anaconda3/lib/python3.9/site-packages/openfl/component/collaborator/collaborator.py\" target=\"_blank\"><span style=\"color: #7f7f7f; text-decoration-color: #7f7f7f\">collaborator.py</span></a><span style=\"color: #7f7f7f; text-decoration-color: #7f7f7f\">:</span><a href=\"file:///home/avinash123/anaconda3/lib/python3.9/site-packages/openfl/component/collaborator/collaborator.py#253\" target=\"_blank\"><span style=\"color: #7f7f7f; text-decoration-color: #7f7f7f\">253</span></a>\n",
       "</pre>\n"
      ],
      "text/plain": [
       "\u001b[2;36m          \u001b[0m\u001b[2;36m \u001b[0m\u001b[34mINFO    \u001b[0m Using TaskRunner subclassing API                                                                                         \u001b]8;id=528624;file:///home/avinash123/anaconda3/lib/python3.9/site-packages/openfl/component/collaborator/collaborator.py\u001b\\\u001b[2mcollaborator.py\u001b[0m\u001b]8;;\u001b\\\u001b[2m:\u001b[0m\u001b]8;id=206500;file:///home/avinash123/anaconda3/lib/python3.9/site-packages/openfl/component/collaborator/collaborator.py#253\u001b\\\u001b[2m253\u001b[0m\u001b]8;;\u001b\\\n"
      ]
     },
     "metadata": {},
     "output_type": "display_data"
    },
    {
     "data": {
      "text/html": [
       "<pre style=\"white-space:pre;overflow-x:auto;line-height:normal;font-family:Menlo,'DejaVu Sans Mono',consolas,'Courier New',monospace\"><span style=\"color: #7fbfbf; text-decoration-color: #7fbfbf\">           </span><span style=\"color: #000080; text-decoration-color: #000080\">INFO    </span> Run <span style=\"color: #008080; text-decoration-color: #008080; font-weight: bold\">0</span> epoch of <span style=\"color: #008080; text-decoration-color: #008080; font-weight: bold\">0</span> round                                                                                                      <a href=\"file:///home/avinash123/anaconda3/lib/python3.9/site-packages/openfl/federated/task/runner_pt.py\" target=\"_blank\"><span style=\"color: #7f7f7f; text-decoration-color: #7f7f7f\">runner_pt.py</span></a><span style=\"color: #7f7f7f; text-decoration-color: #7f7f7f\">:</span><a href=\"file:///home/avinash123/anaconda3/lib/python3.9/site-packages/openfl/federated/task/runner_pt.py#155\" target=\"_blank\"><span style=\"color: #7f7f7f; text-decoration-color: #7f7f7f\">155</span></a>\n",
       "</pre>\n"
      ],
      "text/plain": [
       "\u001b[2;36m          \u001b[0m\u001b[2;36m \u001b[0m\u001b[34mINFO    \u001b[0m Run \u001b[1;36m0\u001b[0m epoch of \u001b[1;36m0\u001b[0m round                                                                                                      \u001b]8;id=533244;file:///home/avinash123/anaconda3/lib/python3.9/site-packages/openfl/federated/task/runner_pt.py\u001b\\\u001b[2mrunner_pt.py\u001b[0m\u001b]8;;\u001b\\\u001b[2m:\u001b[0m\u001b]8;id=586702;file:///home/avinash123/anaconda3/lib/python3.9/site-packages/openfl/federated/task/runner_pt.py#155\u001b\\\u001b[2m155\u001b[0m\u001b]8;;\u001b\\\n"
      ]
     },
     "metadata": {},
     "output_type": "display_data"
    },
    {
     "name": "stderr",
     "output_type": "stream",
     "text": [
      "/home/avinash123/anaconda3/lib/python3.9/site-packages/openfl/federated/task/runner_pt.py:458: UserWarning: To copy construct from a tensor, it is recommended to use sourceTensor.clone().detach() or sourceTensor.clone().detach().requires_grad_(True), rather than torch.tensor(sourceTensor).\n",
      "  data, target = pt.tensor(data).to(self.device), pt.tensor(\n"
     ]
    },
    {
     "data": {
      "text/html": [
       "<pre style=\"white-space:pre;overflow-x:auto;line-height:normal;font-family:Menlo,'DejaVu Sans Mono',consolas,'Courier New',monospace\"><span style=\"color: #7fbfbf; text-decoration-color: #7fbfbf\">[18:41:31] </span>METRIC   Round <span style=\"color: #008080; text-decoration-color: #008080; font-weight: bold\">0</span>, collaborator <span style=\"color: #008080; text-decoration-color: #008080; font-weight: bold\">3</span> is sending metric for task train: cross_entropy <span style=\"color: #008080; text-decoration-color: #008080; font-weight: bold\">0.470487</span>                                         <a href=\"file:///home/avinash123/anaconda3/lib/python3.9/site-packages/openfl/component/collaborator/collaborator.py\" target=\"_blank\"><span style=\"color: #7f7f7f; text-decoration-color: #7f7f7f\">collaborator.py</span></a><span style=\"color: #7f7f7f; text-decoration-color: #7f7f7f\">:</span><a href=\"file:///home/avinash123/anaconda3/lib/python3.9/site-packages/openfl/component/collaborator/collaborator.py#415\" target=\"_blank\"><span style=\"color: #7f7f7f; text-decoration-color: #7f7f7f\">415</span></a>\n",
       "</pre>\n"
      ],
      "text/plain": [
       "\u001b[2;36m[18:41:31]\u001b[0m\u001b[2;36m \u001b[0mMETRIC   Round \u001b[1;36m0\u001b[0m, collaborator \u001b[1;36m3\u001b[0m is sending metric for task train: cross_entropy \u001b[1;36m0.470487\u001b[0m                                         \u001b]8;id=600267;file:///home/avinash123/anaconda3/lib/python3.9/site-packages/openfl/component/collaborator/collaborator.py\u001b\\\u001b[2mcollaborator.py\u001b[0m\u001b]8;;\u001b\\\u001b[2m:\u001b[0m\u001b]8;id=266606;file:///home/avinash123/anaconda3/lib/python3.9/site-packages/openfl/component/collaborator/collaborator.py#415\u001b\\\u001b[2m415\u001b[0m\u001b]8;;\u001b\\\n"
      ]
     },
     "metadata": {},
     "output_type": "display_data"
    },
    {
     "data": {
      "text/html": [
       "<pre style=\"white-space:pre;overflow-x:auto;line-height:normal;font-family:Menlo,'DejaVu Sans Mono',consolas,'Courier New',monospace\"><span style=\"color: #7fbfbf; text-decoration-color: #7fbfbf\">           </span><span style=\"color: #000080; text-decoration-color: #000080\">INFO    </span> Collaborator <span style=\"color: #008080; text-decoration-color: #008080; font-weight: bold\">3</span> is sending task results for train, round <span style=\"color: #008080; text-decoration-color: #008080; font-weight: bold\">0</span>                                                                  <a href=\"file:///home/avinash123/anaconda3/lib/python3.9/site-packages/openfl/component/aggregator/aggregator.py\" target=\"_blank\"><span style=\"color: #7f7f7f; text-decoration-color: #7f7f7f\">aggregator.py</span></a><span style=\"color: #7f7f7f; text-decoration-color: #7f7f7f\">:</span><a href=\"file:///home/avinash123/anaconda3/lib/python3.9/site-packages/openfl/component/aggregator/aggregator.py#520\" target=\"_blank\"><span style=\"color: #7f7f7f; text-decoration-color: #7f7f7f\">520</span></a>\n",
       "</pre>\n"
      ],
      "text/plain": [
       "\u001b[2;36m          \u001b[0m\u001b[2;36m \u001b[0m\u001b[34mINFO    \u001b[0m Collaborator \u001b[1;36m3\u001b[0m is sending task results for train, round \u001b[1;36m0\u001b[0m                                                                  \u001b]8;id=807698;file:///home/avinash123/anaconda3/lib/python3.9/site-packages/openfl/component/aggregator/aggregator.py\u001b\\\u001b[2maggregator.py\u001b[0m\u001b]8;;\u001b\\\u001b[2m:\u001b[0m\u001b]8;id=779208;file:///home/avinash123/anaconda3/lib/python3.9/site-packages/openfl/component/aggregator/aggregator.py#520\u001b\\\u001b[2m520\u001b[0m\u001b]8;;\u001b\\\n"
      ]
     },
     "metadata": {},
     "output_type": "display_data"
    }
   ],
   "source": [
    "final_fl_model = fx.run_experiment(experiment_collaborators, override_config={\"aggregator.settings.rounds_to_train\": 5})"
   ]
  },
  {
   "cell_type": "markdown",
   "id": "275a734d",
   "metadata": {},
   "source": [
    "We get a model with validation score = 67% ( for 2 clients)\n",
    "We get a model with validation score = 55% ( 3 epochs, 5 clients)\n"
   ]
  },
  {
   "cell_type": "code",
   "execution_count": null,
   "id": "2664d2b6",
   "metadata": {},
   "outputs": [],
   "source": []
  }
 ],
 "metadata": {
  "kernelspec": {
   "display_name": "Python 3 (ipykernel)",
   "language": "python",
   "name": "python3"
  },
  "language_info": {
   "codemirror_mode": {
    "name": "ipython",
    "version": 3
   },
   "file_extension": ".py",
   "mimetype": "text/x-python",
   "name": "python",
   "nbconvert_exporter": "python",
   "pygments_lexer": "ipython3",
   "version": "3.9.12"
  }
 },
 "nbformat": 4,
 "nbformat_minor": 5
}
